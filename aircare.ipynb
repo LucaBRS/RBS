{
 "cells": [
  {
   "cell_type": "markdown",
   "source": [
    "* device_id: l'identificatore univoco\n",
    "\n",
    "\n",
    "* iaq (Indoor Air Quality): misura o un indice che valuta la qualità dell'aria interna. Calcolato considerando diversi parametri come la concentrazione di particelle in sospensione, la presenza di composti chimici nocivi o altre metriche legate alla qualità dell'aria.\n",
    "* * trovare il valore appropriato e chiedere se è inversamente proporzionale o meno\n",
    "\n",
    "\n",
    "\n",
    "* electrosmog_lf: riferimento alla misura o alla quantità di elettrosmog a bassa frequenza nell'ambiente. L'elettrosmog si riferisce alle radiazioni elettromagnetiche prodotte da dispositivi elettronici o reti wireless. La misura potrebbe indicare la quantità di radiazioni elettromagnetiche presenti nell'ambiente.\n",
    "\n",
    "\n",
    "* wifi_level: il livello di segnale o la potenza del segnale WiFi nell'ambiente. In dBm (decibel-milliwatt) o in un'altra scala di misura. Questa informazione può essere utile per valutare la copertura o la qualità del segnale WiFi nelle diverse aree dell'ufficio o dell'edificio.\n",
    "\n",
    "\n",
    "* wifi_n: numero di reti WiFi rilevate o disponibili nell'ambiente. Indica la quantità di reti wireless presenti nelle vicinanze del dispositivo di rilevamento.\n",
    "\n",
    "\n",
    "* temperature: temperatura ambientale nell'area monitorata.\n",
    "\n",
    "\n",
    "* humidity: l'umidità relativa dell'aria nell'ambiente. L'umidità relativa si riferisce alla quantità di vapore acqueo presente nell'aria rispetto alla massima quantità che l'aria potrebbe contenere a una determinata temperatura.\n",
    "\n",
    "\n",
    "* air_pressure: pressione atmosferica nell'ambiente. La pressione atmosferica è la forza esercitata dall'atmosfera sulla superficie terrestre e viene misurata solitamente in unità come Pascal (Pa) o millibar (mbar).\n",
    "\n",
    "\n",
    "* ambient_light: livello di luce ambientale nell'ambiente. Potrebbe essere espresso in unità di illuminazione come lux o in una scala relativa.\n",
    "\n",
    "\n",
    "* tvoc (Total Volatile Organic Compounds): indicazione della qualità dell'aria in relazione alla presenza di composti organici volatili. I composti organici volatili sono sostanze chimiche che possono essere rilasciate nell'aria da materiali o attività presenti nell'ambiente. Alcuni esempi di composti organici volatili includono formaldeide, benzene, toluene e altri idrocarburi. Un livello elevato di TVOC potrebbe indicare una possibile presenza di inquinanti nell'aria, che potrebbero influire sulla qualità dell'ambiente interno.\n",
    "\n",
    "\n",
    "Normalizzazione delle variabili:\n",
    "\n",
    "Normalizza la temperatura (T) nell'intervallo da 0 a 1: T_norm = (T - T_min) / (T_max - T_min)\n",
    "Normalizza l'umidità (H) nell'intervallo da 0 a 1: H_norm = (H - H_min) / (H_max - H_min)\n",
    "Calcolo del punteggio dell'IAQ:\n",
    "\n",
    "Assegna un peso alla temperatura (w_T) e all'umidità (w_H).\n",
    "Calcola il punteggio dell'IAQ (IAQ_score) come la media ponderata dei valori normalizzati: IAQ_score = w_T * T_norm + w_H * H_norm\n",
    "\n",
    "--------------------------------------------------------------------------\n",
    "capire se c'è correlazione dei dati interni e dati esterni con stessi periodi etc...correlazione diretta o indiretta\n",
    "\n",
    "predittiva--> cosa succede nei prossimi mesi...\n",
    "    what if analysis se temp sale 1 grado cosa accade aglei altri parametri, correlazione tra i vari parametri\n",
    "    anomaly detection, dati 2 3 anni di dati capire se ci sono eventi che vanno fuori il comportamento attes--->costruire modello comportamentale \"standard\" e trovari i picchi...\n"
   ],
   "metadata": {
    "collapsed": false
   }
  },
  {
   "cell_type": "code",
   "execution_count": 1,
   "outputs": [
    {
     "name": "stdout",
     "output_type": "stream",
     "text": [
      "CAP133_1\n"
     ]
    },
    {
     "name": "stderr",
     "output_type": "stream",
     "text": [
      "C:\\Users\\lucab\\Documents\\Python\\Assignement_RBS\\parsing_table.py:56: SettingWithCopyWarning: \n",
      "A value is trying to be set on a copy of a slice from a DataFrame\n",
      "\n",
      "See the caveats in the documentation: https://pandas.pydata.org/pandas-docs/stable/user_guide/indexing.html#returning-a-view-versus-a-copy\n",
      "  res.loc[res.notna()] = pd.to_numeric(res.loc[res.notna()], errors='coerce')\n",
      "C:\\Users\\lucab\\Documents\\Python\\Assignement_RBS\\parsing_table.py:50: SettingWithCopyWarning: \n",
      "A value is trying to be set on a copy of a slice from a DataFrame\n",
      "\n",
      "See the caveats in the documentation: https://pandas.pydata.org/pandas-docs/stable/user_guide/indexing.html#returning-a-view-versus-a-copy\n",
      "  res.loc[res.notna()] = res.loc[res.notna()].apply(ParsingTable.date_converter)\n",
      "C:\\Users\\lucab\\Documents\\Python\\Assignement_RBS\\parsing_table.py:92: DtypeWarning: Columns (13,14,18) have mixed types. Specify dtype option on import or set low_memory=False.\n",
      "  df = pd.read_csv(str(path),\n",
      "C:\\Users\\lucab\\Documents\\Python\\Assignement_RBS\\parsing_table.py:56: SettingWithCopyWarning: \n",
      "A value is trying to be set on a copy of a slice from a DataFrame\n",
      "\n",
      "See the caveats in the documentation: https://pandas.pydata.org/pandas-docs/stable/user_guide/indexing.html#returning-a-view-versus-a-copy\n",
      "  res.loc[res.notna()] = pd.to_numeric(res.loc[res.notna()], errors='coerce')\n"
     ]
    },
    {
     "name": "stdout",
     "output_type": "stream",
     "text": [
      "CAP133_2\n"
     ]
    },
    {
     "name": "stderr",
     "output_type": "stream",
     "text": [
      "C:\\Users\\lucab\\Documents\\Python\\Assignement_RBS\\parsing_table.py:50: SettingWithCopyWarning: \n",
      "A value is trying to be set on a copy of a slice from a DataFrame\n",
      "\n",
      "See the caveats in the documentation: https://pandas.pydata.org/pandas-docs/stable/user_guide/indexing.html#returning-a-view-versus-a-copy\n",
      "  res.loc[res.notna()] = res.loc[res.notna()].apply(ParsingTable.date_converter)\n",
      "C:\\Users\\lucab\\Documents\\Python\\Assignement_RBS\\parsing_table.py:56: SettingWithCopyWarning: \n",
      "A value is trying to be set on a copy of a slice from a DataFrame\n",
      "\n",
      "See the caveats in the documentation: https://pandas.pydata.org/pandas-docs/stable/user_guide/indexing.html#returning-a-view-versus-a-copy\n",
      "  res.loc[res.notna()] = pd.to_numeric(res.loc[res.notna()], errors='coerce')\n"
     ]
    },
    {
     "name": "stdout",
     "output_type": "stream",
     "text": [
      "CAP133_3\n"
     ]
    },
    {
     "name": "stderr",
     "output_type": "stream",
     "text": [
      "C:\\Users\\lucab\\Documents\\Python\\Assignement_RBS\\parsing_table.py:50: SettingWithCopyWarning: \n",
      "A value is trying to be set on a copy of a slice from a DataFrame\n",
      "\n",
      "See the caveats in the documentation: https://pandas.pydata.org/pandas-docs/stable/user_guide/indexing.html#returning-a-view-versus-a-copy\n",
      "  res.loc[res.notna()] = res.loc[res.notna()].apply(ParsingTable.date_converter)\n"
     ]
    },
    {
     "name": "stdout",
     "output_type": "stream",
     "text": [
      "CAP153_1\n"
     ]
    },
    {
     "name": "stderr",
     "output_type": "stream",
     "text": [
      "C:\\Users\\lucab\\Documents\\Python\\Assignement_RBS\\parsing_table.py:92: DtypeWarning: Columns (11,12,13,14,15,16,17,18,19,21) have mixed types. Specify dtype option on import or set low_memory=False.\n",
      "  df = pd.read_csv(str(path),\n",
      "C:\\Users\\lucab\\Documents\\Python\\Assignement_RBS\\parsing_table.py:56: SettingWithCopyWarning: \n",
      "A value is trying to be set on a copy of a slice from a DataFrame\n",
      "\n",
      "See the caveats in the documentation: https://pandas.pydata.org/pandas-docs/stable/user_guide/indexing.html#returning-a-view-versus-a-copy\n",
      "  res.loc[res.notna()] = pd.to_numeric(res.loc[res.notna()], errors='coerce')\n",
      "C:\\Users\\lucab\\Documents\\Python\\Assignement_RBS\\parsing_table.py:56: SettingWithCopyWarning: \n",
      "A value is trying to be set on a copy of a slice from a DataFrame\n",
      "\n",
      "See the caveats in the documentation: https://pandas.pydata.org/pandas-docs/stable/user_guide/indexing.html#returning-a-view-versus-a-copy\n",
      "  res.loc[res.notna()] = pd.to_numeric(res.loc[res.notna()], errors='coerce')\n",
      "C:\\Users\\lucab\\Documents\\Python\\Assignement_RBS\\parsing_table.py:56: SettingWithCopyWarning: \n",
      "A value is trying to be set on a copy of a slice from a DataFrame\n",
      "\n",
      "See the caveats in the documentation: https://pandas.pydata.org/pandas-docs/stable/user_guide/indexing.html#returning-a-view-versus-a-copy\n",
      "  res.loc[res.notna()] = pd.to_numeric(res.loc[res.notna()], errors='coerce')\n",
      "C:\\Users\\lucab\\Documents\\Python\\Assignement_RBS\\parsing_table.py:50: SettingWithCopyWarning: \n",
      "A value is trying to be set on a copy of a slice from a DataFrame\n",
      "\n",
      "See the caveats in the documentation: https://pandas.pydata.org/pandas-docs/stable/user_guide/indexing.html#returning-a-view-versus-a-copy\n",
      "  res.loc[res.notna()] = res.loc[res.notna()].apply(ParsingTable.date_converter)\n"
     ]
    },
    {
     "name": "stdout",
     "output_type": "stream",
     "text": [
      "CAP153_2\n"
     ]
    },
    {
     "name": "stderr",
     "output_type": "stream",
     "text": [
      "C:\\Users\\lucab\\Documents\\Python\\Assignement_RBS\\parsing_table.py:50: SettingWithCopyWarning: \n",
      "A value is trying to be set on a copy of a slice from a DataFrame\n",
      "\n",
      "See the caveats in the documentation: https://pandas.pydata.org/pandas-docs/stable/user_guide/indexing.html#returning-a-view-versus-a-copy\n",
      "  res.loc[res.notna()] = res.loc[res.notna()].apply(ParsingTable.date_converter)\n"
     ]
    },
    {
     "name": "stdout",
     "output_type": "stream",
     "text": [
      "CAP153_3\n"
     ]
    },
    {
     "name": "stderr",
     "output_type": "stream",
     "text": [
      "C:\\Users\\lucab\\Documents\\Python\\Assignement_RBS\\parsing_table.py:92: DtypeWarning: Columns (13,14,15,18,19) have mixed types. Specify dtype option on import or set low_memory=False.\n",
      "  df = pd.read_csv(str(path),\n",
      "C:\\Users\\lucab\\Documents\\Python\\Assignement_RBS\\parsing_table.py:56: SettingWithCopyWarning: \n",
      "A value is trying to be set on a copy of a slice from a DataFrame\n",
      "\n",
      "See the caveats in the documentation: https://pandas.pydata.org/pandas-docs/stable/user_guide/indexing.html#returning-a-view-versus-a-copy\n",
      "  res.loc[res.notna()] = pd.to_numeric(res.loc[res.notna()], errors='coerce')\n",
      "C:\\Users\\lucab\\Documents\\Python\\Assignement_RBS\\parsing_table.py:56: SettingWithCopyWarning: \n",
      "A value is trying to be set on a copy of a slice from a DataFrame\n",
      "\n",
      "See the caveats in the documentation: https://pandas.pydata.org/pandas-docs/stable/user_guide/indexing.html#returning-a-view-versus-a-copy\n",
      "  res.loc[res.notna()] = pd.to_numeric(res.loc[res.notna()], errors='coerce')\n",
      "C:\\Users\\lucab\\Documents\\Python\\Assignement_RBS\\parsing_table.py:56: SettingWithCopyWarning: \n",
      "A value is trying to be set on a copy of a slice from a DataFrame\n",
      "\n",
      "See the caveats in the documentation: https://pandas.pydata.org/pandas-docs/stable/user_guide/indexing.html#returning-a-view-versus-a-copy\n",
      "  res.loc[res.notna()] = pd.to_numeric(res.loc[res.notna()], errors='coerce')\n",
      "C:\\Users\\lucab\\Documents\\Python\\Assignement_RBS\\parsing_table.py:56: SettingWithCopyWarning: \n",
      "A value is trying to be set on a copy of a slice from a DataFrame\n",
      "\n",
      "See the caveats in the documentation: https://pandas.pydata.org/pandas-docs/stable/user_guide/indexing.html#returning-a-view-versus-a-copy\n",
      "  res.loc[res.notna()] = pd.to_numeric(res.loc[res.notna()], errors='coerce')\n",
      "C:\\Users\\lucab\\Documents\\Python\\Assignement_RBS\\parsing_table.py:56: SettingWithCopyWarning: \n",
      "A value is trying to be set on a copy of a slice from a DataFrame\n",
      "\n",
      "See the caveats in the documentation: https://pandas.pydata.org/pandas-docs/stable/user_guide/indexing.html#returning-a-view-versus-a-copy\n",
      "  res.loc[res.notna()] = pd.to_numeric(res.loc[res.notna()], errors='coerce')\n",
      "C:\\Users\\lucab\\Documents\\Python\\Assignement_RBS\\parsing_table.py:56: SettingWithCopyWarning: \n",
      "A value is trying to be set on a copy of a slice from a DataFrame\n",
      "\n",
      "See the caveats in the documentation: https://pandas.pydata.org/pandas-docs/stable/user_guide/indexing.html#returning-a-view-versus-a-copy\n",
      "  res.loc[res.notna()] = pd.to_numeric(res.loc[res.notna()], errors='coerce')\n",
      "C:\\Users\\lucab\\Documents\\Python\\Assignement_RBS\\parsing_table.py:56: SettingWithCopyWarning: \n",
      "A value is trying to be set on a copy of a slice from a DataFrame\n",
      "\n",
      "See the caveats in the documentation: https://pandas.pydata.org/pandas-docs/stable/user_guide/indexing.html#returning-a-view-versus-a-copy\n",
      "  res.loc[res.notna()] = pd.to_numeric(res.loc[res.notna()], errors='coerce')\n",
      "C:\\Users\\lucab\\Documents\\Python\\Assignement_RBS\\parsing_table.py:56: SettingWithCopyWarning: \n",
      "A value is trying to be set on a copy of a slice from a DataFrame\n",
      "\n",
      "See the caveats in the documentation: https://pandas.pydata.org/pandas-docs/stable/user_guide/indexing.html#returning-a-view-versus-a-copy\n",
      "  res.loc[res.notna()] = pd.to_numeric(res.loc[res.notna()], errors='coerce')\n",
      "C:\\Users\\lucab\\Documents\\Python\\Assignement_RBS\\parsing_table.py:56: SettingWithCopyWarning: \n",
      "A value is trying to be set on a copy of a slice from a DataFrame\n",
      "\n",
      "See the caveats in the documentation: https://pandas.pydata.org/pandas-docs/stable/user_guide/indexing.html#returning-a-view-versus-a-copy\n",
      "  res.loc[res.notna()] = pd.to_numeric(res.loc[res.notna()], errors='coerce')\n",
      "C:\\Users\\lucab\\Documents\\Python\\Assignement_RBS\\parsing_table.py:56: SettingWithCopyWarning: \n",
      "A value is trying to be set on a copy of a slice from a DataFrame\n",
      "\n",
      "See the caveats in the documentation: https://pandas.pydata.org/pandas-docs/stable/user_guide/indexing.html#returning-a-view-versus-a-copy\n",
      "  res.loc[res.notna()] = pd.to_numeric(res.loc[res.notna()], errors='coerce')\n",
      "C:\\Users\\lucab\\Documents\\Python\\Assignement_RBS\\parsing_table.py:56: SettingWithCopyWarning: \n",
      "A value is trying to be set on a copy of a slice from a DataFrame\n",
      "\n",
      "See the caveats in the documentation: https://pandas.pydata.org/pandas-docs/stable/user_guide/indexing.html#returning-a-view-versus-a-copy\n",
      "  res.loc[res.notna()] = pd.to_numeric(res.loc[res.notna()], errors='coerce')\n",
      "C:\\Users\\lucab\\Documents\\Python\\Assignement_RBS\\parsing_table.py:56: SettingWithCopyWarning: \n",
      "A value is trying to be set on a copy of a slice from a DataFrame\n",
      "\n",
      "See the caveats in the documentation: https://pandas.pydata.org/pandas-docs/stable/user_guide/indexing.html#returning-a-view-versus-a-copy\n",
      "  res.loc[res.notna()] = pd.to_numeric(res.loc[res.notna()], errors='coerce')\n",
      "C:\\Users\\lucab\\Documents\\Python\\Assignement_RBS\\parsing_table.py:56: SettingWithCopyWarning: \n",
      "A value is trying to be set on a copy of a slice from a DataFrame\n",
      "\n",
      "See the caveats in the documentation: https://pandas.pydata.org/pandas-docs/stable/user_guide/indexing.html#returning-a-view-versus-a-copy\n",
      "  res.loc[res.notna()] = pd.to_numeric(res.loc[res.notna()], errors='coerce')\n",
      "C:\\Users\\lucab\\Documents\\Python\\Assignement_RBS\\parsing_table.py:56: SettingWithCopyWarning: \n",
      "A value is trying to be set on a copy of a slice from a DataFrame\n",
      "\n",
      "See the caveats in the documentation: https://pandas.pydata.org/pandas-docs/stable/user_guide/indexing.html#returning-a-view-versus-a-copy\n",
      "  res.loc[res.notna()] = pd.to_numeric(res.loc[res.notna()], errors='coerce')\n",
      "C:\\Users\\lucab\\Documents\\Python\\Assignement_RBS\\parsing_table.py:50: SettingWithCopyWarning: \n",
      "A value is trying to be set on a copy of a slice from a DataFrame\n",
      "\n",
      "See the caveats in the documentation: https://pandas.pydata.org/pandas-docs/stable/user_guide/indexing.html#returning-a-view-versus-a-copy\n",
      "  res.loc[res.notna()] = res.loc[res.notna()].apply(ParsingTable.date_converter)\n"
     ]
    }
   ],
   "source": [
    "from parsing_table import ParsingTable\n",
    "from datetime import date\n",
    "\n",
    "import pandas as pd\n",
    "import numpy as np\n",
    "import os\n",
    "\n",
    "#cap133 fuori\n",
    "#cap153 centro\n",
    "################# OLD\n",
    "# path = './resources/'\n",
    "# save_path = './resources/clean_file/'\n",
    "# if not os.path.exists(save_path):\n",
    "#     os.mkdir(save_path)\n",
    "# dir_list = os.listdir(path)\n",
    "# pool = {}\n",
    "# for file in dir_list:\n",
    "#     if file.endswith('.csv'):\n",
    "#         temp:pd.DataFrame\n",
    "#         naming = file.split('.')[0].split('_')[1].replace('0', '') + '_' + file.split('.')[0].split('_')[0]\n",
    "#         print(naming)\n",
    "#         temp = pd.read_csv(path + file, engine='python')\n",
    "#         # first dataset cleaning\n",
    "#         temp = temp[temp['electrosmog'].astype(str).str.find('-') == -1]\n",
    "#         pool[naming] = temp\n",
    "#         temp.to_csv(save_path+naming+'.csv',index=False)\n",
    "#\n",
    "# date_format ='%Y-%m-%d %H:%M:%S'\n",
    "################\n",
    "\n",
    "input_path = './resources/clean_file/'\n",
    "dir_list = os.listdir(input_path)\n",
    "pool = {}\n",
    "pt= ParsingTable()\n",
    "for file in dir_list:\n",
    "    if file.endswith('.csv'):\n",
    "        temp: pd.DataFrame\n",
    "        naming = file.split('.')[0]\n",
    "        print(naming)\n",
    "        temp = pt.parse(input_path=input_path+file)\n",
    "        pool[naming] = temp\n",
    "\n"
   ],
   "metadata": {
    "collapsed": false,
    "ExecuteTime": {
     "end_time": "2023-08-14T08:22:27.194510700Z",
     "start_time": "2023-08-14T08:22:18.629821500Z"
    }
   }
  },
  {
   "cell_type": "code",
   "execution_count": 5,
   "outputs": [
    {
     "data": {
      "text/plain": "        device_id    iaq  electrosmog_lf  wifi_level  wifi_n  temperature   \n0             427   25.0           350.0       -57.0     9.0         22.3  \\\n1             427   25.0           330.0       -57.0    11.0         22.4   \n2             427   25.0           284.0       -58.0    16.0         22.8   \n3             427   25.0           294.0       -55.0    13.0         23.0   \n4             427   25.0           296.0       -56.0    13.0         23.2   \n...           ...    ...             ...         ...     ...          ...   \n176541        427  160.0           212.0       -63.0    18.0         28.2   \n176542        427  156.7           186.0       -61.0    16.0         28.2   \n176543        427  147.9           187.0       -60.0    19.0         28.2   \n176544        427  140.5           190.0       -63.0    20.0         28.2   \n176545        427  139.0           191.0       -63.0    24.0          NaN   \n\n        humidity  air_pressure  ambient_light   tvoc  ...  pm10  pm25  sound   \n0           43.3        1027.9           68.0    0.0  ...   8.0   7.0   58.8  \\\n1           42.2        1027.9           82.5    3.0  ...   8.0   7.0   63.6   \n2           39.7        1027.8           86.6    0.0  ...   9.0   8.0   57.6   \n3           38.7        1027.8           88.6    1.0  ...   7.0   6.0   56.7   \n4           38.3        1027.8           87.4    0.0  ...   8.0   7.0   61.6   \n...          ...           ...            ...    ...  ...   ...   ...    ...   \n176541      19.6        1031.5          113.8  459.0  ...  55.2   0.4    NaN   \n176542      19.6        1031.6          109.9  465.0  ...  53.8   0.3    NaN   \n176543      19.6        1031.6          106.5  481.0  ...  55.1   0.3    NaN   \n176544      19.5        1031.6          105.0  486.0  ...  53.2   0.3    NaN   \n176545       NaN           NaN            NaN    NaN  ...   NaN   NaN    NaN   \n\n       electrosmog_hf battery main_power    air comfort electrosmog   \n0                 0.3     low         on   75.0   100.0       100.0  \\\n1                 0.3     low         on   75.0   100.0       100.0   \n2                 0.3     low         on   88.0    78.0       100.0   \n3                 0.3     low         on   88.0    78.0       100.0   \n4                 0.4     low         on   88.0    78.0       100.0   \n...               ...     ...        ...    ...     ...         ...   \n176541            NaN      90         33  100.0     NaN         NaN   \n176542            NaN      90         33  100.0     NaN         NaN   \n176543            NaN     100         33  100.0     NaN         NaN   \n176544            NaN     100         33  100.0     NaN         NaN   \n176545            NaN     NaN        NaN    NaN     NaN         NaN   \n\n           rom_unixtime(ts)  \n0       2020-01-15 11:32:41  \n1       2020-01-15 11:34:02  \n2       2020-01-15 11:39:02  \n3       2020-01-15 11:44:00  \n4       2020-01-15 11:48:59  \n...                     ...  \n176541                  NaN  \n176542                  NaN  \n176543                  NaN  \n176544                  NaN  \n176545                  NaN  \n\n[176546 rows x 22 columns]",
      "text/html": "<div>\n<style scoped>\n    .dataframe tbody tr th:only-of-type {\n        vertical-align: middle;\n    }\n\n    .dataframe tbody tr th {\n        vertical-align: top;\n    }\n\n    .dataframe thead th {\n        text-align: right;\n    }\n</style>\n<table border=\"1\" class=\"dataframe\">\n  <thead>\n    <tr style=\"text-align: right;\">\n      <th></th>\n      <th>device_id</th>\n      <th>iaq</th>\n      <th>electrosmog_lf</th>\n      <th>wifi_level</th>\n      <th>wifi_n</th>\n      <th>temperature</th>\n      <th>humidity</th>\n      <th>air_pressure</th>\n      <th>ambient_light</th>\n      <th>tvoc</th>\n      <th>...</th>\n      <th>pm10</th>\n      <th>pm25</th>\n      <th>sound</th>\n      <th>electrosmog_hf</th>\n      <th>battery</th>\n      <th>main_power</th>\n      <th>air</th>\n      <th>comfort</th>\n      <th>electrosmog</th>\n      <th>rom_unixtime(ts)</th>\n    </tr>\n  </thead>\n  <tbody>\n    <tr>\n      <th>0</th>\n      <td>427</td>\n      <td>25.0</td>\n      <td>350.0</td>\n      <td>-57.0</td>\n      <td>9.0</td>\n      <td>22.3</td>\n      <td>43.3</td>\n      <td>1027.9</td>\n      <td>68.0</td>\n      <td>0.0</td>\n      <td>...</td>\n      <td>8.0</td>\n      <td>7.0</td>\n      <td>58.8</td>\n      <td>0.3</td>\n      <td>low</td>\n      <td>on</td>\n      <td>75.0</td>\n      <td>100.0</td>\n      <td>100.0</td>\n      <td>2020-01-15 11:32:41</td>\n    </tr>\n    <tr>\n      <th>1</th>\n      <td>427</td>\n      <td>25.0</td>\n      <td>330.0</td>\n      <td>-57.0</td>\n      <td>11.0</td>\n      <td>22.4</td>\n      <td>42.2</td>\n      <td>1027.9</td>\n      <td>82.5</td>\n      <td>3.0</td>\n      <td>...</td>\n      <td>8.0</td>\n      <td>7.0</td>\n      <td>63.6</td>\n      <td>0.3</td>\n      <td>low</td>\n      <td>on</td>\n      <td>75.0</td>\n      <td>100.0</td>\n      <td>100.0</td>\n      <td>2020-01-15 11:34:02</td>\n    </tr>\n    <tr>\n      <th>2</th>\n      <td>427</td>\n      <td>25.0</td>\n      <td>284.0</td>\n      <td>-58.0</td>\n      <td>16.0</td>\n      <td>22.8</td>\n      <td>39.7</td>\n      <td>1027.8</td>\n      <td>86.6</td>\n      <td>0.0</td>\n      <td>...</td>\n      <td>9.0</td>\n      <td>8.0</td>\n      <td>57.6</td>\n      <td>0.3</td>\n      <td>low</td>\n      <td>on</td>\n      <td>88.0</td>\n      <td>78.0</td>\n      <td>100.0</td>\n      <td>2020-01-15 11:39:02</td>\n    </tr>\n    <tr>\n      <th>3</th>\n      <td>427</td>\n      <td>25.0</td>\n      <td>294.0</td>\n      <td>-55.0</td>\n      <td>13.0</td>\n      <td>23.0</td>\n      <td>38.7</td>\n      <td>1027.8</td>\n      <td>88.6</td>\n      <td>1.0</td>\n      <td>...</td>\n      <td>7.0</td>\n      <td>6.0</td>\n      <td>56.7</td>\n      <td>0.3</td>\n      <td>low</td>\n      <td>on</td>\n      <td>88.0</td>\n      <td>78.0</td>\n      <td>100.0</td>\n      <td>2020-01-15 11:44:00</td>\n    </tr>\n    <tr>\n      <th>4</th>\n      <td>427</td>\n      <td>25.0</td>\n      <td>296.0</td>\n      <td>-56.0</td>\n      <td>13.0</td>\n      <td>23.2</td>\n      <td>38.3</td>\n      <td>1027.8</td>\n      <td>87.4</td>\n      <td>0.0</td>\n      <td>...</td>\n      <td>8.0</td>\n      <td>7.0</td>\n      <td>61.6</td>\n      <td>0.4</td>\n      <td>low</td>\n      <td>on</td>\n      <td>88.0</td>\n      <td>78.0</td>\n      <td>100.0</td>\n      <td>2020-01-15 11:48:59</td>\n    </tr>\n    <tr>\n      <th>...</th>\n      <td>...</td>\n      <td>...</td>\n      <td>...</td>\n      <td>...</td>\n      <td>...</td>\n      <td>...</td>\n      <td>...</td>\n      <td>...</td>\n      <td>...</td>\n      <td>...</td>\n      <td>...</td>\n      <td>...</td>\n      <td>...</td>\n      <td>...</td>\n      <td>...</td>\n      <td>...</td>\n      <td>...</td>\n      <td>...</td>\n      <td>...</td>\n      <td>...</td>\n      <td>...</td>\n    </tr>\n    <tr>\n      <th>176541</th>\n      <td>427</td>\n      <td>160.0</td>\n      <td>212.0</td>\n      <td>-63.0</td>\n      <td>18.0</td>\n      <td>28.2</td>\n      <td>19.6</td>\n      <td>1031.5</td>\n      <td>113.8</td>\n      <td>459.0</td>\n      <td>...</td>\n      <td>55.2</td>\n      <td>0.4</td>\n      <td>NaN</td>\n      <td>NaN</td>\n      <td>90</td>\n      <td>33</td>\n      <td>100.0</td>\n      <td>NaN</td>\n      <td>NaN</td>\n      <td>NaN</td>\n    </tr>\n    <tr>\n      <th>176542</th>\n      <td>427</td>\n      <td>156.7</td>\n      <td>186.0</td>\n      <td>-61.0</td>\n      <td>16.0</td>\n      <td>28.2</td>\n      <td>19.6</td>\n      <td>1031.6</td>\n      <td>109.9</td>\n      <td>465.0</td>\n      <td>...</td>\n      <td>53.8</td>\n      <td>0.3</td>\n      <td>NaN</td>\n      <td>NaN</td>\n      <td>90</td>\n      <td>33</td>\n      <td>100.0</td>\n      <td>NaN</td>\n      <td>NaN</td>\n      <td>NaN</td>\n    </tr>\n    <tr>\n      <th>176543</th>\n      <td>427</td>\n      <td>147.9</td>\n      <td>187.0</td>\n      <td>-60.0</td>\n      <td>19.0</td>\n      <td>28.2</td>\n      <td>19.6</td>\n      <td>1031.6</td>\n      <td>106.5</td>\n      <td>481.0</td>\n      <td>...</td>\n      <td>55.1</td>\n      <td>0.3</td>\n      <td>NaN</td>\n      <td>NaN</td>\n      <td>100</td>\n      <td>33</td>\n      <td>100.0</td>\n      <td>NaN</td>\n      <td>NaN</td>\n      <td>NaN</td>\n    </tr>\n    <tr>\n      <th>176544</th>\n      <td>427</td>\n      <td>140.5</td>\n      <td>190.0</td>\n      <td>-63.0</td>\n      <td>20.0</td>\n      <td>28.2</td>\n      <td>19.5</td>\n      <td>1031.6</td>\n      <td>105.0</td>\n      <td>486.0</td>\n      <td>...</td>\n      <td>53.2</td>\n      <td>0.3</td>\n      <td>NaN</td>\n      <td>NaN</td>\n      <td>100</td>\n      <td>33</td>\n      <td>100.0</td>\n      <td>NaN</td>\n      <td>NaN</td>\n      <td>NaN</td>\n    </tr>\n    <tr>\n      <th>176545</th>\n      <td>427</td>\n      <td>139.0</td>\n      <td>191.0</td>\n      <td>-63.0</td>\n      <td>24.0</td>\n      <td>NaN</td>\n      <td>NaN</td>\n      <td>NaN</td>\n      <td>NaN</td>\n      <td>NaN</td>\n      <td>...</td>\n      <td>NaN</td>\n      <td>NaN</td>\n      <td>NaN</td>\n      <td>NaN</td>\n      <td>NaN</td>\n      <td>NaN</td>\n      <td>NaN</td>\n      <td>NaN</td>\n      <td>NaN</td>\n      <td>NaN</td>\n    </tr>\n  </tbody>\n</table>\n<p>176546 rows × 22 columns</p>\n</div>"
     },
     "execution_count": 5,
     "metadata": {},
     "output_type": "execute_result"
    }
   ],
   "source": [
    "\n",
    "\n",
    "pool['CAP153_3']\n",
    "\n"
   ],
   "metadata": {
    "collapsed": false,
    "ExecuteTime": {
     "end_time": "2023-08-14T08:25:20.479742600Z",
     "start_time": "2023-08-14T08:25:20.383651400Z"
    }
   }
  },
  {
   "cell_type": "code",
   "execution_count": null,
   "outputs": [],
   "source": [
    "CAP133_1 = pool['CAP133_1']\n",
    "test_dates = CAP133_1['from_unixtime(ts)']"
   ],
   "metadata": {
    "collapsed": false
   }
  },
  {
   "cell_type": "code",
   "execution_count": null,
   "outputs": [],
   "source": [
    "test_dates"
   ],
   "metadata": {
    "collapsed": false
   }
  },
  {
   "cell_type": "code",
   "execution_count": null,
   "outputs": [],
   "source": [
    "#trovare iaq in abase alla fascia temporale\n",
    "caap = 'CAP153_3'\n",
    "device_number = \\\n",
    "    pool[caap].assign(iaq_type=pool[caap]['iaq'], iaq_n=pool[caap].groupby('iaq')['iaq'].transform('count'))[\n",
    "        ['iaq_type', 'iaq_n']].drop_duplicates()\n",
    "device_number"
   ],
   "metadata": {
    "collapsed": false
   }
  },
  {
   "cell_type": "markdown",
   "source": [],
   "metadata": {
    "collapsed": false
   }
  },
  {
   "cell_type": "code",
   "execution_count": null,
   "outputs": [],
   "source": [
    "pool_33_3.loc[pool_33_3['main_power'] != 100, 'main_power']"
   ],
   "metadata": {
    "collapsed": false
   }
  },
  {
   "cell_type": "code",
   "execution_count": null,
   "outputs": [],
   "source": [
    "device_number: pd.DataFrame = pd.DataFrame()\n",
    "device_number = device_number.assign(device_id=pool_33_3['device_id'],\n",
    "                                     device_n=pool_33_3.groupby('device_id')['device_id'].transform(\n",
    "                                         'count')).drop_duplicates()\n",
    "# pool_33_3['dev_n'] = pool_33_3.groupby('device_id')['device_id'].transform('count')\n",
    "device_number"
   ],
   "metadata": {
    "collapsed": false
   }
  },
  {
   "cell_type": "markdown",
   "source": [],
   "metadata": {
    "collapsed": false
   }
  },
  {
   "cell_type": "code",
   "execution_count": null,
   "outputs": [],
   "source": [
    "# oaq --> iaq (con stesse variabili conosciute) ==> troviamo efficienza filtraggio interno"
   ],
   "metadata": {
    "collapsed": false
   }
  }
 ],
 "metadata": {
  "kernelspec": {
   "display_name": "Python 3",
   "language": "python",
   "name": "python3"
  },
  "language_info": {
   "codemirror_mode": {
    "name": "ipython",
    "version": 2
   },
   "file_extension": ".py",
   "mimetype": "text/x-python",
   "name": "python",
   "nbconvert_exporter": "python",
   "pygments_lexer": "ipython2",
   "version": "2.7.6"
  }
 },
 "nbformat": 4,
 "nbformat_minor": 0
}
