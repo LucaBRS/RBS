{
 "cells": [
  {
   "cell_type": "markdown",
   "source": [
    "* device_id: l'identificatore univoco\n",
    "\n",
    "\n",
    "* iaq (Indoor Air Quality): misura o un indice che valuta la qualità dell'aria interna. Calcolato considerando diversi parametri come la concentrazione di particelle in sospensione, la presenza di composti chimici nocivi o altre metriche legate alla qualità dell'aria.\n",
    "* * trovare il valore appropriato e chiedere se è inversamente proporzionale o meno\n",
    "\n",
    "\n",
    "\n",
    "* electrosmog_lf: riferimento alla misura o alla quantità di elettrosmog a bassa frequenza nell'ambiente. L'elettrosmog si riferisce alle radiazioni elettromagnetiche prodotte da dispositivi elettronici o reti wireless. La misura potrebbe indicare la quantità di radiazioni elettromagnetiche presenti nell'ambiente.\n",
    "\n",
    "\n",
    "* wifi_level: il livello di segnale o la potenza del segnale WiFi nell'ambiente. In dBm (decibel-milliwatt) o in un'altra scala di misura. Questa informazione può essere utile per valutare la copertura o la qualità del segnale WiFi nelle diverse aree dell'ufficio o dell'edificio.\n",
    "\n",
    "\n",
    "* wifi_n: numero di reti WiFi rilevate o disponibili nell'ambiente. Indica la quantità di reti wireless presenti nelle vicinanze del dispositivo di rilevamento.\n",
    "\n",
    "\n",
    "* temperature: temperatura ambientale nell'area monitorata.\n",
    "\n",
    "\n",
    "* humidity: l'umidità relativa dell'aria nell'ambiente. L'umidità relativa si riferisce alla quantità di vapore acqueo presente nell'aria rispetto alla massima quantità che l'aria potrebbe contenere a una determinata temperatura.\n",
    "\n",
    "\n",
    "* air_pressure: pressione atmosferica nell'ambiente. La pressione atmosferica è la forza esercitata dall'atmosfera sulla superficie terrestre e viene misurata solitamente in unità come Pascal (Pa) o millibar (mbar).\n",
    "\n",
    "\n",
    "* ambient_light: livello di luce ambientale nell'ambiente. Potrebbe essere espresso in unità di illuminazione come lux o in una scala relativa.\n",
    "\n",
    "\n",
    "* tvoc (Total Volatile Organic Compounds): indicazione della qualità dell'aria in relazione alla presenza di composti organici volatili. I composti organici volatili sono sostanze chimiche che possono essere rilasciate nell'aria da materiali o attività presenti nell'ambiente. Alcuni esempi di composti organici volatili includono formaldeide, benzene, toluene e altri idrocarburi. Un livello elevato di TVOC potrebbe indicare una possibile presenza di inquinanti nell'aria, che potrebbero influire sulla qualità dell'ambiente interno.\n",
    "\n",
    "\n",
    "Normalizzazione delle variabili:\n",
    "\n",
    "Normalizza la temperatura (T) nell'intervallo da 0 a 1: T_norm = (T - T_min) / (T_max - T_min)\n",
    "Normalizza l'umidità (H) nell'intervallo da 0 a 1: H_norm = (H - H_min) / (H_max - H_min)\n",
    "Calcolo del punteggio dell'IAQ:\n",
    "\n",
    "Assegna un peso alla temperatura (w_T) e all'umidità (w_H).\n",
    "Calcola il punteggio dell'IAQ (IAQ_score) come la media ponderata dei valori normalizzati: IAQ_score = w_T * T_norm + w_H * H_norm\n",
    "\n",
    "--------------------------------------------------------------------------\n",
    "capire se c'è correlazione dei dati interni e dati esterni con stessi periodi etc...correlazione diretta o indiretta\n",
    "\n",
    "predittiva--> cosa succede nei prossimi mesi...\n",
    "    what if analysis se temp sale 1 grado cosa accade aglei altri parametri, correlazione tra i vari parametri\n",
    "    anomaly detection, dati 2 3 anni di dati capire se ci sono eventi che vanno fuori il comportamento attes--->costruire modello comportamentale \"standard\" e trovari i picchi...\n"
   ],
   "metadata": {
    "collapsed": false
   }
  },
  {
   "cell_type": "code",
   "execution_count": null,
   "outputs": [],
   "source": [
    "from parsing_table import ParsingTable\n",
    "from datetime import date\n",
    "\n",
    "import pandas as pd\n",
    "import numpy as np\n",
    "import os\n",
    "\n",
    "#cap133 fuori\n",
    "#cap153 centro\n",
    "################# OLD\n",
    "# path = './resources/'\n",
    "# save_path = './resources/clean_file/'\n",
    "# if not os.path.exists(save_path):\n",
    "#     os.mkdir(save_path)\n",
    "# dir_list = os.listdir(path)\n",
    "# pool = {}\n",
    "# for file in dir_list:\n",
    "#     if file.endswith('.csv'):\n",
    "#         temp:pd.DataFrame\n",
    "#         naming = file.split('.')[0].split('_')[1].replace('0', '') + '_' + file.split('.')[0].split('_')[0]\n",
    "#         print(naming)\n",
    "#         temp = pd.read_csv(path + file, engine='python')\n",
    "#         # first dataset cleaning\n",
    "#         temp = temp[temp['electrosmog'].astype(str).str.find('-') == -1]\n",
    "#         pool[naming] = temp\n",
    "#         temp.to_csv(save_path+naming+'.csv',index=False)\n",
    "#\n",
    "# date_format ='%Y-%m-%d %H:%M:$S'\n",
    "################\n",
    "\n",
    "input_path = './resources/clean_file/'\n",
    "dir_list = os.listdir(input_path)\n",
    "pool = {}\n",
    "pt= ParsingTable()\n",
    "for file in dir_list:\n",
    "    if file.endswith('.csv'):\n",
    "        temp: pd.DataFrame\n",
    "        naming = file.split('.')[0]\n",
    "        print(naming)\n",
    "        temp = pt.parse(input_path=input_path+file)\n",
    "        pool[naming] = temp\n",
    "\n"
   ],
   "metadata": {
    "collapsed": false,
    "is_executing": true
   }
  },
  {
   "cell_type": "code",
   "execution_count": 21,
   "outputs": [
    {
     "data": {
      "text/plain": "Index(['device_id', 'iaq', 'electrosmog_lf', 'wifi_level', 'wifi_n',\n       'temperature', 'humidity', 'air_pressure', 'ambient_light', 'tvoc',\n       'co2', 'co2e', 'pm10', 'pm25', 'sound', 'electrosmog_hf', 'battery',\n       'main_power', 'air', 'comfort', 'electrosmog', 'rom_unixtime(ts)'],\n      dtype='object')"
     },
     "execution_count": 21,
     "metadata": {},
     "output_type": "execute_result"
    }
   ],
   "source": [
    "\n",
    "\n",
    "pool['CAP153_3'].columns\n",
    "\n"
   ],
   "metadata": {
    "collapsed": false,
    "ExecuteTime": {
     "end_time": "2023-08-13T21:52:09.473047400Z",
     "start_time": "2023-08-13T21:52:09.468395800Z"
    }
   }
  },
  {
   "cell_type": "code",
   "execution_count": 5,
   "outputs": [],
   "source": [
    "CAP133_1 = pool['CAP133_1']\n",
    "test_dates = CAP133_1['from_unixtime(ts)']"
   ],
   "metadata": {
    "collapsed": false,
    "ExecuteTime": {
     "end_time": "2023-08-13T07:53:14.026975300Z",
     "start_time": "2023-08-13T07:53:14.019812800Z"
    }
   }
  },
  {
   "cell_type": "code",
   "execution_count": 9,
   "outputs": [
    {
     "data": {
      "text/plain": "0        2020-01-01 00:25:11\n1        2020-01-01 00:55:11\n2        2020-01-01 01:25:11\n3        2020-01-01 01:55:11\n4        2020-01-01 02:25:11\n                ...         \n41752    2023-04-28 10:12:54\n41753    2023-04-28 10:27:49\n41754    2023-04-28 10:42:45\n41755    2023-04-28 10:57:39\n41756    2023-04-28 11:12:35\nName: from_unixtime(ts), Length: 41757, dtype: object"
     },
     "execution_count": 9,
     "metadata": {},
     "output_type": "execute_result"
    }
   ],
   "source": [
    "test_dates"
   ],
   "metadata": {
    "collapsed": false,
    "ExecuteTime": {
     "end_time": "2023-08-13T07:56:02.793858200Z",
     "start_time": "2023-08-13T07:56:02.785884900Z"
    }
   }
  },
  {
   "cell_type": "code",
   "execution_count": 57,
   "outputs": [
    {
     "data": {
      "text/plain": "        iaq_type  iaq_n\n7           25.0   8010\n13          25.3    128\n18          28.4    148\n22          27.7    154\n25          32.4    158\n...          ...    ...\n156156     279.1      1\n156212     271.0      1\n156213     310.3      1\n158909     261.5      1\n170529     269.6      1\n\n[2334 rows x 2 columns]",
      "text/html": "<div>\n<style scoped>\n    .dataframe tbody tr th:only-of-type {\n        vertical-align: middle;\n    }\n\n    .dataframe tbody tr th {\n        vertical-align: top;\n    }\n\n    .dataframe thead th {\n        text-align: right;\n    }\n</style>\n<table border=\"1\" class=\"dataframe\">\n  <thead>\n    <tr style=\"text-align: right;\">\n      <th></th>\n      <th>iaq_type</th>\n      <th>iaq_n</th>\n    </tr>\n  </thead>\n  <tbody>\n    <tr>\n      <th>7</th>\n      <td>25.0</td>\n      <td>8010</td>\n    </tr>\n    <tr>\n      <th>13</th>\n      <td>25.3</td>\n      <td>128</td>\n    </tr>\n    <tr>\n      <th>18</th>\n      <td>28.4</td>\n      <td>148</td>\n    </tr>\n    <tr>\n      <th>22</th>\n      <td>27.7</td>\n      <td>154</td>\n    </tr>\n    <tr>\n      <th>25</th>\n      <td>32.4</td>\n      <td>158</td>\n    </tr>\n    <tr>\n      <th>...</th>\n      <td>...</td>\n      <td>...</td>\n    </tr>\n    <tr>\n      <th>156156</th>\n      <td>279.1</td>\n      <td>1</td>\n    </tr>\n    <tr>\n      <th>156212</th>\n      <td>271.0</td>\n      <td>1</td>\n    </tr>\n    <tr>\n      <th>156213</th>\n      <td>310.3</td>\n      <td>1</td>\n    </tr>\n    <tr>\n      <th>158909</th>\n      <td>261.5</td>\n      <td>1</td>\n    </tr>\n    <tr>\n      <th>170529</th>\n      <td>269.6</td>\n      <td>1</td>\n    </tr>\n  </tbody>\n</table>\n<p>2334 rows × 2 columns</p>\n</div>"
     },
     "execution_count": 57,
     "metadata": {},
     "output_type": "execute_result"
    }
   ],
   "source": [
    "#trovare iaq in abase alla fascia temporale\n",
    "caap = 'CAP153_3'\n",
    "device_number = \\\n",
    "    pool[caap].assign(iaq_type=pool[caap]['iaq'], iaq_n=pool[caap].groupby('iaq')['iaq'].transform('count'))[\n",
    "        ['iaq_type', 'iaq_n']].drop_duplicates()\n",
    "device_number"
   ],
   "metadata": {
    "collapsed": false,
    "ExecuteTime": {
     "end_time": "2023-08-08T21:33:20.303813300Z",
     "start_time": "2023-08-08T21:33:20.248731700Z"
    }
   }
  },
  {
   "cell_type": "markdown",
   "source": [],
   "metadata": {
    "collapsed": false
   }
  },
  {
   "cell_type": "code",
   "execution_count": 3,
   "outputs": [
    {
     "data": {
      "text/plain": "551    85\n551    85\n551    85\n551    85\n551    85\n       ..\n551    85\n551    85\n551    85\n551    85\n551    85\nName: main_power, Length: 13967, dtype: int64"
     },
     "execution_count": 3,
     "metadata": {},
     "output_type": "execute_result"
    }
   ],
   "source": [
    "pool_33_3.loc[pool_33_3['main_power'] != 100, 'main_power']"
   ],
   "metadata": {
    "collapsed": false,
    "ExecuteTime": {
     "end_time": "2023-06-28T17:33:40.794005100Z",
     "start_time": "2023-06-28T17:33:40.780736100Z"
    }
   }
  },
  {
   "cell_type": "code",
   "execution_count": 30,
   "outputs": [
    {
     "data": {
      "text/plain": "   device_id  device_n\n0        551     42381",
      "text/html": "<div>\n<style scoped>\n    .dataframe tbody tr th:only-of-type {\n        vertical-align: middle;\n    }\n\n    .dataframe tbody tr th {\n        vertical-align: top;\n    }\n\n    .dataframe thead th {\n        text-align: right;\n    }\n</style>\n<table border=\"1\" class=\"dataframe\">\n  <thead>\n    <tr style=\"text-align: right;\">\n      <th></th>\n      <th>device_id</th>\n      <th>device_n</th>\n    </tr>\n  </thead>\n  <tbody>\n    <tr>\n      <th>0</th>\n      <td>551</td>\n      <td>42381</td>\n    </tr>\n  </tbody>\n</table>\n</div>"
     },
     "execution_count": 30,
     "metadata": {},
     "output_type": "execute_result"
    }
   ],
   "source": [
    "device_number: pd.DataFrame = pd.DataFrame()\n",
    "device_number = device_number.assign(device_id=pool_33_3['device_id'],\n",
    "                                     device_n=pool_33_3.groupby('device_id')['device_id'].transform(\n",
    "                                         'count')).drop_duplicates()\n",
    "# pool_33_3['dev_n'] = pool_33_3.groupby('device_id')['device_id'].transform('count')\n",
    "device_number"
   ],
   "metadata": {
    "collapsed": false,
    "ExecuteTime": {
     "end_time": "2023-06-28T18:20:43.172931500Z",
     "start_time": "2023-06-28T18:20:43.163987600Z"
    }
   }
  },
  {
   "cell_type": "markdown",
   "source": [],
   "metadata": {
    "collapsed": false
   }
  },
  {
   "cell_type": "code",
   "execution_count": null,
   "outputs": [],
   "source": [
    "# oaq --> iaq (con stesse variabili conosciute) ==> troviamo efficienza filtraggio interno"
   ],
   "metadata": {
    "collapsed": false
   }
  }
 ],
 "metadata": {
  "kernelspec": {
   "display_name": "Python 3",
   "language": "python",
   "name": "python3"
  },
  "language_info": {
   "codemirror_mode": {
    "name": "ipython",
    "version": 2
   },
   "file_extension": ".py",
   "mimetype": "text/x-python",
   "name": "python",
   "nbconvert_exporter": "python",
   "pygments_lexer": "ipython2",
   "version": "2.7.6"
  }
 },
 "nbformat": 4,
 "nbformat_minor": 0
}
