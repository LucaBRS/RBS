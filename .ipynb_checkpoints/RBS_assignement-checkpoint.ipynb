{
 "cells": [
  {
   "cell_type": "code",
   "execution_count": 1,
   "metadata": {
    "ExecuteTime": {
     "end_time": "2023-04-15T11:56:29.724307Z",
     "start_time": "2023-04-15T11:56:29.415315Z"
    },
    "collapsed": true
   },
   "outputs": [
    {
     "name": "stdout",
     "output_type": "stream",
     "text": [
      "     Sepal.Length  Sepal.Width  Petal.Length  Petal.Width    Species\n",
      "0             5.1          3.5           1.4          0.2     setosa\n",
      "1             4.9          3.0           1.4          0.2     setosa\n",
      "2             4.7          3.2           1.3          0.2     setosa\n",
      "3             4.6          3.1           1.5          0.2     setosa\n",
      "4             5.0          3.6           1.4          0.2     setosa\n",
      "..            ...          ...           ...          ...        ...\n",
      "145           6.7          3.0           5.2          2.3  virginica\n",
      "146           6.3          2.5           5.0          1.9  virginica\n",
      "147           6.5          3.0           5.2          2.0  virginica\n",
      "148           6.2          3.4           5.4          2.3  virginica\n",
      "149           5.9          3.0           5.1          1.8  virginica\n",
      "\n",
      "[150 rows x 5 columns]\n"
     ]
    }
   ],
   "source": [
    "import pandas as pd\n",
    "iris = pd.read_csv('./iris.csv')\n",
    "print(iris)"
   ]
  },
  {
   "cell_type": "code",
   "execution_count": 2,
   "metadata": {
    "ExecuteTime": {
     "end_time": "2023-04-15T11:56:29.730506Z",
     "start_time": "2023-04-15T11:56:29.725460Z"
    }
   },
   "outputs": [
    {
     "data": {
      "text/plain": [
       "Sepal.Length    float64\n",
       "Sepal.Width     float64\n",
       "Petal.Length    float64\n",
       "Petal.Width     float64\n",
       "Species          object\n",
       "dtype: object"
      ]
     },
     "execution_count": 2,
     "metadata": {},
     "output_type": "execute_result"
    }
   ],
   "source": [
    "iris.dtypes"
   ]
  },
  {
   "cell_type": "code",
   "execution_count": 3,
   "metadata": {
    "ExecuteTime": {
     "end_time": "2023-04-15T11:56:29.735557Z",
     "start_time": "2023-04-15T11:56:29.730506Z"
    }
   },
   "outputs": [
    {
     "name": "stdout",
     "output_type": "stream",
     "text": [
      "Calcolo statistiche base:\n",
      "Sepal.Length-> mean:5.843, median:5.8, max:7.9\n",
      "Sepal.Width-> mean>3.057, median:3.0, max:4.4\n",
      "Petal.Length->mean3.758, median:4.35, max:6.9\n",
      "Petal.Width->1.199, median:1.3, max:2.5\n"
     ]
    }
   ],
   "source": [
    "print(f'''Calcolo statistiche base:\n",
    "Sepal.Length-> mean:{round( iris[\"Sepal.Length\"].mean(),3)}, median:{iris[\"Sepal.Length\"].median()}, max:{iris[\"Sepal.Length\"].max()}\n",
    "Sepal.Width-> mean>{round(iris[\"Sepal.Width\"].mean(),3)}, median:{iris[\"Sepal.Width\"].median()}, max:{iris[\"Sepal.Width\"].max()}\n",
    "Petal.Length->mean{round(iris[\"Petal.Length\"].mean(),3)}, median:{iris[\"Petal.Length\"].median()}, max:{iris[\"Petal.Length\"].max()}\n",
    "Petal.Width->{round(iris[\"Petal.Width\"].mean(),3)}, median:{iris[\"Petal.Width\"].median()}, max:{iris[\"Petal.Width\"].max()}''')"
   ]
  },
  {
   "cell_type": "code",
   "execution_count": 4,
   "metadata": {
    "ExecuteTime": {
     "end_time": "2023-04-15T11:56:29.742808Z",
     "start_time": "2023-04-15T11:56:29.736558Z"
    }
   },
   "outputs": [
    {
     "name": "stdout",
     "output_type": "stream",
     "text": [
      "     sepal_length  sepal_width  petal_length  petal_width    species\n",
      "0             5.1          3.5           1.4          0.2     setosa\n",
      "1             4.9          3.0           1.4          0.2     setosa\n",
      "2             4.7          3.2           1.3          0.2     setosa\n",
      "3             4.6          3.1           1.5          0.2     setosa\n",
      "4             5.0          3.6           1.4          0.2     setosa\n",
      "..            ...          ...           ...          ...        ...\n",
      "145           6.7          3.0           5.2          2.3  virginica\n",
      "146           6.3          2.5           5.0          1.9  virginica\n",
      "147           6.5          3.0           5.2          2.0  virginica\n",
      "148           6.2          3.4           5.4          2.3  virginica\n",
      "149           5.9          3.0           5.1          1.8  virginica\n",
      "\n",
      "[150 rows x 5 columns]\n"
     ]
    }
   ],
   "source": [
    "iris_c = iris.copy()\n",
    "iris_c= iris_c.rename(columns={\"Sepal.Length\":\"sepal_length\",\"Sepal.Width\":\"sepal_width\",\"Petal.Length\":\"petal_length\",\"Petal.Width\":\"petal_width\",\"Species\":\"species\"})\n",
    "print(iris_c)\n",
    "numeric_col = iris_c.columns.values[:4]"
   ]
  },
  {
   "cell_type": "code",
   "execution_count": 5,
   "metadata": {
    "ExecuteTime": {
     "end_time": "2023-04-15T11:56:29.751355Z",
     "start_time": "2023-04-15T11:56:29.744312Z"
    }
   },
   "outputs": [
    {
     "name": "stdout",
     "output_type": "stream",
     "text": [
      "setosa\n",
      "\n",
      "        sepal_length->  mean:5.006, median:5.0, max:5.8\n",
      "        \n",
      "\n",
      "        sepal_width->  mean:3.428, median:3.4, max:4.4\n",
      "        \n",
      "\n",
      "        petal_length->  mean:1.462, median:1.5, max:1.9\n",
      "        \n",
      "\n",
      "        petal_width->  mean:0.246, median:0.2, max:0.6\n",
      "        \n",
      "versicolor\n",
      "\n",
      "        sepal_length->  mean:5.936, median:5.9, max:7.0\n",
      "        \n",
      "\n",
      "        sepal_width->  mean:2.77, median:2.8, max:3.4\n",
      "        \n",
      "\n",
      "        petal_length->  mean:4.26, median:4.35, max:5.1\n",
      "        \n",
      "\n",
      "        petal_width->  mean:1.326, median:1.3, max:1.8\n",
      "        \n",
      "virginica\n",
      "\n",
      "        sepal_length->  mean:6.588, median:6.5, max:7.9\n",
      "        \n",
      "\n",
      "        sepal_width->  mean:2.974, median:3.0, max:3.8\n",
      "        \n",
      "\n",
      "        petal_length->  mean:5.552, median:5.55, max:6.9\n",
      "        \n",
      "\n",
      "        petal_width->  mean:2.026, median:2.0, max:2.5\n",
      "        \n"
     ]
    }
   ],
   "source": [
    "for sType in iris_c[\"species\"].drop_duplicates():\n",
    "    print(sType)\n",
    "    i_=iris_c[iris_c[\"species\"]==sType]\n",
    "    for col in numeric_col:\n",
    "        print(f'''\n",
    "        {col}->  mean:{round( i_[col].mean(),3)}, median:{i_[col].median()}, max:{i_[col].max()}\n",
    "        ''')\n"
   ]
  },
  {
   "cell_type": "code",
   "execution_count": 6,
   "metadata": {
    "ExecuteTime": {
     "end_time": "2023-04-15T11:56:29.832977Z",
     "start_time": "2023-04-15T11:56:29.751355Z"
    }
   },
   "outputs": [
    {
     "data": {
      "text/plain": [
       "species\n",
       "versicolor    49\n",
       "virginica      5\n",
       "Name: count, dtype: int64"
      ]
     },
     "execution_count": 6,
     "metadata": {},
     "output_type": "execute_result"
    }
   ],
   "source": [
    "iris_c[ (iris_c[\"petal_length\"]>2.5) & (iris_c[\"petal_width\"]<1.8) ].sort_values(by=[\"petal_length\",\"petal_width\"])[\"species\"].value_counts()"
   ]
  },
  {
   "cell_type": "code",
   "execution_count": 6,
   "metadata": {
    "ExecuteTime": {
     "end_time": "2023-04-15T11:56:29.832977Z",
     "start_time": "2023-04-15T11:56:29.758831Z"
    }
   },
   "outputs": [],
   "source": []
  }
 ],
 "metadata": {
  "kernelspec": {
   "display_name": "Python 3 (ipykernel)",
   "language": "python",
   "name": "python3"
  },
  "language_info": {
   "codemirror_mode": {
    "name": "ipython",
    "version": 3
   },
   "file_extension": ".py",
   "mimetype": "text/x-python",
   "name": "python",
   "nbconvert_exporter": "python",
   "pygments_lexer": "ipython3",
   "version": "3.11.3"
  }
 },
 "nbformat": 4,
 "nbformat_minor": 1
}
