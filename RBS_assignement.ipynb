{
 "cells": [
  {
   "cell_type": "code",
   "execution_count": 12,
   "metadata": {
    "ExecuteTime": {
     "start_time": "2023-04-15T12:24:26.494541Z",
     "end_time": "2023-04-15T12:24:26.502078Z"
    },
    "collapsed": true
   },
   "outputs": [
    {
     "name": "stdout",
     "output_type": "stream",
     "text": [
      "     Sepal.Length  Sepal.Width  Petal.Length  Petal.Width    Species\n",
      "0             5.1          3.5           1.4          0.2     setosa\n",
      "1             4.9          3.0           1.4          0.2     setosa\n",
      "2             4.7          3.2           1.3          0.2     setosa\n",
      "3             4.6          3.1           1.5          0.2     setosa\n",
      "4             5.0          3.6           1.4          0.2     setosa\n",
      "..            ...          ...           ...          ...        ...\n",
      "145           6.7          3.0           5.2          2.3  virginica\n",
      "146           6.3          2.5           5.0          1.9  virginica\n",
      "147           6.5          3.0           5.2          2.0  virginica\n",
      "148           6.2          3.4           5.4          2.3  virginica\n",
      "149           5.9          3.0           5.1          1.8  virginica\n",
      "\n",
      "[150 rows x 5 columns]\n"
     ]
    }
   ],
   "source": [
    "import pandas as pd\n",
    "import numpy as np\n",
    "iris = pd.read_csv('./iris.csv')\n",
    "print(iris)"
   ]
  },
  {
   "cell_type": "code",
   "execution_count": 2,
   "metadata": {
    "ExecuteTime": {
     "end_time": "2023-04-15T11:56:29.730506Z",
     "start_time": "2023-04-15T11:56:29.725460Z"
    }
   },
   "outputs": [
    {
     "data": {
      "text/plain": [
       "Sepal.Length    float64\n",
       "Sepal.Width     float64\n",
       "Petal.Length    float64\n",
       "Petal.Width     float64\n",
       "Species          object\n",
       "dtype: object"
      ]
     },
     "execution_count": 2,
     "metadata": {},
     "output_type": "execute_result"
    }
   ],
   "source": [
    "iris.dtypes"
   ]
  },
  {
   "cell_type": "code",
   "execution_count": 24,
   "metadata": {
    "ExecuteTime": {
     "start_time": "2023-04-15T13:11:20.694021Z",
     "end_time": "2023-04-15T13:11:20.700690Z"
    }
   },
   "outputs": [
    {
     "name": "stdout",
     "output_type": "stream",
     "text": [
      "Calcolo statistiche base:\n",
      "Sepal.Length-> mean:5.843, median:5.8, max:7.9\n",
      "Sepal.Width-> mean:3.057, median:3.0, max:4.4\n",
      "Petal.Length-> mean:3.758, median:4.35, max:6.9\n",
      "Petal.Width-> mean:1.199, median:1.3, max:2.5\n"
     ]
    }
   ],
   "source": [
    "print(f'''Calcolo statistiche base:\n",
    "Sepal.Length-> mean:{round( iris[\"Sepal.Length\"].mean(),3)}, median:{iris[\"Sepal.Length\"].median()}, max:{iris[\"Sepal.Length\"].max()}\n",
    "Sepal.Width-> mean:{round(iris[\"Sepal.Width\"].mean(),3)}, median:{iris[\"Sepal.Width\"].median()}, max:{iris[\"Sepal.Width\"].max()}\n",
    "Petal.Length-> mean:{round(iris[\"Petal.Length\"].mean(),3)}, median:{iris[\"Petal.Length\"].median()}, max:{iris[\"Petal.Length\"].max()}\n",
    "Petal.Width-> mean:{round(iris[\"Petal.Width\"].mean(),3)}, median:{iris[\"Petal.Width\"].median()}, max:{iris[\"Petal.Width\"].max()}''')"
   ]
  },
  {
   "cell_type": "code",
   "execution_count": 20,
   "metadata": {
    "ExecuteTime": {
     "start_time": "2023-04-15T12:38:30.392737Z",
     "end_time": "2023-04-15T12:38:30.401053Z"
    }
   },
   "outputs": [
    {
     "name": "stdout",
     "output_type": "stream",
     "text": [
      "     sepal_length  sepal_width  petal_length  petal_width    species\n",
      "0             5.1          3.5           1.4          0.2     setosa\n",
      "1             4.9          3.0           1.4          0.2     setosa\n",
      "2             4.7          3.2           1.3          0.2     setosa\n",
      "3             4.6          3.1           1.5          0.2     setosa\n",
      "4             5.0          3.6           1.4          0.2     setosa\n",
      "..            ...          ...           ...          ...        ...\n",
      "145           6.7          3.0           5.2          2.3  virginica\n",
      "146           6.3          2.5           5.0          1.9  virginica\n",
      "147           6.5          3.0           5.2          2.0  virginica\n",
      "148           6.2          3.4           5.4          2.3  virginica\n",
      "149           5.9          3.0           5.1          1.8  virginica\n",
      "\n",
      "[150 rows x 5 columns]\n"
     ]
    }
   ],
   "source": [
    "\n",
    "iris_c= iris.rename(columns={\"Sepal.Length\":\"sepal_length\",\"Sepal.Width\":\"sepal_width\",\"Petal.Length\":\"petal_length\",\"Petal.Width\":\"petal_width\",\"Species\":\"species\"}).copy()\n",
    "print(iris_c)\n",
    "numeric_col = iris_c.columns.values[:4]"
   ]
  },
  {
   "cell_type": "code",
   "execution_count": 21,
   "metadata": {
    "ExecuteTime": {
     "start_time": "2023-04-15T12:38:35.413350Z",
     "end_time": "2023-04-15T12:38:35.417949Z"
    }
   },
   "outputs": [
    {
     "name": "stdout",
     "output_type": "stream",
     "text": [
      "setosa\n",
      "\n",
      "        sepal_length->  mean:5.006, median:5.0, max:5.8\n",
      "        \n",
      "\n",
      "        sepal_width->  mean:3.428, median:3.4, max:4.4\n",
      "        \n",
      "\n",
      "        petal_length->  mean:1.462, median:1.5, max:1.9\n",
      "        \n",
      "\n",
      "        petal_width->  mean:0.246, median:0.2, max:0.6\n",
      "        \n",
      "versicolor\n",
      "\n",
      "        sepal_length->  mean:5.936, median:5.9, max:7.0\n",
      "        \n",
      "\n",
      "        sepal_width->  mean:2.77, median:2.8, max:3.4\n",
      "        \n",
      "\n",
      "        petal_length->  mean:4.26, median:4.35, max:5.1\n",
      "        \n",
      "\n",
      "        petal_width->  mean:1.326, median:1.3, max:1.8\n",
      "        \n",
      "virginica\n",
      "\n",
      "        sepal_length->  mean:6.588, median:6.5, max:7.9\n",
      "        \n",
      "\n",
      "        sepal_width->  mean:2.974, median:3.0, max:3.8\n",
      "        \n",
      "\n",
      "        petal_length->  mean:5.552, median:5.55, max:6.9\n",
      "        \n",
      "\n",
      "        petal_width->  mean:2.026, median:2.0, max:2.5\n",
      "        \n"
     ]
    }
   ],
   "source": [
    "for sType in iris_c[\"species\"].drop_duplicates():\n",
    "    print(sType)\n",
    "    i_=iris_c[iris_c[\"species\"]==sType]\n",
    "    for col in numeric_col:\n",
    "        print(f'''\n",
    "        {col}->  mean:{round( i_[col].mean(),3)}, median:{i_[col].median()}, max:{i_[col].max()}\n",
    "        ''')\n"
   ]
  },
  {
   "cell_type": "code",
   "execution_count": 18,
   "metadata": {
    "ExecuteTime": {
     "start_time": "2023-04-15T12:33:39.398836Z",
     "end_time": "2023-04-15T12:33:39.416154Z"
    }
   },
   "outputs": [
    {
     "data": {
      "text/plain": "     sepal_length  sepal_width  petal_length  petal_width     species\n98            5.1          2.5           3.0          1.1  versicolor\n57            4.9          2.4           3.3          1.0  versicolor\n93            5.0          2.3           3.3          1.0  versicolor\n60            5.0          2.0           3.5          1.0  versicolor\n79            5.7          2.6           3.5          1.0  versicolor\n64            5.6          2.9           3.6          1.3  versicolor\n81            5.5          2.4           3.7          1.0  versicolor\n80            5.5          2.4           3.8          1.1  versicolor\n69            5.6          2.5           3.9          1.1  versicolor\n82            5.8          2.7           3.9          1.2  versicolor\n59            5.2          2.7           3.9          1.4  versicolor\n62            6.0          2.2           4.0          1.0  versicolor\n92            5.8          2.6           4.0          1.2  versicolor\n53            5.5          2.3           4.0          1.3  versicolor\n71            6.1          2.8           4.0          1.3  versicolor\n89            5.5          2.5           4.0          1.3  versicolor\n67            5.8          2.7           4.1          1.0  versicolor\n88            5.6          3.0           4.1          1.3  versicolor\n99            5.7          2.8           4.1          1.3  versicolor\n95            5.7          3.0           4.2          1.2  versicolor\n94            5.6          2.7           4.2          1.3  versicolor\n96            5.7          2.9           4.2          1.3  versicolor\n61            5.9          3.0           4.2          1.5  versicolor\n74            6.4          2.9           4.3          1.3  versicolor\n97            6.2          2.9           4.3          1.3  versicolor\n90            5.5          2.6           4.4          1.2  versicolor\n87            6.3          2.3           4.4          1.3  versicolor\n65            6.7          3.1           4.4          1.4  versicolor\n75            6.6          3.0           4.4          1.4  versicolor\n55            5.7          2.8           4.5          1.3  versicolor\n51            6.4          3.2           4.5          1.5  versicolor\n66            5.6          3.0           4.5          1.5  versicolor\n68            6.2          2.2           4.5          1.5  versicolor\n78            6.0          2.9           4.5          1.5  versicolor\n84            5.4          3.0           4.5          1.5  versicolor\n85            6.0          3.4           4.5          1.6  versicolor\n106           4.9          2.5           4.5          1.7   virginica\n58            6.6          2.9           4.6          1.3  versicolor\n91            6.1          3.0           4.6          1.4  versicolor\n54            6.5          2.8           4.6          1.5  versicolor\n73            6.1          2.8           4.7          1.2  versicolor\n50            7.0          3.2           4.7          1.4  versicolor\n63            6.1          2.9           4.7          1.4  versicolor\n86            6.7          3.1           4.7          1.5  versicolor\n56            6.3          3.3           4.7          1.6  versicolor\n76            6.8          2.8           4.8          1.4  versicolor\n52            6.9          3.1           4.9          1.5  versicolor\n72            6.3          2.5           4.9          1.5  versicolor\n119           6.0          2.2           5.0          1.5   virginica\n77            6.7          3.0           5.0          1.7  versicolor\n133           6.3          2.8           5.1          1.5   virginica\n83            6.0          2.7           5.1          1.6  versicolor\n134           6.1          2.6           5.6          1.4   virginica\n129           7.2          3.0           5.8          1.6   virginica",
      "text/html": "<div>\n<style scoped>\n    .dataframe tbody tr th:only-of-type {\n        vertical-align: middle;\n    }\n\n    .dataframe tbody tr th {\n        vertical-align: top;\n    }\n\n    .dataframe thead th {\n        text-align: right;\n    }\n</style>\n<table border=\"1\" class=\"dataframe\">\n  <thead>\n    <tr style=\"text-align: right;\">\n      <th></th>\n      <th>sepal_length</th>\n      <th>sepal_width</th>\n      <th>petal_length</th>\n      <th>petal_width</th>\n      <th>species</th>\n    </tr>\n  </thead>\n  <tbody>\n    <tr>\n      <th>98</th>\n      <td>5.1</td>\n      <td>2.5</td>\n      <td>3.0</td>\n      <td>1.1</td>\n      <td>versicolor</td>\n    </tr>\n    <tr>\n      <th>57</th>\n      <td>4.9</td>\n      <td>2.4</td>\n      <td>3.3</td>\n      <td>1.0</td>\n      <td>versicolor</td>\n    </tr>\n    <tr>\n      <th>93</th>\n      <td>5.0</td>\n      <td>2.3</td>\n      <td>3.3</td>\n      <td>1.0</td>\n      <td>versicolor</td>\n    </tr>\n    <tr>\n      <th>60</th>\n      <td>5.0</td>\n      <td>2.0</td>\n      <td>3.5</td>\n      <td>1.0</td>\n      <td>versicolor</td>\n    </tr>\n    <tr>\n      <th>79</th>\n      <td>5.7</td>\n      <td>2.6</td>\n      <td>3.5</td>\n      <td>1.0</td>\n      <td>versicolor</td>\n    </tr>\n    <tr>\n      <th>64</th>\n      <td>5.6</td>\n      <td>2.9</td>\n      <td>3.6</td>\n      <td>1.3</td>\n      <td>versicolor</td>\n    </tr>\n    <tr>\n      <th>81</th>\n      <td>5.5</td>\n      <td>2.4</td>\n      <td>3.7</td>\n      <td>1.0</td>\n      <td>versicolor</td>\n    </tr>\n    <tr>\n      <th>80</th>\n      <td>5.5</td>\n      <td>2.4</td>\n      <td>3.8</td>\n      <td>1.1</td>\n      <td>versicolor</td>\n    </tr>\n    <tr>\n      <th>69</th>\n      <td>5.6</td>\n      <td>2.5</td>\n      <td>3.9</td>\n      <td>1.1</td>\n      <td>versicolor</td>\n    </tr>\n    <tr>\n      <th>82</th>\n      <td>5.8</td>\n      <td>2.7</td>\n      <td>3.9</td>\n      <td>1.2</td>\n      <td>versicolor</td>\n    </tr>\n    <tr>\n      <th>59</th>\n      <td>5.2</td>\n      <td>2.7</td>\n      <td>3.9</td>\n      <td>1.4</td>\n      <td>versicolor</td>\n    </tr>\n    <tr>\n      <th>62</th>\n      <td>6.0</td>\n      <td>2.2</td>\n      <td>4.0</td>\n      <td>1.0</td>\n      <td>versicolor</td>\n    </tr>\n    <tr>\n      <th>92</th>\n      <td>5.8</td>\n      <td>2.6</td>\n      <td>4.0</td>\n      <td>1.2</td>\n      <td>versicolor</td>\n    </tr>\n    <tr>\n      <th>53</th>\n      <td>5.5</td>\n      <td>2.3</td>\n      <td>4.0</td>\n      <td>1.3</td>\n      <td>versicolor</td>\n    </tr>\n    <tr>\n      <th>71</th>\n      <td>6.1</td>\n      <td>2.8</td>\n      <td>4.0</td>\n      <td>1.3</td>\n      <td>versicolor</td>\n    </tr>\n    <tr>\n      <th>89</th>\n      <td>5.5</td>\n      <td>2.5</td>\n      <td>4.0</td>\n      <td>1.3</td>\n      <td>versicolor</td>\n    </tr>\n    <tr>\n      <th>67</th>\n      <td>5.8</td>\n      <td>2.7</td>\n      <td>4.1</td>\n      <td>1.0</td>\n      <td>versicolor</td>\n    </tr>\n    <tr>\n      <th>88</th>\n      <td>5.6</td>\n      <td>3.0</td>\n      <td>4.1</td>\n      <td>1.3</td>\n      <td>versicolor</td>\n    </tr>\n    <tr>\n      <th>99</th>\n      <td>5.7</td>\n      <td>2.8</td>\n      <td>4.1</td>\n      <td>1.3</td>\n      <td>versicolor</td>\n    </tr>\n    <tr>\n      <th>95</th>\n      <td>5.7</td>\n      <td>3.0</td>\n      <td>4.2</td>\n      <td>1.2</td>\n      <td>versicolor</td>\n    </tr>\n    <tr>\n      <th>94</th>\n      <td>5.6</td>\n      <td>2.7</td>\n      <td>4.2</td>\n      <td>1.3</td>\n      <td>versicolor</td>\n    </tr>\n    <tr>\n      <th>96</th>\n      <td>5.7</td>\n      <td>2.9</td>\n      <td>4.2</td>\n      <td>1.3</td>\n      <td>versicolor</td>\n    </tr>\n    <tr>\n      <th>61</th>\n      <td>5.9</td>\n      <td>3.0</td>\n      <td>4.2</td>\n      <td>1.5</td>\n      <td>versicolor</td>\n    </tr>\n    <tr>\n      <th>74</th>\n      <td>6.4</td>\n      <td>2.9</td>\n      <td>4.3</td>\n      <td>1.3</td>\n      <td>versicolor</td>\n    </tr>\n    <tr>\n      <th>97</th>\n      <td>6.2</td>\n      <td>2.9</td>\n      <td>4.3</td>\n      <td>1.3</td>\n      <td>versicolor</td>\n    </tr>\n    <tr>\n      <th>90</th>\n      <td>5.5</td>\n      <td>2.6</td>\n      <td>4.4</td>\n      <td>1.2</td>\n      <td>versicolor</td>\n    </tr>\n    <tr>\n      <th>87</th>\n      <td>6.3</td>\n      <td>2.3</td>\n      <td>4.4</td>\n      <td>1.3</td>\n      <td>versicolor</td>\n    </tr>\n    <tr>\n      <th>65</th>\n      <td>6.7</td>\n      <td>3.1</td>\n      <td>4.4</td>\n      <td>1.4</td>\n      <td>versicolor</td>\n    </tr>\n    <tr>\n      <th>75</th>\n      <td>6.6</td>\n      <td>3.0</td>\n      <td>4.4</td>\n      <td>1.4</td>\n      <td>versicolor</td>\n    </tr>\n    <tr>\n      <th>55</th>\n      <td>5.7</td>\n      <td>2.8</td>\n      <td>4.5</td>\n      <td>1.3</td>\n      <td>versicolor</td>\n    </tr>\n    <tr>\n      <th>51</th>\n      <td>6.4</td>\n      <td>3.2</td>\n      <td>4.5</td>\n      <td>1.5</td>\n      <td>versicolor</td>\n    </tr>\n    <tr>\n      <th>66</th>\n      <td>5.6</td>\n      <td>3.0</td>\n      <td>4.5</td>\n      <td>1.5</td>\n      <td>versicolor</td>\n    </tr>\n    <tr>\n      <th>68</th>\n      <td>6.2</td>\n      <td>2.2</td>\n      <td>4.5</td>\n      <td>1.5</td>\n      <td>versicolor</td>\n    </tr>\n    <tr>\n      <th>78</th>\n      <td>6.0</td>\n      <td>2.9</td>\n      <td>4.5</td>\n      <td>1.5</td>\n      <td>versicolor</td>\n    </tr>\n    <tr>\n      <th>84</th>\n      <td>5.4</td>\n      <td>3.0</td>\n      <td>4.5</td>\n      <td>1.5</td>\n      <td>versicolor</td>\n    </tr>\n    <tr>\n      <th>85</th>\n      <td>6.0</td>\n      <td>3.4</td>\n      <td>4.5</td>\n      <td>1.6</td>\n      <td>versicolor</td>\n    </tr>\n    <tr>\n      <th>106</th>\n      <td>4.9</td>\n      <td>2.5</td>\n      <td>4.5</td>\n      <td>1.7</td>\n      <td>virginica</td>\n    </tr>\n    <tr>\n      <th>58</th>\n      <td>6.6</td>\n      <td>2.9</td>\n      <td>4.6</td>\n      <td>1.3</td>\n      <td>versicolor</td>\n    </tr>\n    <tr>\n      <th>91</th>\n      <td>6.1</td>\n      <td>3.0</td>\n      <td>4.6</td>\n      <td>1.4</td>\n      <td>versicolor</td>\n    </tr>\n    <tr>\n      <th>54</th>\n      <td>6.5</td>\n      <td>2.8</td>\n      <td>4.6</td>\n      <td>1.5</td>\n      <td>versicolor</td>\n    </tr>\n    <tr>\n      <th>73</th>\n      <td>6.1</td>\n      <td>2.8</td>\n      <td>4.7</td>\n      <td>1.2</td>\n      <td>versicolor</td>\n    </tr>\n    <tr>\n      <th>50</th>\n      <td>7.0</td>\n      <td>3.2</td>\n      <td>4.7</td>\n      <td>1.4</td>\n      <td>versicolor</td>\n    </tr>\n    <tr>\n      <th>63</th>\n      <td>6.1</td>\n      <td>2.9</td>\n      <td>4.7</td>\n      <td>1.4</td>\n      <td>versicolor</td>\n    </tr>\n    <tr>\n      <th>86</th>\n      <td>6.7</td>\n      <td>3.1</td>\n      <td>4.7</td>\n      <td>1.5</td>\n      <td>versicolor</td>\n    </tr>\n    <tr>\n      <th>56</th>\n      <td>6.3</td>\n      <td>3.3</td>\n      <td>4.7</td>\n      <td>1.6</td>\n      <td>versicolor</td>\n    </tr>\n    <tr>\n      <th>76</th>\n      <td>6.8</td>\n      <td>2.8</td>\n      <td>4.8</td>\n      <td>1.4</td>\n      <td>versicolor</td>\n    </tr>\n    <tr>\n      <th>52</th>\n      <td>6.9</td>\n      <td>3.1</td>\n      <td>4.9</td>\n      <td>1.5</td>\n      <td>versicolor</td>\n    </tr>\n    <tr>\n      <th>72</th>\n      <td>6.3</td>\n      <td>2.5</td>\n      <td>4.9</td>\n      <td>1.5</td>\n      <td>versicolor</td>\n    </tr>\n    <tr>\n      <th>119</th>\n      <td>6.0</td>\n      <td>2.2</td>\n      <td>5.0</td>\n      <td>1.5</td>\n      <td>virginica</td>\n    </tr>\n    <tr>\n      <th>77</th>\n      <td>6.7</td>\n      <td>3.0</td>\n      <td>5.0</td>\n      <td>1.7</td>\n      <td>versicolor</td>\n    </tr>\n    <tr>\n      <th>133</th>\n      <td>6.3</td>\n      <td>2.8</td>\n      <td>5.1</td>\n      <td>1.5</td>\n      <td>virginica</td>\n    </tr>\n    <tr>\n      <th>83</th>\n      <td>6.0</td>\n      <td>2.7</td>\n      <td>5.1</td>\n      <td>1.6</td>\n      <td>versicolor</td>\n    </tr>\n    <tr>\n      <th>134</th>\n      <td>6.1</td>\n      <td>2.6</td>\n      <td>5.6</td>\n      <td>1.4</td>\n      <td>virginica</td>\n    </tr>\n    <tr>\n      <th>129</th>\n      <td>7.2</td>\n      <td>3.0</td>\n      <td>5.8</td>\n      <td>1.6</td>\n      <td>virginica</td>\n    </tr>\n  </tbody>\n</table>\n</div>"
     },
     "execution_count": 18,
     "metadata": {},
     "output_type": "execute_result"
    }
   ],
   "source": [
    "iris_c[ (iris_c[\"petal_length\"]>2.5) & (iris_c[\"petal_width\"]<1.8) ].sort_values(by=[\"petal_length\",\"petal_width\"])"
   ]
  },
  {
   "cell_type": "code",
   "execution_count": 23,
   "metadata": {
    "ExecuteTime": {
     "start_time": "2023-04-15T12:48:11.947479Z",
     "end_time": "2023-04-15T12:48:11.953973Z"
    }
   },
   "outputs": [
    {
     "data": {
      "text/plain": "species\nversicolor    49\nvirginica      5\nName: count, dtype: int64"
     },
     "execution_count": 23,
     "metadata": {},
     "output_type": "execute_result"
    }
   ],
   "source": [
    "iris_c[ (iris_c[\"petal_length\"]>=2.5) & (iris_c[\"petal_width\"]<1.8) ].sort_values(by=[\"petal_length\",\"petal_width\"])[\"species\"].value_counts()"
   ]
  },
  {
   "cell_type": "code",
   "execution_count": null,
   "outputs": [],
   "source": [],
   "metadata": {
    "collapsed": false
   }
  }
 ],
 "metadata": {
  "kernelspec": {
   "display_name": "Python 3 (ipykernel)",
   "language": "python",
   "name": "python3"
  },
  "language_info": {
   "codemirror_mode": {
    "name": "ipython",
    "version": 3
   },
   "file_extension": ".py",
   "mimetype": "text/x-python",
   "name": "python",
   "nbconvert_exporter": "python",
   "pygments_lexer": "ipython3",
   "version": "3.11.3"
  }
 },
 "nbformat": 4,
 "nbformat_minor": 1
}
