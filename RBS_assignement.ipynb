{
 "cells": [
  {
   "cell_type": "code",
   "execution_count": 2,
   "metadata": {
    "collapsed": true,
    "ExecuteTime": {
     "start_time": "2023-04-12T22:36:28.426896Z",
     "end_time": "2023-04-12T22:36:28.435805Z"
    }
   },
   "outputs": [
    {
     "name": "stdout",
     "output_type": "stream",
     "text": [
      "     Sepal.Length  Sepal.Width  Petal.Length  Petal.Width    Species\n",
      "0             5.1          3.5           1.4          0.2     setosa\n",
      "1             4.9          3.0           1.4          0.2     setosa\n",
      "2             4.7          3.2           1.3          0.2     setosa\n",
      "3             4.6          3.1           1.5          0.2     setosa\n",
      "4             5.0          3.6           1.4          0.2     setosa\n",
      "..            ...          ...           ...          ...        ...\n",
      "145           6.7          3.0           5.2          2.3  virginica\n",
      "146           6.3          2.5           5.0          1.9  virginica\n",
      "147           6.5          3.0           5.2          2.0  virginica\n",
      "148           6.2          3.4           5.4          2.3  virginica\n",
      "149           5.9          3.0           5.1          1.8  virginica\n",
      "\n",
      "[150 rows x 5 columns]\n"
     ]
    }
   ],
   "source": [
    "import pandas as pd\n",
    "iris = pd.read_csv('./iris.csv')\n",
    "print(iris)"
   ]
  },
  {
   "cell_type": "code",
   "execution_count": 10,
   "outputs": [
    {
     "name": "stdout",
     "output_type": "stream",
     "text": [
      "Calcolo medie:\n",
      "Sepal.Length->5.843333333333334\n",
      "Sepal.Width->3.0573333333333337\n",
      "Petal.Length->3.7580000000000005\n",
      "Petal.Width->1.1993333333333336\n"
     ]
    }
   ],
   "source": [
    "print(f'''Calcolo medie:\n",
    "Sepal.Length->{iris[\"Sepal.Length\"].mean()}\n",
    "Sepal.Width->{iris[\"Sepal.Width\"].mean()}\n",
    "Petal.Length->{iris[\"Petal.Length\"].mean()}\n",
    "Petal.Width->{iris[\"Petal.Width\"].mean()}''')"
   ],
   "metadata": {
    "collapsed": false,
    "ExecuteTime": {
     "start_time": "2023-04-12T22:45:24.757260Z",
     "end_time": "2023-04-12T22:45:24.759772Z"
    }
   }
  },
  {
   "cell_type": "code",
   "execution_count": 30,
   "outputs": [
    {
     "name": "stdout",
     "output_type": "stream",
     "text": [
      "     sepal_length  sepal_width  petal_length  petal_width    species\n",
      "0             5.1          3.5           1.4          0.2     setosa\n",
      "1             4.9          3.0           1.4          0.2     setosa\n",
      "2             4.7          3.2           1.3          0.2     setosa\n",
      "3             4.6          3.1           1.5          0.2     setosa\n",
      "4             5.0          3.6           1.4          0.2     setosa\n",
      "..            ...          ...           ...          ...        ...\n",
      "145           6.7          3.0           5.2          2.3  virginica\n",
      "146           6.3          2.5           5.0          1.9  virginica\n",
      "147           6.5          3.0           5.2          2.0  virginica\n",
      "148           6.2          3.4           5.4          2.3  virginica\n",
      "149           5.9          3.0           5.1          1.8  virginica\n",
      "\n",
      "[150 rows x 5 columns]\n"
     ]
    }
   ],
   "source": [
    "iris_c = iris.copy()\n",
    "iris_c= iris_c.rename(columns={\"Sepal.Length\":\"sepal_length\",\"Sepal.Width\":\"sepal_width\",\"Petal.Length\":\"petal_length\",\"Petal.Width\":\"petal_width\",\"Species\":\"species\"})\n",
    "print(iris_c)\n",
    "numeric_col = iris_c.columns.values[:4]"
   ],
   "metadata": {
    "collapsed": false,
    "ExecuteTime": {
     "start_time": "2023-04-12T23:28:56.980806Z",
     "end_time": "2023-04-12T23:28:56.982812Z"
    }
   }
  },
  {
   "cell_type": "code",
   "execution_count": 33,
   "outputs": [
    {
     "name": "stdout",
     "output_type": "stream",
     "text": [
      "setosa\n",
      "\n",
      "        sepal_length->5.006\n",
      "        \n",
      "\n",
      "        sepal_width->3.428\n",
      "        \n",
      "\n",
      "        petal_length->1.4620000000000002\n",
      "        \n",
      "\n",
      "        petal_width->0.24599999999999997\n",
      "        \n",
      "versicolor\n",
      "\n",
      "        sepal_length->5.936\n",
      "        \n",
      "\n",
      "        sepal_width->2.7700000000000005\n",
      "        \n",
      "\n",
      "        petal_length->4.26\n",
      "        \n",
      "\n",
      "        petal_width->1.3259999999999998\n",
      "        \n",
      "virginica\n",
      "\n",
      "        sepal_length->6.587999999999998\n",
      "        \n",
      "\n",
      "        sepal_width->2.974\n",
      "        \n",
      "\n",
      "        petal_length->5.5520000000000005\n",
      "        \n",
      "\n",
      "        petal_width->2.0260000000000002\n",
      "        \n"
     ]
    }
   ],
   "source": [
    "for sType in iris_c[\"species\"].drop_duplicates():\n",
    "    print(sType)\n",
    "    iris_sType = iris_c[iris_c[\"species\"]==sType]\n",
    "    for col in numeric_col:\n",
    "        print(f'''\n",
    "        {col}->{iris_sType[col].mean()}\n",
    "        ''')\n"
   ],
   "metadata": {
    "collapsed": false,
    "ExecuteTime": {
     "start_time": "2023-04-12T23:30:22.920048Z",
     "end_time": "2023-04-12T23:30:22.924659Z"
    }
   }
  },
  {
   "cell_type": "code",
   "execution_count": null,
   "outputs": [],
   "source": [],
   "metadata": {
    "collapsed": false
   }
  }
 ],
 "metadata": {
  "kernelspec": {
   "display_name": "Python 3",
   "language": "python",
   "name": "python3"
  },
  "language_info": {
   "codemirror_mode": {
    "name": "ipython",
    "version": 2
   },
   "file_extension": ".py",
   "mimetype": "text/x-python",
   "name": "python",
   "nbconvert_exporter": "python",
   "pygments_lexer": "ipython2",
   "version": "2.7.6"
  }
 },
 "nbformat": 4,
 "nbformat_minor": 0
}
