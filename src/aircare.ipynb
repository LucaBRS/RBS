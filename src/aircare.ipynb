{
 "cells": [
  {
   "cell_type": "code",
   "execution_count": 11,
   "outputs": [
    {
     "name": "stdout",
     "output_type": "stream",
     "text": [
      "-1\n",
      "2019  pm10_ext\n",
      "-1\n",
      "2020  pm10_ext\n",
      "-1\n",
      "2021  pm10_ext\n",
      "-1\n",
      "2022  pm10_ext\n",
      "0\n",
      "2019  pm25_ext\n",
      "0\n",
      "2020  pm25_ext\n",
      "0\n",
      "2021  pm25_ext\n",
      "0\n",
      "2022  pm25_ext\n",
      "CAP153_1\n"
     ]
    },
    {
     "name": "stderr",
     "output_type": "stream",
     "text": [
      "C:\\Users\\lucab\\Documents\\Python\\Assignement_RBS\\src\\utils\\parsing_table.py:127: DtypeWarning: Columns (11,12,13,14,15,16,17,18,19,21) have mixed types. Specify dtype option on import or set low_memory=False.\n",
      "  df = pd.read_csv(str(path),\n"
     ]
    },
    {
     "name": "stdout",
     "output_type": "stream",
     "text": [
      "CAP153_2\n",
      "CAP153_3\n"
     ]
    },
    {
     "name": "stderr",
     "output_type": "stream",
     "text": [
      "C:\\Users\\lucab\\Documents\\Python\\Assignement_RBS\\src\\utils\\parsing_table.py:127: DtypeWarning: Columns (13,14,15,18,19) have mixed types. Specify dtype option on import or set low_memory=False.\n",
      "  df = pd.read_csv(str(path),\n"
     ]
    },
    {
     "name": "stdout",
     "output_type": "stream",
     "text": [
      "CAP186_1\n",
      "CAP186_2\n"
     ]
    },
    {
     "name": "stderr",
     "output_type": "stream",
     "text": [
      "C:\\Users\\lucab\\Documents\\Python\\Assignement_RBS\\src\\utils\\parsing_table.py:127: DtypeWarning: Columns (13,14,18) have mixed types. Specify dtype option on import or set low_memory=False.\n",
      "  df = pd.read_csv(str(path),\n"
     ]
    },
    {
     "name": "stdout",
     "output_type": "stream",
     "text": [
      "CAP186_3\n",
      "end loading\n"
     ]
    }
   ],
   "source": [
    "from utils.aqi_calculation import AqiCalculation\n",
    "from utils.parsing_table import ParsingTable\n",
    "from datetime import date\n",
    "import pandas as pd\n",
    "import numpy as np\n",
    "import os\n",
    "\n",
    "pd.options.mode.chained_assignment = None\n",
    "\n",
    "path = '../resources/aqi_breakpoints.xlsx'\n",
    "aqi = AqiCalculation(dict_df=pd.read_excel(path, sheet_name=['electrosmog_lf', 'wifi_level',\n",
    "                                                             'temperature', 'humidity', 'air_pressure',\n",
    "                                                             'ambient_light', 'tvoc',\n",
    "                                                             'co2', 'co2e', 'pm10', 'pm25', 'sound',\n",
    "                                                             'electrosmog_hf']))\n",
    "arpa_pool = {}\n",
    "arpa_path = '../resources/arpa/'\n",
    "arpa_list = os.listdir(arpa_path)\n",
    "for file in arpa_list:\n",
    "    if file.endswith('.txt'):\n",
    "        temp: pd.DataFrame()\n",
    "        pm = str(file.split('_')[1].replace('.', '').lower() + '_ext')\n",
    "        tempT:str\n",
    "        print(pm.find('pm25'))\n",
    "        if pm=='pm25_ext':\n",
    "            tempT='3'\n",
    "        else:\n",
    "            tempT='5'\n",
    "\n",
    "        temp = pd.read_table(arpa_path + file, delimiter='\\s+')[['anno', 'jd', tempT]]\n",
    "        temp.rename(columns={tempT: pm}, inplace=True)\n",
    "        temp['date'] = pd.to_datetime(temp['anno'].astype(str) + temp['jd'].astype(str), format='%Y%j').dt.date\n",
    "        temp= temp[['date',pm]]\n",
    "        print(f'{file.split(\"_\")[2]}  {pm}')\n",
    "        try:\n",
    "            arpa_pool[pm] = pd.concat([temp, arpa_pool[pm]])\n",
    "        except:\n",
    "            arpa_pool[pm] = temp\n",
    "\n",
    "arpa_pool= arpa_pool['pm10_ext'].merge(arpa_pool['pm25_ext'],on='date')\n",
    "arpa_pool['date']= pd.to_datetime(arpa_pool['date'])\n",
    "\n",
    "meteo = pd.read_csv('../resources/meteo.csv').rename(\n",
    "    columns={'DATA': 'date', 'TMEDIA °C': 'ext_temperature', 'UMIDITA %': 'ext_humidity', 'VENTOMEDIA km/h': 'ext_wind',\n",
    "             'PRESSIONESLM mb': 'ext_pressure', 'FENOMENI': 'ext_weather'})[\n",
    "    ['date', 'ext_temperature', 'ext_humidity', 'ext_wind', 'ext_pressure', 'ext_weather']]\n",
    "meteo['ext_weather'] = meteo['ext_weather'].fillna('sole')\n",
    "meteo['date'] = pd.to_datetime(meteo['date'], format=\"%d/%m/%Y\")\n",
    "\n",
    "pool = {}\n",
    "pool_by_day = {}\n",
    "pt = ParsingTable()\n",
    "input_path = '../resources/semi_clean_file/'\n",
    "dir_list = os.listdir(input_path)\n",
    "for file in dir_list:\n",
    "    if file.endswith('.csv'):\n",
    "        temp: pd.DataFrame\n",
    "        device_id: int\n",
    "        naming = file.split('.')[0]\n",
    "        print(naming)\n",
    "        temp = pt.parse(input_path=input_path + file)\n",
    "        temp['date'] = pd.to_datetime(temp['date'])\n",
    "        pool[naming] = temp\n",
    "        device_id = temp['device_id'].iloc[0]\n",
    "        temp = temp.groupby(temp['date'].dt.date).agg({'iaq': 'mean', 'electrosmog_lf': 'mean', 'wifi_level': 'mean',\n",
    "                                                       'wifi_n': 'mean', 'temperature': 'mean', 'humidity': 'mean',\n",
    "                                                       'air_pressure': 'mean', 'ambient_light': 'mean', 'tvoc': 'mean',\n",
    "                                                       'co2': 'mean', 'co2e': 'mean', 'pm10': 'mean', 'pm25': 'mean',\n",
    "                                                       'sound': 'mean', 'electrosmog_hf': 'mean'}).reset_index()\n",
    "        temp['device_id'] = device_id\n",
    "        temp['date'] = pd.to_datetime(temp['date'])\n",
    "        temp = temp.merge(meteo, on='date')\n",
    "        temp = temp.merge(arpa_pool,on='date')\n",
    "        pool_by_day[naming] = temp\n",
    "\n",
    "df_arpa = pd.read_csv('../resources/dati_nrt_informambiente_mv.csv')\n",
    "\n",
    "print('end loading')"
   ],
   "metadata": {
    "collapsed": false,
    "ExecuteTime": {
     "end_time": "2023-09-04T17:14:14.142309500Z",
     "start_time": "2023-09-04T17:13:55.919376900Z"
    }
   }
  },
  {
   "cell_type": "code",
   "execution_count": 12,
   "outputs": [
    {
     "data": {
      "text/plain": "          date         iaq  electrosmog_lf  wifi_level     wifi_n   \n0   2020-01-29   35.113333      162.000000  -64.600000   6.333333  \\\n1   2020-01-31  133.361212      183.515152  -32.696970  22.521212   \n2   2020-02-01   71.595533      172.536082  -31.037801  24.285223   \n3   2020-02-02   73.602759      174.189655  -31.144828  23.913793   \n4   2020-02-03  125.578621      174.344828  -32.558621  22.658621   \n..         ...         ...             ...         ...        ...   \n841 2022-10-29   81.217123      173.068493  -43.883562  18.880137   \n842 2022-10-30  129.048013      172.645695  -43.645695  18.473510   \n843 2022-10-31  110.533448      171.837931  -42.362069  18.234483   \n844 2022-11-01  138.262414      173.855172  -43.482759  18.727586   \n845 2022-11-02  101.878824      167.647059  -43.623529  17.647059   \n\n     temperature   humidity  air_pressure  ambient_light       tvoc  ...   \n0      21.393333  46.300000   1011.660000     381.053333  16.466667  ...  \\\n1      25.269091  37.952727   1020.461212     200.735758  11.448485  ...   \n2      25.195533  41.262543   1020.073540     186.563918  12.639175  ...   \n3      25.114138  43.229655   1020.692759     187.672069   6.620690  ...   \n4      25.902759  40.904828   1018.382414     207.726552  16.113793  ...   \n..           ...        ...           ...            ...        ...  ...   \n841    24.854452  47.390068   1022.786301     132.606507  29.315068  ...   \n842    24.159934  46.766556   1020.713907      21.128808  38.274834  ...   \n843    23.575862  45.921379   1020.797931     141.697241  34.727586  ...   \n844    23.618966  48.979655   1021.795172      20.078966  56.834483  ...   \n845    22.771765  49.656471   1022.296471      55.932941  74.823529  ...   \n\n         sound  electrosmog_hf  device_id  ext_temperature  ext_humidity   \n0    53.253333        0.286667        219             11.0          82.0  \\\n1    52.449697        1.469091        219             12.0          75.0   \n2    48.324742        1.427835        219             12.0          86.0   \n3    46.879655        1.406207        219             13.0          81.0   \n4    50.207241        1.514828        219             13.0          81.0   \n..         ...             ...        ...              ...           ...   \n841  42.829452        1.509589        219             18.0          68.0   \n842  41.748675        1.464238        219             17.0          67.0   \n843  45.764828        1.533793        219             18.0          58.0   \n844  42.562414        1.535172        219             17.0          69.0   \n845  40.645882        1.140000        219             17.0          74.0   \n\n     ext_wind  ext_pressure  ext_weather  pm10_ext  pm25_ext  \n0         8.0        1014.0     pioggia       43.0      13.0  \n1         8.0        1021.0         sole      56.0      24.0  \n2         6.0        1021.0         sole      62.0      44.0  \n3         7.0        1022.0         sole      37.0      27.0  \n4         7.0        1019.0         sole      37.0      16.0  \n..        ...           ...          ...       ...       ...  \n841       6.0        1025.0         sole      30.0      18.0  \n842       6.0        1022.0         sole      18.0      13.0  \n843       5.0        1022.0         sole      24.0      14.0  \n844       5.0        1023.0         sole      23.0      16.0  \n845       5.0        1023.0         sole      28.0      23.0  \n\n[846 rows x 24 columns]",
      "text/html": "<div>\n<style scoped>\n    .dataframe tbody tr th:only-of-type {\n        vertical-align: middle;\n    }\n\n    .dataframe tbody tr th {\n        vertical-align: top;\n    }\n\n    .dataframe thead th {\n        text-align: right;\n    }\n</style>\n<table border=\"1\" class=\"dataframe\">\n  <thead>\n    <tr style=\"text-align: right;\">\n      <th></th>\n      <th>date</th>\n      <th>iaq</th>\n      <th>electrosmog_lf</th>\n      <th>wifi_level</th>\n      <th>wifi_n</th>\n      <th>temperature</th>\n      <th>humidity</th>\n      <th>air_pressure</th>\n      <th>ambient_light</th>\n      <th>tvoc</th>\n      <th>...</th>\n      <th>sound</th>\n      <th>electrosmog_hf</th>\n      <th>device_id</th>\n      <th>ext_temperature</th>\n      <th>ext_humidity</th>\n      <th>ext_wind</th>\n      <th>ext_pressure</th>\n      <th>ext_weather</th>\n      <th>pm10_ext</th>\n      <th>pm25_ext</th>\n    </tr>\n  </thead>\n  <tbody>\n    <tr>\n      <th>0</th>\n      <td>2020-01-29</td>\n      <td>35.113333</td>\n      <td>162.000000</td>\n      <td>-64.600000</td>\n      <td>6.333333</td>\n      <td>21.393333</td>\n      <td>46.300000</td>\n      <td>1011.660000</td>\n      <td>381.053333</td>\n      <td>16.466667</td>\n      <td>...</td>\n      <td>53.253333</td>\n      <td>0.286667</td>\n      <td>219</td>\n      <td>11.0</td>\n      <td>82.0</td>\n      <td>8.0</td>\n      <td>1014.0</td>\n      <td>pioggia</td>\n      <td>43.0</td>\n      <td>13.0</td>\n    </tr>\n    <tr>\n      <th>1</th>\n      <td>2020-01-31</td>\n      <td>133.361212</td>\n      <td>183.515152</td>\n      <td>-32.696970</td>\n      <td>22.521212</td>\n      <td>25.269091</td>\n      <td>37.952727</td>\n      <td>1020.461212</td>\n      <td>200.735758</td>\n      <td>11.448485</td>\n      <td>...</td>\n      <td>52.449697</td>\n      <td>1.469091</td>\n      <td>219</td>\n      <td>12.0</td>\n      <td>75.0</td>\n      <td>8.0</td>\n      <td>1021.0</td>\n      <td>sole</td>\n      <td>56.0</td>\n      <td>24.0</td>\n    </tr>\n    <tr>\n      <th>2</th>\n      <td>2020-02-01</td>\n      <td>71.595533</td>\n      <td>172.536082</td>\n      <td>-31.037801</td>\n      <td>24.285223</td>\n      <td>25.195533</td>\n      <td>41.262543</td>\n      <td>1020.073540</td>\n      <td>186.563918</td>\n      <td>12.639175</td>\n      <td>...</td>\n      <td>48.324742</td>\n      <td>1.427835</td>\n      <td>219</td>\n      <td>12.0</td>\n      <td>86.0</td>\n      <td>6.0</td>\n      <td>1021.0</td>\n      <td>sole</td>\n      <td>62.0</td>\n      <td>44.0</td>\n    </tr>\n    <tr>\n      <th>3</th>\n      <td>2020-02-02</td>\n      <td>73.602759</td>\n      <td>174.189655</td>\n      <td>-31.144828</td>\n      <td>23.913793</td>\n      <td>25.114138</td>\n      <td>43.229655</td>\n      <td>1020.692759</td>\n      <td>187.672069</td>\n      <td>6.620690</td>\n      <td>...</td>\n      <td>46.879655</td>\n      <td>1.406207</td>\n      <td>219</td>\n      <td>13.0</td>\n      <td>81.0</td>\n      <td>7.0</td>\n      <td>1022.0</td>\n      <td>sole</td>\n      <td>37.0</td>\n      <td>27.0</td>\n    </tr>\n    <tr>\n      <th>4</th>\n      <td>2020-02-03</td>\n      <td>125.578621</td>\n      <td>174.344828</td>\n      <td>-32.558621</td>\n      <td>22.658621</td>\n      <td>25.902759</td>\n      <td>40.904828</td>\n      <td>1018.382414</td>\n      <td>207.726552</td>\n      <td>16.113793</td>\n      <td>...</td>\n      <td>50.207241</td>\n      <td>1.514828</td>\n      <td>219</td>\n      <td>13.0</td>\n      <td>81.0</td>\n      <td>7.0</td>\n      <td>1019.0</td>\n      <td>sole</td>\n      <td>37.0</td>\n      <td>16.0</td>\n    </tr>\n    <tr>\n      <th>...</th>\n      <td>...</td>\n      <td>...</td>\n      <td>...</td>\n      <td>...</td>\n      <td>...</td>\n      <td>...</td>\n      <td>...</td>\n      <td>...</td>\n      <td>...</td>\n      <td>...</td>\n      <td>...</td>\n      <td>...</td>\n      <td>...</td>\n      <td>...</td>\n      <td>...</td>\n      <td>...</td>\n      <td>...</td>\n      <td>...</td>\n      <td>...</td>\n      <td>...</td>\n      <td>...</td>\n    </tr>\n    <tr>\n      <th>841</th>\n      <td>2022-10-29</td>\n      <td>81.217123</td>\n      <td>173.068493</td>\n      <td>-43.883562</td>\n      <td>18.880137</td>\n      <td>24.854452</td>\n      <td>47.390068</td>\n      <td>1022.786301</td>\n      <td>132.606507</td>\n      <td>29.315068</td>\n      <td>...</td>\n      <td>42.829452</td>\n      <td>1.509589</td>\n      <td>219</td>\n      <td>18.0</td>\n      <td>68.0</td>\n      <td>6.0</td>\n      <td>1025.0</td>\n      <td>sole</td>\n      <td>30.0</td>\n      <td>18.0</td>\n    </tr>\n    <tr>\n      <th>842</th>\n      <td>2022-10-30</td>\n      <td>129.048013</td>\n      <td>172.645695</td>\n      <td>-43.645695</td>\n      <td>18.473510</td>\n      <td>24.159934</td>\n      <td>46.766556</td>\n      <td>1020.713907</td>\n      <td>21.128808</td>\n      <td>38.274834</td>\n      <td>...</td>\n      <td>41.748675</td>\n      <td>1.464238</td>\n      <td>219</td>\n      <td>17.0</td>\n      <td>67.0</td>\n      <td>6.0</td>\n      <td>1022.0</td>\n      <td>sole</td>\n      <td>18.0</td>\n      <td>13.0</td>\n    </tr>\n    <tr>\n      <th>843</th>\n      <td>2022-10-31</td>\n      <td>110.533448</td>\n      <td>171.837931</td>\n      <td>-42.362069</td>\n      <td>18.234483</td>\n      <td>23.575862</td>\n      <td>45.921379</td>\n      <td>1020.797931</td>\n      <td>141.697241</td>\n      <td>34.727586</td>\n      <td>...</td>\n      <td>45.764828</td>\n      <td>1.533793</td>\n      <td>219</td>\n      <td>18.0</td>\n      <td>58.0</td>\n      <td>5.0</td>\n      <td>1022.0</td>\n      <td>sole</td>\n      <td>24.0</td>\n      <td>14.0</td>\n    </tr>\n    <tr>\n      <th>844</th>\n      <td>2022-11-01</td>\n      <td>138.262414</td>\n      <td>173.855172</td>\n      <td>-43.482759</td>\n      <td>18.727586</td>\n      <td>23.618966</td>\n      <td>48.979655</td>\n      <td>1021.795172</td>\n      <td>20.078966</td>\n      <td>56.834483</td>\n      <td>...</td>\n      <td>42.562414</td>\n      <td>1.535172</td>\n      <td>219</td>\n      <td>17.0</td>\n      <td>69.0</td>\n      <td>5.0</td>\n      <td>1023.0</td>\n      <td>sole</td>\n      <td>23.0</td>\n      <td>16.0</td>\n    </tr>\n    <tr>\n      <th>845</th>\n      <td>2022-11-02</td>\n      <td>101.878824</td>\n      <td>167.647059</td>\n      <td>-43.623529</td>\n      <td>17.647059</td>\n      <td>22.771765</td>\n      <td>49.656471</td>\n      <td>1022.296471</td>\n      <td>55.932941</td>\n      <td>74.823529</td>\n      <td>...</td>\n      <td>40.645882</td>\n      <td>1.140000</td>\n      <td>219</td>\n      <td>17.0</td>\n      <td>74.0</td>\n      <td>5.0</td>\n      <td>1023.0</td>\n      <td>sole</td>\n      <td>28.0</td>\n      <td>23.0</td>\n    </tr>\n  </tbody>\n</table>\n<p>846 rows × 24 columns</p>\n</div>"
     },
     "execution_count": 12,
     "metadata": {},
     "output_type": "execute_result"
    }
   ],
   "source": [
    "pool_by_day['CAP153_1']"
   ],
   "metadata": {
    "collapsed": false,
    "ExecuteTime": {
     "end_time": "2023-09-04T17:15:04.698156700Z",
     "start_time": "2023-09-04T17:15:04.657983500Z"
    }
   }
  },
  {
   "cell_type": "code",
   "execution_count": 13,
   "outputs": [],
   "source": [
    "clean_file_153 = pd.concat([pool['CAP153_1'], pool['CAP153_2'], pool['CAP153_3']])\n",
    "clean_file_153.to_csv('../resources/concat_files/all_153.csv')\n",
    "\n",
    "clean_file_186 = pd.concat([pool['CAP186_1'], pool['CAP186_2'], pool['CAP186_3']])\n",
    "clean_file_186.to_csv('../resources/concat_files/all_186.csv')\n",
    "\n",
    "clean_file_153_meteo = pd.concat([pool_by_day['CAP153_1'], pool_by_day['CAP153_2'], pool_by_day['CAP153_3']])\n",
    "clean_file_153_meteo.to_csv('../resources/concat_files/all_pm_meteo_153.csv')\n",
    "\n",
    "clean_file_186_meteo = pd.concat([pool_by_day['CAP186_1'], pool_by_day['CAP186_2'], pool_by_day['CAP186_3']])\n",
    "clean_file_186_meteo.to_csv('../resources/concat_files/all_pm_meteo_186.csv')\n",
    "\n",
    "\n",
    "\n"
   ],
   "metadata": {
    "collapsed": false,
    "ExecuteTime": {
     "end_time": "2023-09-04T17:16:25.538446500Z",
     "start_time": "2023-09-04T17:16:19.201934600Z"
    }
   }
  },
  {
   "cell_type": "code",
   "execution_count": null,
   "outputs": [],
   "source": [
    "test = pool['CAP186_2'].copy()\n",
    "\n",
    "test = test[(test['battery'] != 'good') & (test['battery'] != 'low')]\n",
    "\n",
    "test"
   ],
   "metadata": {
    "collapsed": false
   }
  },
  {
   "cell_type": "code",
   "execution_count": null,
   "outputs": [],
   "source": [],
   "metadata": {
    "collapsed": false
   }
  },
  {
   "cell_type": "code",
   "execution_count": null,
   "outputs": [],
   "source": [],
   "metadata": {
    "collapsed": false
   }
  },
  {
   "cell_type": "code",
   "execution_count": null,
   "outputs": [],
   "source": [],
   "metadata": {
    "collapsed": false
   }
  },
  {
   "cell_type": "code",
   "execution_count": null,
   "outputs": [],
   "source": [],
   "metadata": {
    "collapsed": false
   }
  },
  {
   "cell_type": "code",
   "execution_count": null,
   "outputs": [],
   "source": [],
   "metadata": {
    "collapsed": false
   }
  },
  {
   "cell_type": "code",
   "execution_count": null,
   "outputs": [],
   "source": [
    "device_number: pd.DataFrame = pd.DataFrame()\n",
    "device_number = device_number.assign(device_id=pool_33_3['device_id'],\n",
    "                                     device_n=pool_33_3.groupby('device_id')['device_id'].transform(\n",
    "                                         'count')).drop_duplicates()\n",
    "# pool_33_3['dev_n'] = pool_33_3.groupby('device_id')['device_id'].transform('count')\n",
    "device_number"
   ],
   "metadata": {
    "collapsed": false
   }
  },
  {
   "cell_type": "markdown",
   "source": [],
   "metadata": {
    "collapsed": false
   }
  },
  {
   "cell_type": "code",
   "execution_count": null,
   "outputs": [],
   "source": [
    "# oaq --> iaq (con stesse variabili conosciute) ==> troviamo efficienza filtraggio interno"
   ],
   "metadata": {
    "collapsed": false
   }
  }
 ],
 "metadata": {
  "kernelspec": {
   "display_name": "Python 3",
   "language": "python",
   "name": "python3"
  },
  "language_info": {
   "codemirror_mode": {
    "name": "ipython",
    "version": 2
   },
   "file_extension": ".py",
   "mimetype": "text/x-python",
   "name": "python",
   "nbconvert_exporter": "python",
   "pygments_lexer": "ipython2",
   "version": "2.7.6"
  }
 },
 "nbformat": 4,
 "nbformat_minor": 0
}
