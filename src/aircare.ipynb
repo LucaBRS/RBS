{
 "cells": [
  {
   "cell_type": "code",
   "execution_count": 15,
   "outputs": [
    {
     "name": "stdout",
     "output_type": "stream",
     "text": [
      "CAP153_1\n"
     ]
    },
    {
     "name": "stderr",
     "output_type": "stream",
     "text": [
      "C:\\Users\\lucab\\Documents\\Python\\Assignement_RBS\\src\\utils\\parsing_table.py:127: DtypeWarning: Columns (11,12,13,14,15,16,17,18,19,21) have mixed types. Specify dtype option on import or set low_memory=False.\n",
      "  df = pd.read_csv(str(path),\n"
     ]
    },
    {
     "name": "stdout",
     "output_type": "stream",
     "text": [
      "CAP153_2\n",
      "CAP153_3\n"
     ]
    },
    {
     "name": "stderr",
     "output_type": "stream",
     "text": [
      "C:\\Users\\lucab\\Documents\\Python\\Assignement_RBS\\src\\utils\\parsing_table.py:127: DtypeWarning: Columns (13,14,15,18,19) have mixed types. Specify dtype option on import or set low_memory=False.\n",
      "  df = pd.read_csv(str(path),\n"
     ]
    },
    {
     "name": "stdout",
     "output_type": "stream",
     "text": [
      "CAP186_1\n",
      "CAP186_2\n"
     ]
    },
    {
     "name": "stderr",
     "output_type": "stream",
     "text": [
      "C:\\Users\\lucab\\Documents\\Python\\Assignement_RBS\\src\\utils\\parsing_table.py:127: DtypeWarning: Columns (13,14,18) have mixed types. Specify dtype option on import or set low_memory=False.\n",
      "  df = pd.read_csv(str(path),\n"
     ]
    },
    {
     "name": "stdout",
     "output_type": "stream",
     "text": [
      "CAP186_3\n",
      "end loading\n"
     ]
    }
   ],
   "source": [
    "from utils.aqi_calculation import AqiCalculation\n",
    "from utils.parsing_table import ParsingTable\n",
    "from datetime import date\n",
    "import pandas as pd\n",
    "import numpy as np\n",
    "import os\n",
    "pd.options.mode.chained_assignment = None\n",
    "\n",
    "path = '../resources/aqi_breakpoints.xlsx'\n",
    "aqi = AqiCalculation(dict_df=pd.read_excel(path, sheet_name=['electrosmog_lf', 'wifi_level',\n",
    "                                                                 'temperature', 'humidity', 'air_pressure',\n",
    "                                                                 'ambient_light', 'tvoc',\n",
    "                                                                 'co2', 'co2e', 'pm10', 'pm25', 'sound',\n",
    "                                                                 'electrosmog_hf']))\n",
    "\n",
    "input_path = '../resources/clean_file/'\n",
    "dir_list = os.listdir(input_path)\n",
    "meteo = pd.read_csv('../resources/meteo.csv').rename(columns={'DATA':'date','TMEDIA °C':'ext_temperature','UMIDITA %':'ext_humidity','VENTOMEDIA km/h':'ext_wind','PRESSIONESLM mb':'ext_pressure','FENOMENI':'ext_weather'})[['date','ext_temperature','ext_humidity','ext_wind','ext_pressure','ext_weather']]\n",
    "meteo['ext_weather']= meteo['ext_weather'].fillna('sole')\n",
    "meteo['date']=pd.to_datetime(meteo['date'],format=\"%d/%m/%Y\")\n",
    "pool = {}\n",
    "pool_by_day={}\n",
    "pt = ParsingTable()\n",
    "for file in dir_list:\n",
    "    if file.endswith('.csv'):\n",
    "        temp: pd.DataFrame\n",
    "        device_id:int\n",
    "        naming = file.split('.')[0]\n",
    "        print(naming)\n",
    "        temp = pt.parse(input_path=input_path + file)\n",
    "        temp['date'] = pd.to_datetime(temp['date'])\n",
    "        pool[naming] = temp\n",
    "        device_id = temp['device_id'].iloc[0]\n",
    "        temp = temp.groupby(temp['date'].dt.date).agg({'iaq': 'mean', 'electrosmog_lf': 'mean', 'wifi_level': 'mean',\n",
    "                                               'wifi_n': 'mean', 'temperature': 'mean', 'humidity': 'mean',\n",
    "                                               'air_pressure': 'mean', 'ambient_light': 'mean', 'tvoc': 'mean',\n",
    "                                               'co2': 'mean', 'co2e': 'mean', 'pm10': 'mean', 'pm25': 'mean',\n",
    "                                               'sound': 'mean', 'electrosmog_hf': 'mean'}).reset_index()\n",
    "        temp['device_id']=device_id\n",
    "        temp['date'] = pd.to_datetime(temp['date'])\n",
    "        temp = temp.merge(meteo, on='date')\n",
    "        pool_by_day[naming] = temp\n",
    "\n",
    "\n",
    "df_arpa = pd.read_csv('../resources/dati_nrt_informambiente_mv.csv')\n",
    "\n",
    "print('end loading')"
   ],
   "metadata": {
    "collapsed": false,
    "ExecuteTime": {
     "end_time": "2023-09-02T13:11:30.210795100Z",
     "start_time": "2023-09-02T13:11:12.538778100Z"
    }
   }
  },
  {
   "cell_type": "code",
   "execution_count": 22,
   "outputs": [],
   "source": [
    "clean_file_153 = pd.concat([pool['CAP153_1'],pool['CAP153_2'],pool['CAP153_3']])\n",
    "clean_file_153.to_csv('../resources/concat_files/all_153.csv')\n",
    "\n",
    "clean_file_186 = pd.concat([pool['CAP186_1'],pool['CAP186_2'],pool['CAP186_3']])\n",
    "clean_file_186.to_csv('../resources/concat_files/all_186.csv')\n",
    "\n",
    "clean_file_153_meteo =  pd.concat([pool_by_day['CAP153_1'],pool_by_day['CAP153_2'],pool_by_day['CAP153_3']])\n",
    "clean_file_153_meteo.to_csv('../resources/concat_files/all_and_meteo_153.csv')\n",
    "\n",
    "clean_file_186_meteo = pd.concat([pool_by_day['CAP186_1'],pool_by_day['CAP186_2'],pool_by_day['CAP186_3']])\n",
    "clean_file_186_meteo.to_csv('../resources/concat_files/all_and_meteo_186.csv')\n",
    "\n",
    "\n",
    "\n"
   ],
   "metadata": {
    "collapsed": false,
    "ExecuteTime": {
     "end_time": "2023-09-02T13:42:28.262270700Z",
     "start_time": "2023-09-02T13:42:22.122788600Z"
    }
   }
  },
  {
   "cell_type": "code",
   "execution_count": 8,
   "outputs": [
    {
     "data": {
      "text/plain": "Empty DataFrame\nColumns: [device_id, iaq, electrosmog_lf, wifi_level, wifi_n, temperature, humidity, air_pressure, ambient_light, tvoc, co2e, pm10, pm25, electrosmog_hf, sound, battery, main_power, air, comfort, electrosmog, date, co2]\nIndex: []\n\n[0 rows x 22 columns]",
      "text/html": "<div>\n<style scoped>\n    .dataframe tbody tr th:only-of-type {\n        vertical-align: middle;\n    }\n\n    .dataframe tbody tr th {\n        vertical-align: top;\n    }\n\n    .dataframe thead th {\n        text-align: right;\n    }\n</style>\n<table border=\"1\" class=\"dataframe\">\n  <thead>\n    <tr style=\"text-align: right;\">\n      <th></th>\n      <th>device_id</th>\n      <th>iaq</th>\n      <th>electrosmog_lf</th>\n      <th>wifi_level</th>\n      <th>wifi_n</th>\n      <th>temperature</th>\n      <th>humidity</th>\n      <th>air_pressure</th>\n      <th>ambient_light</th>\n      <th>tvoc</th>\n      <th>...</th>\n      <th>pm25</th>\n      <th>electrosmog_hf</th>\n      <th>sound</th>\n      <th>battery</th>\n      <th>main_power</th>\n      <th>air</th>\n      <th>comfort</th>\n      <th>electrosmog</th>\n      <th>date</th>\n      <th>co2</th>\n    </tr>\n  </thead>\n  <tbody>\n  </tbody>\n</table>\n<p>0 rows × 22 columns</p>\n</div>"
     },
     "execution_count": 8,
     "metadata": {},
     "output_type": "execute_result"
    }
   ],
   "source": [
    "test = pool['CAP186_2'].copy()\n",
    "\n",
    "test = test[ (test['battery'] != 'good') & (test['battery'] != 'low') ]\n",
    "\n",
    "test"
   ],
   "metadata": {
    "collapsed": false,
    "ExecuteTime": {
     "end_time": "2023-09-02T11:42:27.648496800Z",
     "start_time": "2023-09-02T11:42:27.633041800Z"
    }
   }
  },
  {
   "cell_type": "code",
   "execution_count": null,
   "outputs": [],
   "source": [],
   "metadata": {
    "collapsed": false
   }
  },
  {
   "cell_type": "code",
   "execution_count": null,
   "outputs": [],
   "source": [],
   "metadata": {
    "collapsed": false
   }
  },
  {
   "cell_type": "code",
   "execution_count": null,
   "outputs": [],
   "source": [],
   "metadata": {
    "collapsed": false
   }
  },
  {
   "cell_type": "code",
   "execution_count": null,
   "outputs": [],
   "source": [],
   "metadata": {
    "collapsed": false
   }
  },
  {
   "cell_type": "code",
   "execution_count": null,
   "outputs": [],
   "source": [],
   "metadata": {
    "collapsed": false
   }
  },
  {
   "cell_type": "code",
   "execution_count": null,
   "outputs": [],
   "source": [
    "device_number: pd.DataFrame = pd.DataFrame()\n",
    "device_number = device_number.assign(device_id=pool_33_3['device_id'],\n",
    "                                     device_n=pool_33_3.groupby('device_id')['device_id'].transform(\n",
    "                                         'count')).drop_duplicates()\n",
    "# pool_33_3['dev_n'] = pool_33_3.groupby('device_id')['device_id'].transform('count')\n",
    "device_number"
   ],
   "metadata": {
    "collapsed": false
   }
  },
  {
   "cell_type": "markdown",
   "source": [],
   "metadata": {
    "collapsed": false
   }
  },
  {
   "cell_type": "code",
   "execution_count": null,
   "outputs": [],
   "source": [
    "# oaq --> iaq (con stesse variabili conosciute) ==> troviamo efficienza filtraggio interno"
   ],
   "metadata": {
    "collapsed": false
   }
  }
 ],
 "metadata": {
  "kernelspec": {
   "display_name": "Python 3",
   "language": "python",
   "name": "python3"
  },
  "language_info": {
   "codemirror_mode": {
    "name": "ipython",
    "version": 2
   },
   "file_extension": ".py",
   "mimetype": "text/x-python",
   "name": "python",
   "nbconvert_exporter": "python",
   "pygments_lexer": "ipython2",
   "version": "2.7.6"
  }
 },
 "nbformat": 4,
 "nbformat_minor": 0
}
