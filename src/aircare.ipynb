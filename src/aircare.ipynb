{
 "cells": [
  {
   "cell_type": "code",
   "execution_count": 4,
   "outputs": [
    {
     "name": "stdout",
     "output_type": "stream",
     "text": [
      "CAP133_1\n",
      "CAP133_2\n"
     ]
    },
    {
     "name": "stderr",
     "output_type": "stream",
     "text": [
      "C:\\Users\\lucab\\Documents\\Python\\Assignement_RBS\\src\\parsing_table.py:92: DtypeWarning: Columns (13,14,18) have mixed types. Specify dtype option on import or set low_memory=False.\n",
      "  df = pd.read_csv(str(path),\n"
     ]
    },
    {
     "name": "stdout",
     "output_type": "stream",
     "text": [
      "CAP133_3\n",
      "CAP153_1\n"
     ]
    },
    {
     "name": "stderr",
     "output_type": "stream",
     "text": [
      "C:\\Users\\lucab\\Documents\\Python\\Assignement_RBS\\src\\parsing_table.py:92: DtypeWarning: Columns (11,12,13,14,15,16,17,18,19,21) have mixed types. Specify dtype option on import or set low_memory=False.\n",
      "  df = pd.read_csv(str(path),\n"
     ]
    },
    {
     "name": "stdout",
     "output_type": "stream",
     "text": [
      "CAP153_2\n",
      "CAP153_3\n"
     ]
    },
    {
     "name": "stderr",
     "output_type": "stream",
     "text": [
      "C:\\Users\\lucab\\Documents\\Python\\Assignement_RBS\\src\\parsing_table.py:92: DtypeWarning: Columns (13,14,15,18,19) have mixed types. Specify dtype option on import or set low_memory=False.\n",
      "  df = pd.read_csv(str(path),\n"
     ]
    }
   ],
   "source": [
    "from aqi_calculation import AqiCalculation\n",
    "from parsing_table import ParsingTable\n",
    "from datetime import date\n",
    "import pandas as pd\n",
    "import numpy as np\n",
    "import os\n",
    "pd.options.mode.chained_assignment = None\n",
    "#cap133 fuori\n",
    "#cap153 centro\n",
    "################# OLD\n",
    "# path = './resources/'\n",
    "# save_path = './resources/clean_file/'\n",
    "# if not os.path.exists(save_path):\n",
    "#     os.mkdir(save_path)\n",
    "# dir_list = os.listdir(path)\n",
    "# pool = {}\n",
    "# for file in dir_list:\n",
    "#     if file.endswith('.csv'):\n",
    "#         temp:pd.DataFrame\n",
    "#         naming = file.split('.')[0].split('_')[1].replace('0', '') + '_' + file.split('.')[0].split('_')[0]\n",
    "#         print(naming)\n",
    "#         temp = pd.read_csv(path + file, engine='python')\n",
    "#         # first dataset cleaning\n",
    "#         temp = temp[temp['electrosmog'].astype(str).str.find('-') == -1]\n",
    "#         pool[naming] = temp\n",
    "#         temp.to_csv(save_path+naming+'.csv',index=False)\n",
    "#\n",
    "# date_format ='%Y-%m-%d %H:%M:%S'\n",
    "################\n",
    "path = '../resources/aqi_breakpoints.xlsx'\n",
    "aqi = AqiCalculation(dict_df=pd.read_excel(path, sheet_name=['electrosmog_lf', 'wifi_level',\n",
    "                                                                 'temperature', 'humidity', 'air_pressure',\n",
    "                                                                 'ambient_light', 'tvoc',\n",
    "                                                                 'co2', 'co2e', 'pm10', 'pm25', 'sound',\n",
    "                                                                 'electrosmog_hf']))\n",
    "\n",
    "input_path = '../resources/clean_file/'\n",
    "dir_list = os.listdir(input_path)\n",
    "pool = {}\n",
    "pt = ParsingTable()\n",
    "for file in dir_list:\n",
    "    if file.endswith('.csv'):\n",
    "        temp: pd.DataFrame\n",
    "        naming = file.split('.')[0]\n",
    "        print(naming)\n",
    "        temp = pt.parse(input_path=input_path + file)\n",
    "        pool[naming] = temp\n",
    "\n",
    "df_arpa = pd.read_csv('../resources/dati_nrt_informambiente_mv.csv')\n"
   ],
   "metadata": {
    "collapsed": false,
    "ExecuteTime": {
     "end_time": "2023-08-26T12:16:45.482688600Z",
     "start_time": "2023-08-26T12:16:37.299818700Z"
    }
   }
  },
  {
   "cell_type": "code",
   "execution_count": 5,
   "outputs": [
    {
     "data": {
      "text/plain": "                                                    FID   network_name   \n0     dati_nrt_informambiente_mv.fid-1ea878b4_188f89...            NaN  \\\n1     dati_nrt_informambiente_mv.fid-1ea878b4_188f89...  Regione Lazio   \n2     dati_nrt_informambiente_mv.fid-1ea878b4_188f89...  Regione Lazio   \n3     dati_nrt_informambiente_mv.fid-1ea878b4_188f89...  Regione Lazio   \n4     dati_nrt_informambiente_mv.fid-1ea878b4_188f89...  Regione Lazio   \n...                                                 ...            ...   \n1459  dati_nrt_informambiente_mv.fid-1ea878b4_188f89...  Regione Lazio   \n1460  dati_nrt_informambiente_mv.fid-1ea878b4_188f89...  Regione Lazio   \n1461  dati_nrt_informambiente_mv.fid-1ea878b4_188f89...  Regione Lazio   \n1462  dati_nrt_informambiente_mv.fid-1ea878b4_188f89...  Regione Lazio   \n1463  dati_nrt_informambiente_mv.fid-1ea878b4_188f89...  Regione Lazio   \n\n           station_name region_name  station_id station_eu_code   \n0                   NaN         NaN         NaN             NaN  \\\n1     Tolfa Braccianese       LAZIO    252899.0         IT2305A   \n2     Tolfa Braccianese       LAZIO    252899.0         IT2305A   \n3     Tolfa Braccianese       LAZIO    252899.0         IT2305A   \n4     Tolfa Braccianese       LAZIO    252899.0         IT2305A   \n...                 ...         ...         ...             ...   \n1459          ALLUMIERE       LAZIO    251025.0         IT0884A   \n1460          ALLUMIERE       LAZIO    251025.0         IT0884A   \n1461          ALLUMIERE       LAZIO    251025.0         IT0884A   \n1462          ALLUMIERE       LAZIO    251025.0         IT0884A   \n1463          ALLUMIERE       LAZIO    251025.0         IT0884A   \n\n     municipality_name                              station_municipality   \n0                  NaN                                               NaN  \\\n1                Tolfa  via Braccianese-Claudia-tennis club - Tolfa (RM)   \n2                Tolfa  via Braccianese-Claudia-tennis club - Tolfa (RM)   \n3                Tolfa  via Braccianese-Claudia-tennis club - Tolfa (RM)   \n4                Tolfa  via Braccianese-Claudia-tennis club - Tolfa (RM)   \n...                ...                                               ...   \n1459         Allumiere                  VIA DEL FAGGETO - Allumiere (RM)   \n1460         Allumiere                  VIA DEL FAGGETO - Allumiere (RM)   \n1461         Allumiere                  VIA DEL FAGGETO - Allumiere (RM)   \n1462         Allumiere                  VIA DEL FAGGETO - Allumiere (RM)   \n1463         Allumiere                  VIA DEL FAGGETO - Allumiere (RM)   \n\n                 station_position  station_lat  ...   \n0                             NaN          NaN  ...  \\\n1       POINT (11.9235 42.152861)    42.152861  ...   \n2       POINT (11.9235 42.152861)    42.152861  ...   \n3       POINT (11.9235 42.152861)    42.152861  ...   \n4       POINT (11.9235 42.152861)    42.152861  ...   \n...                           ...          ...  ...   \n1459  POINT (11.908954 42.157856)    42.157856  ...   \n1460  POINT (11.908954 42.157856)    42.157856  ...   \n1461  POINT (11.908954 42.157856)    42.157856  ...   \n1462  POINT (11.908954 42.157856)    42.157856  ...   \n1463  POINT (11.908954 42.157856)    42.157856  ...   \n\n          observation_unit_label  primary_observation_notation   \n0                            NaN                           NaN  \\\n1     Micrograms per cubic meter                           day   \n2     Micrograms per cubic meter                           day   \n3     Micrograms per cubic meter                           day   \n4     Micrograms per cubic meter                           day   \n...                          ...                           ...   \n1459  Micrograms per cubic meter                           day   \n1460  Micrograms per cubic meter                           day   \n1461  Micrograms per cubic meter                           day   \n1462  Micrograms per cubic meter                           day   \n1463  Micrograms per cubic meter                           day   \n\n      primary_observation_label data_record_id sampling_point_id    row_id   \n0                           NaN            NaN               NaN       NaN  \\\n1            Daily average/mean    306794525.0         1018674.0   54073.0   \n2            Daily average/mean    307254325.0         1018674.0   54074.0   \n3            Daily average/mean    303422828.0         1018674.0   54066.0   \n4            Daily average/mean    303912994.0         1018674.0   54067.0   \n...                         ...            ...               ...       ...   \n1459         Daily average/mean    313883393.0         1018556.0  138749.0   \n1460         Daily average/mean    314170199.0         1018556.0  138750.0   \n1461         Daily average/mean    314457679.0         1018556.0  138751.0   \n1462         Daily average/mean    314776177.0         1018556.0  138752.0   \n1463         Daily average/mean    315085246.0         1018556.0  138753.0   \n\n     flag_cur_snapshot pollutant_level measurement_type_label   \n0                  NaN             NaN                    NaN  \\\n1                  0.0             6.0      Metodo Automatico   \n2                  0.0             6.0      Metodo Automatico   \n3                  0.0             6.0      Metodo Automatico   \n4                  0.0             6.0      Metodo Automatico   \n...                ...             ...                    ...   \n1459               0.0             6.0      Metodo Automatico   \n1460               0.0             6.0      Metodo Automatico   \n1461               0.0             5.0      Metodo Automatico   \n1462               0.0             6.0      Metodo Automatico   \n1463               0.0             6.0      Metodo Automatico   \n\n     measurement_method_label  \n0                         NaN  \n1        Beta ray attenuation  \n2        Beta ray attenuation  \n3        Beta ray attenuation  \n4        Beta ray attenuation  \n...                       ...  \n1459     Beta ray attenuation  \n1460     Beta ray attenuation  \n1461     Beta ray attenuation  \n1462     Beta ray attenuation  \n1463     Beta ray attenuation  \n\n[1464 rows x 32 columns]",
      "text/html": "<div>\n<style scoped>\n    .dataframe tbody tr th:only-of-type {\n        vertical-align: middle;\n    }\n\n    .dataframe tbody tr th {\n        vertical-align: top;\n    }\n\n    .dataframe thead th {\n        text-align: right;\n    }\n</style>\n<table border=\"1\" class=\"dataframe\">\n  <thead>\n    <tr style=\"text-align: right;\">\n      <th></th>\n      <th>FID</th>\n      <th>network_name</th>\n      <th>station_name</th>\n      <th>region_name</th>\n      <th>station_id</th>\n      <th>station_eu_code</th>\n      <th>municipality_name</th>\n      <th>station_municipality</th>\n      <th>station_position</th>\n      <th>station_lat</th>\n      <th>...</th>\n      <th>observation_unit_label</th>\n      <th>primary_observation_notation</th>\n      <th>primary_observation_label</th>\n      <th>data_record_id</th>\n      <th>sampling_point_id</th>\n      <th>row_id</th>\n      <th>flag_cur_snapshot</th>\n      <th>pollutant_level</th>\n      <th>measurement_type_label</th>\n      <th>measurement_method_label</th>\n    </tr>\n  </thead>\n  <tbody>\n    <tr>\n      <th>0</th>\n      <td>dati_nrt_informambiente_mv.fid-1ea878b4_188f89...</td>\n      <td>NaN</td>\n      <td>NaN</td>\n      <td>NaN</td>\n      <td>NaN</td>\n      <td>NaN</td>\n      <td>NaN</td>\n      <td>NaN</td>\n      <td>NaN</td>\n      <td>NaN</td>\n      <td>...</td>\n      <td>NaN</td>\n      <td>NaN</td>\n      <td>NaN</td>\n      <td>NaN</td>\n      <td>NaN</td>\n      <td>NaN</td>\n      <td>NaN</td>\n      <td>NaN</td>\n      <td>NaN</td>\n      <td>NaN</td>\n    </tr>\n    <tr>\n      <th>1</th>\n      <td>dati_nrt_informambiente_mv.fid-1ea878b4_188f89...</td>\n      <td>Regione Lazio</td>\n      <td>Tolfa Braccianese</td>\n      <td>LAZIO</td>\n      <td>252899.0</td>\n      <td>IT2305A</td>\n      <td>Tolfa</td>\n      <td>via Braccianese-Claudia-tennis club - Tolfa (RM)</td>\n      <td>POINT (11.9235 42.152861)</td>\n      <td>42.152861</td>\n      <td>...</td>\n      <td>Micrograms per cubic meter</td>\n      <td>day</td>\n      <td>Daily average/mean</td>\n      <td>306794525.0</td>\n      <td>1018674.0</td>\n      <td>54073.0</td>\n      <td>0.0</td>\n      <td>6.0</td>\n      <td>Metodo Automatico</td>\n      <td>Beta ray attenuation</td>\n    </tr>\n    <tr>\n      <th>2</th>\n      <td>dati_nrt_informambiente_mv.fid-1ea878b4_188f89...</td>\n      <td>Regione Lazio</td>\n      <td>Tolfa Braccianese</td>\n      <td>LAZIO</td>\n      <td>252899.0</td>\n      <td>IT2305A</td>\n      <td>Tolfa</td>\n      <td>via Braccianese-Claudia-tennis club - Tolfa (RM)</td>\n      <td>POINT (11.9235 42.152861)</td>\n      <td>42.152861</td>\n      <td>...</td>\n      <td>Micrograms per cubic meter</td>\n      <td>day</td>\n      <td>Daily average/mean</td>\n      <td>307254325.0</td>\n      <td>1018674.0</td>\n      <td>54074.0</td>\n      <td>0.0</td>\n      <td>6.0</td>\n      <td>Metodo Automatico</td>\n      <td>Beta ray attenuation</td>\n    </tr>\n    <tr>\n      <th>3</th>\n      <td>dati_nrt_informambiente_mv.fid-1ea878b4_188f89...</td>\n      <td>Regione Lazio</td>\n      <td>Tolfa Braccianese</td>\n      <td>LAZIO</td>\n      <td>252899.0</td>\n      <td>IT2305A</td>\n      <td>Tolfa</td>\n      <td>via Braccianese-Claudia-tennis club - Tolfa (RM)</td>\n      <td>POINT (11.9235 42.152861)</td>\n      <td>42.152861</td>\n      <td>...</td>\n      <td>Micrograms per cubic meter</td>\n      <td>day</td>\n      <td>Daily average/mean</td>\n      <td>303422828.0</td>\n      <td>1018674.0</td>\n      <td>54066.0</td>\n      <td>0.0</td>\n      <td>6.0</td>\n      <td>Metodo Automatico</td>\n      <td>Beta ray attenuation</td>\n    </tr>\n    <tr>\n      <th>4</th>\n      <td>dati_nrt_informambiente_mv.fid-1ea878b4_188f89...</td>\n      <td>Regione Lazio</td>\n      <td>Tolfa Braccianese</td>\n      <td>LAZIO</td>\n      <td>252899.0</td>\n      <td>IT2305A</td>\n      <td>Tolfa</td>\n      <td>via Braccianese-Claudia-tennis club - Tolfa (RM)</td>\n      <td>POINT (11.9235 42.152861)</td>\n      <td>42.152861</td>\n      <td>...</td>\n      <td>Micrograms per cubic meter</td>\n      <td>day</td>\n      <td>Daily average/mean</td>\n      <td>303912994.0</td>\n      <td>1018674.0</td>\n      <td>54067.0</td>\n      <td>0.0</td>\n      <td>6.0</td>\n      <td>Metodo Automatico</td>\n      <td>Beta ray attenuation</td>\n    </tr>\n    <tr>\n      <th>...</th>\n      <td>...</td>\n      <td>...</td>\n      <td>...</td>\n      <td>...</td>\n      <td>...</td>\n      <td>...</td>\n      <td>...</td>\n      <td>...</td>\n      <td>...</td>\n      <td>...</td>\n      <td>...</td>\n      <td>...</td>\n      <td>...</td>\n      <td>...</td>\n      <td>...</td>\n      <td>...</td>\n      <td>...</td>\n      <td>...</td>\n      <td>...</td>\n      <td>...</td>\n      <td>...</td>\n    </tr>\n    <tr>\n      <th>1459</th>\n      <td>dati_nrt_informambiente_mv.fid-1ea878b4_188f89...</td>\n      <td>Regione Lazio</td>\n      <td>ALLUMIERE</td>\n      <td>LAZIO</td>\n      <td>251025.0</td>\n      <td>IT0884A</td>\n      <td>Allumiere</td>\n      <td>VIA DEL FAGGETO - Allumiere (RM)</td>\n      <td>POINT (11.908954 42.157856)</td>\n      <td>42.157856</td>\n      <td>...</td>\n      <td>Micrograms per cubic meter</td>\n      <td>day</td>\n      <td>Daily average/mean</td>\n      <td>313883393.0</td>\n      <td>1018556.0</td>\n      <td>138749.0</td>\n      <td>0.0</td>\n      <td>6.0</td>\n      <td>Metodo Automatico</td>\n      <td>Beta ray attenuation</td>\n    </tr>\n    <tr>\n      <th>1460</th>\n      <td>dati_nrt_informambiente_mv.fid-1ea878b4_188f89...</td>\n      <td>Regione Lazio</td>\n      <td>ALLUMIERE</td>\n      <td>LAZIO</td>\n      <td>251025.0</td>\n      <td>IT0884A</td>\n      <td>Allumiere</td>\n      <td>VIA DEL FAGGETO - Allumiere (RM)</td>\n      <td>POINT (11.908954 42.157856)</td>\n      <td>42.157856</td>\n      <td>...</td>\n      <td>Micrograms per cubic meter</td>\n      <td>day</td>\n      <td>Daily average/mean</td>\n      <td>314170199.0</td>\n      <td>1018556.0</td>\n      <td>138750.0</td>\n      <td>0.0</td>\n      <td>6.0</td>\n      <td>Metodo Automatico</td>\n      <td>Beta ray attenuation</td>\n    </tr>\n    <tr>\n      <th>1461</th>\n      <td>dati_nrt_informambiente_mv.fid-1ea878b4_188f89...</td>\n      <td>Regione Lazio</td>\n      <td>ALLUMIERE</td>\n      <td>LAZIO</td>\n      <td>251025.0</td>\n      <td>IT0884A</td>\n      <td>Allumiere</td>\n      <td>VIA DEL FAGGETO - Allumiere (RM)</td>\n      <td>POINT (11.908954 42.157856)</td>\n      <td>42.157856</td>\n      <td>...</td>\n      <td>Micrograms per cubic meter</td>\n      <td>day</td>\n      <td>Daily average/mean</td>\n      <td>314457679.0</td>\n      <td>1018556.0</td>\n      <td>138751.0</td>\n      <td>0.0</td>\n      <td>5.0</td>\n      <td>Metodo Automatico</td>\n      <td>Beta ray attenuation</td>\n    </tr>\n    <tr>\n      <th>1462</th>\n      <td>dati_nrt_informambiente_mv.fid-1ea878b4_188f89...</td>\n      <td>Regione Lazio</td>\n      <td>ALLUMIERE</td>\n      <td>LAZIO</td>\n      <td>251025.0</td>\n      <td>IT0884A</td>\n      <td>Allumiere</td>\n      <td>VIA DEL FAGGETO - Allumiere (RM)</td>\n      <td>POINT (11.908954 42.157856)</td>\n      <td>42.157856</td>\n      <td>...</td>\n      <td>Micrograms per cubic meter</td>\n      <td>day</td>\n      <td>Daily average/mean</td>\n      <td>314776177.0</td>\n      <td>1018556.0</td>\n      <td>138752.0</td>\n      <td>0.0</td>\n      <td>6.0</td>\n      <td>Metodo Automatico</td>\n      <td>Beta ray attenuation</td>\n    </tr>\n    <tr>\n      <th>1463</th>\n      <td>dati_nrt_informambiente_mv.fid-1ea878b4_188f89...</td>\n      <td>Regione Lazio</td>\n      <td>ALLUMIERE</td>\n      <td>LAZIO</td>\n      <td>251025.0</td>\n      <td>IT0884A</td>\n      <td>Allumiere</td>\n      <td>VIA DEL FAGGETO - Allumiere (RM)</td>\n      <td>POINT (11.908954 42.157856)</td>\n      <td>42.157856</td>\n      <td>...</td>\n      <td>Micrograms per cubic meter</td>\n      <td>day</td>\n      <td>Daily average/mean</td>\n      <td>315085246.0</td>\n      <td>1018556.0</td>\n      <td>138753.0</td>\n      <td>0.0</td>\n      <td>6.0</td>\n      <td>Metodo Automatico</td>\n      <td>Beta ray attenuation</td>\n    </tr>\n  </tbody>\n</table>\n<p>1464 rows × 32 columns</p>\n</div>"
     },
     "execution_count": 5,
     "metadata": {},
     "output_type": "execute_result"
    }
   ],
   "source": [
    "df_arpa"
   ],
   "metadata": {
    "collapsed": false,
    "ExecuteTime": {
     "end_time": "2023-08-26T12:17:16.424523600Z",
     "start_time": "2023-08-26T12:17:16.408877700Z"
    }
   }
  },
  {
   "cell_type": "code",
   "execution_count": 6,
   "outputs": [
    {
     "data": {
      "text/plain": "        device_id   iaq  electrosmog_lf  wifi_level  wifi_n  temperature   \n0             429  25.0           187.0       -35.0    11.0         21.7  \\\n1             429  25.0           184.0       -43.0    16.0         22.1   \n2             429  25.0           186.0       -33.0    15.0         22.5   \n3             429  25.0           198.0       -34.0    12.0         22.8   \n4             429  25.0           203.0       -34.0    12.0         22.8   \n...           ...   ...             ...         ...     ...          ...   \n245662        429  93.5           200.0       -65.0    11.0         23.5   \n245663        429  94.1           190.0       -64.0    18.0         23.5   \n245664        429  85.9           183.0       -65.0    14.0         23.5   \n245665        429  83.2           183.0       -63.0    15.0         23.5   \n245666        429  78.5           182.0       -63.0    15.0         23.4   \n\n        humidity  air_pressure  ambient_light    tvoc  ...  sound   \n0           43.9        1028.1          263.3     0.0  ...   50.8  \\\n1           42.7        1028.0          264.3     0.0  ...   55.0   \n2           41.7        1027.9          266.3     0.0  ...   55.3   \n3           41.0        1028.0          270.7     0.0  ...   54.5   \n4           40.4        1027.9          273.6     0.0  ...   51.4   \n...          ...           ...            ...     ...  ...    ...   \n245662      40.7        1019.6           37.3  2000.0  ...   59.9   \n245663      40.6        1019.6           37.9  1912.0  ...   60.5   \n245664      40.5        1019.6           38.3  1855.0  ...   58.8   \n245665      40.4        1019.5           38.5  1763.0  ...   62.5   \n245666      40.3        1019.4           38.7  1648.0  ...   61.2   \n\n        electrosmog_hf  battery  main_power  air  comfort electrosmog   \n0                  1.1     good          on   88      100         100  \\\n1                  0.9     good          on   88      100         100   \n2                  1.0     good          on   88      100         100   \n3                  0.9     good          on   88      100         100   \n4                  1.0     good          on   88      100         100   \n...                ...      ...         ...  ...      ...         ...   \n245662             0.4     good          on   75      100         100   \n245663             0.4     good          on   75       95         100   \n245664             0.4     good          on   75      100         100   \n245665             0.4     good          on   75       95         100   \n245666             0.4     good          on   75       95         100   \n\n           rom_unixtime(ts)  category_aqi  max_aqi  \n0       2020-01-15 11:12:52         sound   117.80  \n1       2020-01-15 11:17:49         sound   132.50  \n2       2020-01-15 11:22:47         sound   133.55  \n3       2020-01-15 11:27:46         sound   130.75  \n4       2020-01-15 11:32:44         sound   119.90  \n...                     ...           ...      ...  \n245662  2023-04-28 10:39:14          co2e   160.92  \n245663  2023-04-28 10:44:12          co2e   160.15  \n245664  2023-04-28 10:49:09          co2e   159.69  \n245665  2023-04-28 10:54:08          co2e   159.02  \n245666  2023-04-28 10:59:06          co2e   158.17  \n\n[245667 rows x 24 columns]",
      "text/html": "<div>\n<style scoped>\n    .dataframe tbody tr th:only-of-type {\n        vertical-align: middle;\n    }\n\n    .dataframe tbody tr th {\n        vertical-align: top;\n    }\n\n    .dataframe thead th {\n        text-align: right;\n    }\n</style>\n<table border=\"1\" class=\"dataframe\">\n  <thead>\n    <tr style=\"text-align: right;\">\n      <th></th>\n      <th>device_id</th>\n      <th>iaq</th>\n      <th>electrosmog_lf</th>\n      <th>wifi_level</th>\n      <th>wifi_n</th>\n      <th>temperature</th>\n      <th>humidity</th>\n      <th>air_pressure</th>\n      <th>ambient_light</th>\n      <th>tvoc</th>\n      <th>...</th>\n      <th>sound</th>\n      <th>electrosmog_hf</th>\n      <th>battery</th>\n      <th>main_power</th>\n      <th>air</th>\n      <th>comfort</th>\n      <th>electrosmog</th>\n      <th>rom_unixtime(ts)</th>\n      <th>category_aqi</th>\n      <th>max_aqi</th>\n    </tr>\n  </thead>\n  <tbody>\n    <tr>\n      <th>0</th>\n      <td>429</td>\n      <td>25.0</td>\n      <td>187.0</td>\n      <td>-35.0</td>\n      <td>11.0</td>\n      <td>21.7</td>\n      <td>43.9</td>\n      <td>1028.1</td>\n      <td>263.3</td>\n      <td>0.0</td>\n      <td>...</td>\n      <td>50.8</td>\n      <td>1.1</td>\n      <td>good</td>\n      <td>on</td>\n      <td>88</td>\n      <td>100</td>\n      <td>100</td>\n      <td>2020-01-15 11:12:52</td>\n      <td>sound</td>\n      <td>117.80</td>\n    </tr>\n    <tr>\n      <th>1</th>\n      <td>429</td>\n      <td>25.0</td>\n      <td>184.0</td>\n      <td>-43.0</td>\n      <td>16.0</td>\n      <td>22.1</td>\n      <td>42.7</td>\n      <td>1028.0</td>\n      <td>264.3</td>\n      <td>0.0</td>\n      <td>...</td>\n      <td>55.0</td>\n      <td>0.9</td>\n      <td>good</td>\n      <td>on</td>\n      <td>88</td>\n      <td>100</td>\n      <td>100</td>\n      <td>2020-01-15 11:17:49</td>\n      <td>sound</td>\n      <td>132.50</td>\n    </tr>\n    <tr>\n      <th>2</th>\n      <td>429</td>\n      <td>25.0</td>\n      <td>186.0</td>\n      <td>-33.0</td>\n      <td>15.0</td>\n      <td>22.5</td>\n      <td>41.7</td>\n      <td>1027.9</td>\n      <td>266.3</td>\n      <td>0.0</td>\n      <td>...</td>\n      <td>55.3</td>\n      <td>1.0</td>\n      <td>good</td>\n      <td>on</td>\n      <td>88</td>\n      <td>100</td>\n      <td>100</td>\n      <td>2020-01-15 11:22:47</td>\n      <td>sound</td>\n      <td>133.55</td>\n    </tr>\n    <tr>\n      <th>3</th>\n      <td>429</td>\n      <td>25.0</td>\n      <td>198.0</td>\n      <td>-34.0</td>\n      <td>12.0</td>\n      <td>22.8</td>\n      <td>41.0</td>\n      <td>1028.0</td>\n      <td>270.7</td>\n      <td>0.0</td>\n      <td>...</td>\n      <td>54.5</td>\n      <td>0.9</td>\n      <td>good</td>\n      <td>on</td>\n      <td>88</td>\n      <td>100</td>\n      <td>100</td>\n      <td>2020-01-15 11:27:46</td>\n      <td>sound</td>\n      <td>130.75</td>\n    </tr>\n    <tr>\n      <th>4</th>\n      <td>429</td>\n      <td>25.0</td>\n      <td>203.0</td>\n      <td>-34.0</td>\n      <td>12.0</td>\n      <td>22.8</td>\n      <td>40.4</td>\n      <td>1027.9</td>\n      <td>273.6</td>\n      <td>0.0</td>\n      <td>...</td>\n      <td>51.4</td>\n      <td>1.0</td>\n      <td>good</td>\n      <td>on</td>\n      <td>88</td>\n      <td>100</td>\n      <td>100</td>\n      <td>2020-01-15 11:32:44</td>\n      <td>sound</td>\n      <td>119.90</td>\n    </tr>\n    <tr>\n      <th>...</th>\n      <td>...</td>\n      <td>...</td>\n      <td>...</td>\n      <td>...</td>\n      <td>...</td>\n      <td>...</td>\n      <td>...</td>\n      <td>...</td>\n      <td>...</td>\n      <td>...</td>\n      <td>...</td>\n      <td>...</td>\n      <td>...</td>\n      <td>...</td>\n      <td>...</td>\n      <td>...</td>\n      <td>...</td>\n      <td>...</td>\n      <td>...</td>\n      <td>...</td>\n      <td>...</td>\n    </tr>\n    <tr>\n      <th>245662</th>\n      <td>429</td>\n      <td>93.5</td>\n      <td>200.0</td>\n      <td>-65.0</td>\n      <td>11.0</td>\n      <td>23.5</td>\n      <td>40.7</td>\n      <td>1019.6</td>\n      <td>37.3</td>\n      <td>2000.0</td>\n      <td>...</td>\n      <td>59.9</td>\n      <td>0.4</td>\n      <td>good</td>\n      <td>on</td>\n      <td>75</td>\n      <td>100</td>\n      <td>100</td>\n      <td>2023-04-28 10:39:14</td>\n      <td>co2e</td>\n      <td>160.92</td>\n    </tr>\n    <tr>\n      <th>245663</th>\n      <td>429</td>\n      <td>94.1</td>\n      <td>190.0</td>\n      <td>-64.0</td>\n      <td>18.0</td>\n      <td>23.5</td>\n      <td>40.6</td>\n      <td>1019.6</td>\n      <td>37.9</td>\n      <td>1912.0</td>\n      <td>...</td>\n      <td>60.5</td>\n      <td>0.4</td>\n      <td>good</td>\n      <td>on</td>\n      <td>75</td>\n      <td>95</td>\n      <td>100</td>\n      <td>2023-04-28 10:44:12</td>\n      <td>co2e</td>\n      <td>160.15</td>\n    </tr>\n    <tr>\n      <th>245664</th>\n      <td>429</td>\n      <td>85.9</td>\n      <td>183.0</td>\n      <td>-65.0</td>\n      <td>14.0</td>\n      <td>23.5</td>\n      <td>40.5</td>\n      <td>1019.6</td>\n      <td>38.3</td>\n      <td>1855.0</td>\n      <td>...</td>\n      <td>58.8</td>\n      <td>0.4</td>\n      <td>good</td>\n      <td>on</td>\n      <td>75</td>\n      <td>100</td>\n      <td>100</td>\n      <td>2023-04-28 10:49:09</td>\n      <td>co2e</td>\n      <td>159.69</td>\n    </tr>\n    <tr>\n      <th>245665</th>\n      <td>429</td>\n      <td>83.2</td>\n      <td>183.0</td>\n      <td>-63.0</td>\n      <td>15.0</td>\n      <td>23.5</td>\n      <td>40.4</td>\n      <td>1019.5</td>\n      <td>38.5</td>\n      <td>1763.0</td>\n      <td>...</td>\n      <td>62.5</td>\n      <td>0.4</td>\n      <td>good</td>\n      <td>on</td>\n      <td>75</td>\n      <td>95</td>\n      <td>100</td>\n      <td>2023-04-28 10:54:08</td>\n      <td>co2e</td>\n      <td>159.02</td>\n    </tr>\n    <tr>\n      <th>245666</th>\n      <td>429</td>\n      <td>78.5</td>\n      <td>182.0</td>\n      <td>-63.0</td>\n      <td>15.0</td>\n      <td>23.4</td>\n      <td>40.3</td>\n      <td>1019.4</td>\n      <td>38.7</td>\n      <td>1648.0</td>\n      <td>...</td>\n      <td>61.2</td>\n      <td>0.4</td>\n      <td>good</td>\n      <td>on</td>\n      <td>75</td>\n      <td>95</td>\n      <td>100</td>\n      <td>2023-04-28 10:59:06</td>\n      <td>co2e</td>\n      <td>158.17</td>\n    </tr>\n  </tbody>\n</table>\n<p>245667 rows × 24 columns</p>\n</div>"
     },
     "execution_count": 6,
     "metadata": {},
     "output_type": "execute_result"
    }
   ],
   "source": [
    "test = aqi.calculate_aqi_on_df( pool['CAP153_2'])\n",
    "test"
   ],
   "metadata": {
    "collapsed": false,
    "ExecuteTime": {
     "end_time": "2023-08-26T12:38:08.683912300Z",
     "start_time": "2023-08-26T12:36:22.067062300Z"
    }
   }
  },
  {
   "cell_type": "code",
   "execution_count": 24,
   "outputs": [
    {
     "name": "stdout",
     "output_type": "stream",
     "text": [
      "          iaq     rom_unixtime(ts)\n",
      "0        25.0  2020-01-15 11:32:41\n",
      "6        25.3  2020-01-15 11:58:56\n",
      "11       28.4  2020-01-15 12:23:49\n",
      "15       27.7  2020-01-15 12:43:43\n",
      "18       32.4  2020-01-15 12:58:37\n",
      "...       ...                  ...\n",
      "156081  279.1  2021-11-30 21:21:41\n",
      "156137  271.0  2021-12-01 01:40:01\n",
      "156138  310.3  2021-12-01 01:44:58\n",
      "158834  261.5  2021-12-10 08:54:50\n",
      "170454  269.6                  NaN\n",
      "\n",
      "[2334 rows x 2 columns]\n"
     ]
    }
   ],
   "source": [
    "only_date = pool['CAP153_3'][['iaq', 'rom_unixtime(ts)']]\n",
    "print(only_date.drop_duplicates(['iaq']))"
   ],
   "metadata": {
    "collapsed": false,
    "ExecuteTime": {
     "end_time": "2023-08-19T16:12:12.473517400Z",
     "start_time": "2023-08-19T16:12:12.460821700Z"
    }
   }
  },
  {
   "cell_type": "code",
   "execution_count": null,
   "outputs": [],
   "source": [
    "CAP133_1 = pool['CAP133_1']\n",
    "test_dates = CAP133_1['from_unixtime(ts)']"
   ],
   "metadata": {
    "collapsed": false
   }
  },
  {
   "cell_type": "code",
   "execution_count": null,
   "outputs": [],
   "source": [
    "test_dates"
   ],
   "metadata": {
    "collapsed": false
   }
  },
  {
   "cell_type": "code",
   "execution_count": null,
   "outputs": [],
   "source": [
    "#trovare iaq in abase alla fascia temporale\n",
    "caap = 'CAP153_3'\n",
    "device_number = \\\n",
    "    pool[caap].assign(iaq_type=pool[caap]['iaq'], iaq_n=pool[caap].groupby('iaq')['iaq'].transform('count'))[\n",
    "        ['iaq_type', 'iaq_n']].drop_duplicates()\n",
    "device_number"
   ],
   "metadata": {
    "collapsed": false
   }
  },
  {
   "cell_type": "markdown",
   "source": [],
   "metadata": {
    "collapsed": false
   }
  },
  {
   "cell_type": "code",
   "execution_count": null,
   "outputs": [],
   "source": [
    "pool_33_3.loc[pool_33_3['main_power'] != 100, 'main_power']"
   ],
   "metadata": {
    "collapsed": false
   }
  },
  {
   "cell_type": "code",
   "execution_count": null,
   "outputs": [],
   "source": [
    "device_number: pd.DataFrame = pd.DataFrame()\n",
    "device_number = device_number.assign(device_id=pool_33_3['device_id'],\n",
    "                                     device_n=pool_33_3.groupby('device_id')['device_id'].transform(\n",
    "                                         'count')).drop_duplicates()\n",
    "# pool_33_3['dev_n'] = pool_33_3.groupby('device_id')['device_id'].transform('count')\n",
    "device_number"
   ],
   "metadata": {
    "collapsed": false
   }
  },
  {
   "cell_type": "markdown",
   "source": [],
   "metadata": {
    "collapsed": false
   }
  },
  {
   "cell_type": "code",
   "execution_count": null,
   "outputs": [],
   "source": [
    "# oaq --> iaq (con stesse variabili conosciute) ==> troviamo efficienza filtraggio interno"
   ],
   "metadata": {
    "collapsed": false
   }
  }
 ],
 "metadata": {
  "kernelspec": {
   "display_name": "Python 3",
   "language": "python",
   "name": "python3"
  },
  "language_info": {
   "codemirror_mode": {
    "name": "ipython",
    "version": 2
   },
   "file_extension": ".py",
   "mimetype": "text/x-python",
   "name": "python",
   "nbconvert_exporter": "python",
   "pygments_lexer": "ipython2",
   "version": "2.7.6"
  }
 },
 "nbformat": 4,
 "nbformat_minor": 0
}
