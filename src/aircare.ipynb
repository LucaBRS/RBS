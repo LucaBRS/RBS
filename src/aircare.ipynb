{
 "cells": [
  {
   "cell_type": "markdown",
   "source": [
    "* device_id: l'identificatore univoco\n",
    "\n",
    "\n",
    "* iaq (Indoor Air Quality): misura o un indice che valuta la qualità dell'aria interna. Calcolato considerando diversi parametri come la concentrazione di particelle in sospensione, la presenza di composti chimici nocivi o altre metriche legate alla qualità dell'aria.\n",
    "* * trovare il valore appropriato e chiedere se è inversamente proporzionale o meno\n",
    "\n",
    "\n",
    "\n",
    "* electrosmog_lf: riferimento alla misura o alla quantità di elettrosmog a bassa frequenza nell'ambiente. L'elettrosmog si riferisce alle radiazioni elettromagnetiche prodotte da dispositivi elettronici o reti wireless. La misura potrebbe indicare la quantità di radiazioni elettromagnetiche presenti nell'ambiente.\n",
    "\n",
    "\n",
    "* wifi_level: il livello di segnale o la potenza del segnale WiFi nell'ambiente. In dBm (decibel-milliwatt) o in un'altra scala di misura. Questa informazione può essere utile per valutare la copertura o la qualità del segnale WiFi nelle diverse aree dell'ufficio o dell'edificio.\n",
    "\n",
    "\n",
    "* wifi_n: numero di reti WiFi rilevate o disponibili nell'ambiente. Indica la quantità di reti wireless presenti nelle vicinanze del dispositivo di rilevamento.\n",
    "\n",
    "\n",
    "* temperature: temperatura ambientale nell'area monitorata.\n",
    "\n",
    "\n",
    "* humidity: l'umidità relativa dell'aria nell'ambiente. L'umidità relativa si riferisce alla quantità di vapore acqueo presente nell'aria rispetto alla massima quantità che l'aria potrebbe contenere a una determinata temperatura.\n",
    "\n",
    "\n",
    "* air_pressure: pressione atmosferica nell'ambiente. La pressione atmosferica è la forza esercitata dall'atmosfera sulla superficie terrestre e viene misurata solitamente in unità come Pascal (Pa) o millibar (mbar).\n",
    "\n",
    "\n",
    "* ambient_light: livello di luce ambientale nell'ambiente. Potrebbe essere espresso in unità di illuminazione come lux o in una scala relativa.\n",
    "\n",
    "\n",
    "* tvoc (Total Volatile Organic Compounds): indicazione della qualità dell'aria in relazione alla presenza di composti organici volatili. I composti organici volatili sono sostanze chimiche che possono essere rilasciate nell'aria da materiali o attività presenti nell'ambiente. Alcuni esempi di composti organici volatili includono formaldeide, benzene, toluene e altri idrocarburi. Un livello elevato di TVOC potrebbe indicare una possibile presenza di inquinanti nell'aria, che potrebbero influire sulla qualità dell'ambiente interno.\n",
    "\n",
    "\n",
    "\n",
    "Qualità dell' aria\n",
    "VOC\tppb\n",
    "CO2\tppm\n",
    "CO2 e\tppm\n",
    "PM 10\tµg/m3\n",
    "PM 2.5\tµg/m3\n",
    "IAQ\tN.A.\n",
    "\n",
    "Comfort Ambientale\n",
    "Temp\t°C\n",
    "Pressione\tmbar\n",
    "Lux\tlux\n",
    "Umidità\tRH%\n",
    "Suono\tdB\n",
    "\n",
    "Elettrosmog\n",
    "Elett. HF\tV/m\n",
    "Elett. LF\tnT\n",
    "Wifi Liv.\tdBm\n",
    "Wifi N.\tN.A.\n",
    "\n",
    "\n",
    "Normalizzazione delle variabili:\n",
    "\n",
    "Normalizza la temperatura (T) nell'intervallo da 0 a 1: T_norm = (T - T_min) / (T_max - T_min)\n",
    "Normalizza l'umidità (H) nell'intervallo da 0 a 1: H_norm = (H - H_min) / (H_max - H_min)\n",
    "Calcolo del punteggio dell'IAQ:\n",
    "\n",
    "Assegna un peso alla temperatura (w_T) e all'umidità (w_H).\n",
    "Calcola il punteggio dell'IAQ (IAQ_score) come la media ponderata dei valori normalizzati: IAQ_score = w_T * T_norm + w_H * H_norm\n",
    "\n",
    "--------------------------------------------------------------------------\n",
    "capire se c'è correlazione dei dati interni e dati esterni con stessi periodi etc...correlazione diretta o indiretta\n",
    "\n",
    "predittiva--> cosa succede nei prossimi mesi...\n",
    "    what if analysis se temp sale 1 grado cosa accade aglei altri parametri, correlazione tra i vari parametri\n",
    "    anomaly detection, dati 2 3 anni di dati capire se ci sono eventi che vanno fuori il comportamento attes--->costruire modello comportamentale \"standard\" e trovari i picchi...\n"
   ],
   "metadata": {
    "collapsed": false
   }
  },
  {
   "cell_type": "code",
   "execution_count": 2,
   "outputs": [
    {
     "name": "stdout",
     "output_type": "stream",
     "text": [
      "CAP133_1\n"
     ]
    },
    {
     "name": "stderr",
     "output_type": "stream",
     "text": [
      "C:\\Users\\lucab\\Documents\\Python\\Assignement_RBS\\parsing_table.py:56: SettingWithCopyWarning: \n",
      "A value is trying to be set on a copy of a slice from a DataFrame\n",
      "\n",
      "See the caveats in the documentation: https://pandas.pydata.org/pandas-docs/stable/user_guide/indexing.html#returning-a-view-versus-a-copy\n",
      "  res.loc[res.notna()] = pd.to_numeric(res.loc[res.notna()], errors='coerce')\n",
      "C:\\Users\\lucab\\Documents\\Python\\Assignement_RBS\\parsing_table.py:50: SettingWithCopyWarning: \n",
      "A value is trying to be set on a copy of a slice from a DataFrame\n",
      "\n",
      "See the caveats in the documentation: https://pandas.pydata.org/pandas-docs/stable/user_guide/indexing.html#returning-a-view-versus-a-copy\n",
      "  res.loc[res.notna()] = res.loc[res.notna()].apply(ParsingTable.date_converter)\n",
      "C:\\Users\\lucab\\Documents\\Python\\Assignement_RBS\\parsing_table.py:92: DtypeWarning: Columns (13,14,18) have mixed types. Specify dtype option on import or set low_memory=False.\n",
      "  df = pd.read_csv(str(path),\n",
      "C:\\Users\\lucab\\Documents\\Python\\Assignement_RBS\\parsing_table.py:56: SettingWithCopyWarning: \n",
      "A value is trying to be set on a copy of a slice from a DataFrame\n",
      "\n",
      "See the caveats in the documentation: https://pandas.pydata.org/pandas-docs/stable/user_guide/indexing.html#returning-a-view-versus-a-copy\n",
      "  res.loc[res.notna()] = pd.to_numeric(res.loc[res.notna()], errors='coerce')\n"
     ]
    },
    {
     "name": "stdout",
     "output_type": "stream",
     "text": [
      "CAP133_2\n"
     ]
    },
    {
     "name": "stderr",
     "output_type": "stream",
     "text": [
      "C:\\Users\\lucab\\Documents\\Python\\Assignement_RBS\\parsing_table.py:50: SettingWithCopyWarning: \n",
      "A value is trying to be set on a copy of a slice from a DataFrame\n",
      "\n",
      "See the caveats in the documentation: https://pandas.pydata.org/pandas-docs/stable/user_guide/indexing.html#returning-a-view-versus-a-copy\n",
      "  res.loc[res.notna()] = res.loc[res.notna()].apply(ParsingTable.date_converter)\n",
      "C:\\Users\\lucab\\Documents\\Python\\Assignement_RBS\\parsing_table.py:56: SettingWithCopyWarning: \n",
      "A value is trying to be set on a copy of a slice from a DataFrame\n",
      "\n",
      "See the caveats in the documentation: https://pandas.pydata.org/pandas-docs/stable/user_guide/indexing.html#returning-a-view-versus-a-copy\n",
      "  res.loc[res.notna()] = pd.to_numeric(res.loc[res.notna()], errors='coerce')\n"
     ]
    },
    {
     "name": "stdout",
     "output_type": "stream",
     "text": [
      "CAP133_3\n"
     ]
    },
    {
     "name": "stderr",
     "output_type": "stream",
     "text": [
      "C:\\Users\\lucab\\Documents\\Python\\Assignement_RBS\\parsing_table.py:50: SettingWithCopyWarning: \n",
      "A value is trying to be set on a copy of a slice from a DataFrame\n",
      "\n",
      "See the caveats in the documentation: https://pandas.pydata.org/pandas-docs/stable/user_guide/indexing.html#returning-a-view-versus-a-copy\n",
      "  res.loc[res.notna()] = res.loc[res.notna()].apply(ParsingTable.date_converter)\n"
     ]
    },
    {
     "name": "stdout",
     "output_type": "stream",
     "text": [
      "CAP153_1\n"
     ]
    },
    {
     "name": "stderr",
     "output_type": "stream",
     "text": [
      "C:\\Users\\lucab\\Documents\\Python\\Assignement_RBS\\parsing_table.py:92: DtypeWarning: Columns (11,12,13,14,15,16,17,18,19,21) have mixed types. Specify dtype option on import or set low_memory=False.\n",
      "  df = pd.read_csv(str(path),\n",
      "C:\\Users\\lucab\\Documents\\Python\\Assignement_RBS\\parsing_table.py:56: SettingWithCopyWarning: \n",
      "A value is trying to be set on a copy of a slice from a DataFrame\n",
      "\n",
      "See the caveats in the documentation: https://pandas.pydata.org/pandas-docs/stable/user_guide/indexing.html#returning-a-view-versus-a-copy\n",
      "  res.loc[res.notna()] = pd.to_numeric(res.loc[res.notna()], errors='coerce')\n",
      "C:\\Users\\lucab\\Documents\\Python\\Assignement_RBS\\parsing_table.py:56: SettingWithCopyWarning: \n",
      "A value is trying to be set on a copy of a slice from a DataFrame\n",
      "\n",
      "See the caveats in the documentation: https://pandas.pydata.org/pandas-docs/stable/user_guide/indexing.html#returning-a-view-versus-a-copy\n",
      "  res.loc[res.notna()] = pd.to_numeric(res.loc[res.notna()], errors='coerce')\n",
      "C:\\Users\\lucab\\Documents\\Python\\Assignement_RBS\\parsing_table.py:56: SettingWithCopyWarning: \n",
      "A value is trying to be set on a copy of a slice from a DataFrame\n",
      "\n",
      "See the caveats in the documentation: https://pandas.pydata.org/pandas-docs/stable/user_guide/indexing.html#returning-a-view-versus-a-copy\n",
      "  res.loc[res.notna()] = pd.to_numeric(res.loc[res.notna()], errors='coerce')\n",
      "C:\\Users\\lucab\\Documents\\Python\\Assignement_RBS\\parsing_table.py:50: SettingWithCopyWarning: \n",
      "A value is trying to be set on a copy of a slice from a DataFrame\n",
      "\n",
      "See the caveats in the documentation: https://pandas.pydata.org/pandas-docs/stable/user_guide/indexing.html#returning-a-view-versus-a-copy\n",
      "  res.loc[res.notna()] = res.loc[res.notna()].apply(ParsingTable.date_converter)\n"
     ]
    },
    {
     "name": "stdout",
     "output_type": "stream",
     "text": [
      "CAP153_2\n"
     ]
    },
    {
     "name": "stderr",
     "output_type": "stream",
     "text": [
      "C:\\Users\\lucab\\Documents\\Python\\Assignement_RBS\\parsing_table.py:50: SettingWithCopyWarning: \n",
      "A value is trying to be set on a copy of a slice from a DataFrame\n",
      "\n",
      "See the caveats in the documentation: https://pandas.pydata.org/pandas-docs/stable/user_guide/indexing.html#returning-a-view-versus-a-copy\n",
      "  res.loc[res.notna()] = res.loc[res.notna()].apply(ParsingTable.date_converter)\n"
     ]
    },
    {
     "name": "stdout",
     "output_type": "stream",
     "text": [
      "CAP153_3\n"
     ]
    },
    {
     "name": "stderr",
     "output_type": "stream",
     "text": [
      "C:\\Users\\lucab\\Documents\\Python\\Assignement_RBS\\parsing_table.py:92: DtypeWarning: Columns (13,14,15,18,19) have mixed types. Specify dtype option on import or set low_memory=False.\n",
      "  df = pd.read_csv(str(path),\n",
      "C:\\Users\\lucab\\Documents\\Python\\Assignement_RBS\\parsing_table.py:56: SettingWithCopyWarning: \n",
      "A value is trying to be set on a copy of a slice from a DataFrame\n",
      "\n",
      "See the caveats in the documentation: https://pandas.pydata.org/pandas-docs/stable/user_guide/indexing.html#returning-a-view-versus-a-copy\n",
      "  res.loc[res.notna()] = pd.to_numeric(res.loc[res.notna()], errors='coerce')\n",
      "C:\\Users\\lucab\\Documents\\Python\\Assignement_RBS\\parsing_table.py:56: SettingWithCopyWarning: \n",
      "A value is trying to be set on a copy of a slice from a DataFrame\n",
      "\n",
      "See the caveats in the documentation: https://pandas.pydata.org/pandas-docs/stable/user_guide/indexing.html#returning-a-view-versus-a-copy\n",
      "  res.loc[res.notna()] = pd.to_numeric(res.loc[res.notna()], errors='coerce')\n",
      "C:\\Users\\lucab\\Documents\\Python\\Assignement_RBS\\parsing_table.py:56: SettingWithCopyWarning: \n",
      "A value is trying to be set on a copy of a slice from a DataFrame\n",
      "\n",
      "See the caveats in the documentation: https://pandas.pydata.org/pandas-docs/stable/user_guide/indexing.html#returning-a-view-versus-a-copy\n",
      "  res.loc[res.notna()] = pd.to_numeric(res.loc[res.notna()], errors='coerce')\n",
      "C:\\Users\\lucab\\Documents\\Python\\Assignement_RBS\\parsing_table.py:56: SettingWithCopyWarning: \n",
      "A value is trying to be set on a copy of a slice from a DataFrame\n",
      "\n",
      "See the caveats in the documentation: https://pandas.pydata.org/pandas-docs/stable/user_guide/indexing.html#returning-a-view-versus-a-copy\n",
      "  res.loc[res.notna()] = pd.to_numeric(res.loc[res.notna()], errors='coerce')\n",
      "C:\\Users\\lucab\\Documents\\Python\\Assignement_RBS\\parsing_table.py:56: SettingWithCopyWarning: \n",
      "A value is trying to be set on a copy of a slice from a DataFrame\n",
      "\n",
      "See the caveats in the documentation: https://pandas.pydata.org/pandas-docs/stable/user_guide/indexing.html#returning-a-view-versus-a-copy\n",
      "  res.loc[res.notna()] = pd.to_numeric(res.loc[res.notna()], errors='coerce')\n",
      "C:\\Users\\lucab\\Documents\\Python\\Assignement_RBS\\parsing_table.py:56: SettingWithCopyWarning: \n",
      "A value is trying to be set on a copy of a slice from a DataFrame\n",
      "\n",
      "See the caveats in the documentation: https://pandas.pydata.org/pandas-docs/stable/user_guide/indexing.html#returning-a-view-versus-a-copy\n",
      "  res.loc[res.notna()] = pd.to_numeric(res.loc[res.notna()], errors='coerce')\n",
      "C:\\Users\\lucab\\Documents\\Python\\Assignement_RBS\\parsing_table.py:56: SettingWithCopyWarning: \n",
      "A value is trying to be set on a copy of a slice from a DataFrame\n",
      "\n",
      "See the caveats in the documentation: https://pandas.pydata.org/pandas-docs/stable/user_guide/indexing.html#returning-a-view-versus-a-copy\n",
      "  res.loc[res.notna()] = pd.to_numeric(res.loc[res.notna()], errors='coerce')\n",
      "C:\\Users\\lucab\\Documents\\Python\\Assignement_RBS\\parsing_table.py:56: SettingWithCopyWarning: \n",
      "A value is trying to be set on a copy of a slice from a DataFrame\n",
      "\n",
      "See the caveats in the documentation: https://pandas.pydata.org/pandas-docs/stable/user_guide/indexing.html#returning-a-view-versus-a-copy\n",
      "  res.loc[res.notna()] = pd.to_numeric(res.loc[res.notna()], errors='coerce')\n",
      "C:\\Users\\lucab\\Documents\\Python\\Assignement_RBS\\parsing_table.py:56: SettingWithCopyWarning: \n",
      "A value is trying to be set on a copy of a slice from a DataFrame\n",
      "\n",
      "See the caveats in the documentation: https://pandas.pydata.org/pandas-docs/stable/user_guide/indexing.html#returning-a-view-versus-a-copy\n",
      "  res.loc[res.notna()] = pd.to_numeric(res.loc[res.notna()], errors='coerce')\n",
      "C:\\Users\\lucab\\Documents\\Python\\Assignement_RBS\\parsing_table.py:56: SettingWithCopyWarning: \n",
      "A value is trying to be set on a copy of a slice from a DataFrame\n",
      "\n",
      "See the caveats in the documentation: https://pandas.pydata.org/pandas-docs/stable/user_guide/indexing.html#returning-a-view-versus-a-copy\n",
      "  res.loc[res.notna()] = pd.to_numeric(res.loc[res.notna()], errors='coerce')\n",
      "C:\\Users\\lucab\\Documents\\Python\\Assignement_RBS\\parsing_table.py:56: SettingWithCopyWarning: \n",
      "A value is trying to be set on a copy of a slice from a DataFrame\n",
      "\n",
      "See the caveats in the documentation: https://pandas.pydata.org/pandas-docs/stable/user_guide/indexing.html#returning-a-view-versus-a-copy\n",
      "  res.loc[res.notna()] = pd.to_numeric(res.loc[res.notna()], errors='coerce')\n",
      "C:\\Users\\lucab\\Documents\\Python\\Assignement_RBS\\parsing_table.py:56: SettingWithCopyWarning: \n",
      "A value is trying to be set on a copy of a slice from a DataFrame\n",
      "\n",
      "See the caveats in the documentation: https://pandas.pydata.org/pandas-docs/stable/user_guide/indexing.html#returning-a-view-versus-a-copy\n",
      "  res.loc[res.notna()] = pd.to_numeric(res.loc[res.notna()], errors='coerce')\n",
      "C:\\Users\\lucab\\Documents\\Python\\Assignement_RBS\\parsing_table.py:56: SettingWithCopyWarning: \n",
      "A value is trying to be set on a copy of a slice from a DataFrame\n",
      "\n",
      "See the caveats in the documentation: https://pandas.pydata.org/pandas-docs/stable/user_guide/indexing.html#returning-a-view-versus-a-copy\n",
      "  res.loc[res.notna()] = pd.to_numeric(res.loc[res.notna()], errors='coerce')\n",
      "C:\\Users\\lucab\\Documents\\Python\\Assignement_RBS\\parsing_table.py:56: SettingWithCopyWarning: \n",
      "A value is trying to be set on a copy of a slice from a DataFrame\n",
      "\n",
      "See the caveats in the documentation: https://pandas.pydata.org/pandas-docs/stable/user_guide/indexing.html#returning-a-view-versus-a-copy\n",
      "  res.loc[res.notna()] = pd.to_numeric(res.loc[res.notna()], errors='coerce')\n",
      "C:\\Users\\lucab\\Documents\\Python\\Assignement_RBS\\parsing_table.py:50: SettingWithCopyWarning: \n",
      "A value is trying to be set on a copy of a slice from a DataFrame\n",
      "\n",
      "See the caveats in the documentation: https://pandas.pydata.org/pandas-docs/stable/user_guide/indexing.html#returning-a-view-versus-a-copy\n",
      "  res.loc[res.notna()] = res.loc[res.notna()].apply(ParsingTable.date_converter)\n"
     ]
    }
   ],
   "source": [
    "from parsing_table import ParsingTable\n",
    "from datetime import date\n",
    "\n",
    "import pandas as pd\n",
    "import numpy as np\n",
    "import os\n",
    "\n",
    "#cap133 fuori\n",
    "#cap153 centro\n",
    "################# OLD\n",
    "# path = './resources/'\n",
    "# save_path = './resources/clean_file/'\n",
    "# if not os.path.exists(save_path):\n",
    "#     os.mkdir(save_path)\n",
    "# dir_list = os.listdir(path)\n",
    "# pool = {}\n",
    "# for file in dir_list:\n",
    "#     if file.endswith('.csv'):\n",
    "#         temp:pd.DataFrame\n",
    "#         naming = file.split('.')[0].split('_')[1].replace('0', '') + '_' + file.split('.')[0].split('_')[0]\n",
    "#         print(naming)\n",
    "#         temp = pd.read_csv(path + file, engine='python')\n",
    "#         # first dataset cleaning\n",
    "#         temp = temp[temp['electrosmog'].astype(str).str.find('-') == -1]\n",
    "#         pool[naming] = temp\n",
    "#         temp.to_csv(save_path+naming+'.csv',index=False)\n",
    "#\n",
    "# date_format ='%Y-%m-%d %H:%M:%S'\n",
    "################\n",
    "\n",
    "input_path = './resources/clean_file/'\n",
    "dir_list = os.listdir(input_path)\n",
    "pool = {}\n",
    "pt= ParsingTable()\n",
    "for file in dir_list:\n",
    "    if file.endswith('.csv'):\n",
    "        temp: pd.DataFrame\n",
    "        naming = file.split('.')[0]\n",
    "        print(naming)\n",
    "        temp = pt.parse(input_path=input_path+file)\n",
    "        pool[naming] = temp\n",
    "\n"
   ],
   "metadata": {
    "collapsed": false,
    "ExecuteTime": {
     "end_time": "2023-08-19T15:33:19.510542100Z",
     "start_time": "2023-08-19T15:33:11.037791300Z"
    }
   }
  },
  {
   "cell_type": "code",
   "execution_count": 15,
   "outputs": [
    {
     "data": {
      "text/plain": "pandas._libs.tslibs.timestamps.Timestamp"
     },
     "execution_count": 15,
     "metadata": {},
     "output_type": "execute_result"
    }
   ],
   "source": [
    "type( pool['CAP153_3']['rom_unixtime(ts)'][0])"
   ],
   "metadata": {
    "collapsed": false,
    "ExecuteTime": {
     "end_time": "2023-08-19T16:02:12.735236600Z",
     "start_time": "2023-08-19T16:02:12.713356400Z"
    }
   }
  },
  {
   "cell_type": "code",
   "execution_count": 24,
   "outputs": [
    {
     "name": "stdout",
     "output_type": "stream",
     "text": [
      "          iaq     rom_unixtime(ts)\n",
      "0        25.0  2020-01-15 11:32:41\n",
      "6        25.3  2020-01-15 11:58:56\n",
      "11       28.4  2020-01-15 12:23:49\n",
      "15       27.7  2020-01-15 12:43:43\n",
      "18       32.4  2020-01-15 12:58:37\n",
      "...       ...                  ...\n",
      "156081  279.1  2021-11-30 21:21:41\n",
      "156137  271.0  2021-12-01 01:40:01\n",
      "156138  310.3  2021-12-01 01:44:58\n",
      "158834  261.5  2021-12-10 08:54:50\n",
      "170454  269.6                  NaN\n",
      "\n",
      "[2334 rows x 2 columns]\n"
     ]
    }
   ],
   "source": [
    "only_date= pool['CAP153_3'][['iaq','rom_unixtime(ts)']]\n",
    "print(only_date.drop_duplicates(['iaq']))"
   ],
   "metadata": {
    "collapsed": false,
    "ExecuteTime": {
     "end_time": "2023-08-19T16:12:12.473517400Z",
     "start_time": "2023-08-19T16:12:12.460821700Z"
    }
   }
  },
  {
   "cell_type": "code",
   "execution_count": null,
   "outputs": [],
   "source": [
    "CAP133_1 = pool['CAP133_1']\n",
    "test_dates = CAP133_1['from_unixtime(ts)']"
   ],
   "metadata": {
    "collapsed": false
   }
  },
  {
   "cell_type": "code",
   "execution_count": null,
   "outputs": [],
   "source": [
    "test_dates"
   ],
   "metadata": {
    "collapsed": false
   }
  },
  {
   "cell_type": "code",
   "execution_count": null,
   "outputs": [],
   "source": [
    "#trovare iaq in abase alla fascia temporale\n",
    "caap = 'CAP153_3'\n",
    "device_number = \\\n",
    "    pool[caap].assign(iaq_type=pool[caap]['iaq'], iaq_n=pool[caap].groupby('iaq')['iaq'].transform('count'))[\n",
    "        ['iaq_type', 'iaq_n']].drop_duplicates()\n",
    "device_number"
   ],
   "metadata": {
    "collapsed": false
   }
  },
  {
   "cell_type": "markdown",
   "source": [],
   "metadata": {
    "collapsed": false
   }
  },
  {
   "cell_type": "code",
   "execution_count": null,
   "outputs": [],
   "source": [
    "pool_33_3.loc[pool_33_3['main_power'] != 100, 'main_power']"
   ],
   "metadata": {
    "collapsed": false
   }
  },
  {
   "cell_type": "code",
   "execution_count": null,
   "outputs": [],
   "source": [
    "device_number: pd.DataFrame = pd.DataFrame()\n",
    "device_number = device_number.assign(device_id=pool_33_3['device_id'],\n",
    "                                     device_n=pool_33_3.groupby('device_id')['device_id'].transform(\n",
    "                                         'count')).drop_duplicates()\n",
    "# pool_33_3['dev_n'] = pool_33_3.groupby('device_id')['device_id'].transform('count')\n",
    "device_number"
   ],
   "metadata": {
    "collapsed": false
   }
  },
  {
   "cell_type": "markdown",
   "source": [],
   "metadata": {
    "collapsed": false
   }
  },
  {
   "cell_type": "code",
   "execution_count": null,
   "outputs": [],
   "source": [
    "# oaq --> iaq (con stesse variabili conosciute) ==> troviamo efficienza filtraggio interno"
   ],
   "metadata": {
    "collapsed": false
   }
  }
 ],
 "metadata": {
  "kernelspec": {
   "display_name": "Python 3",
   "language": "python",
   "name": "python3"
  },
  "language_info": {
   "codemirror_mode": {
    "name": "ipython",
    "version": 2
   },
   "file_extension": ".py",
   "mimetype": "text/x-python",
   "name": "python",
   "nbconvert_exporter": "python",
   "pygments_lexer": "ipython2",
   "version": "2.7.6"
  }
 },
 "nbformat": 4,
 "nbformat_minor": 0
}
