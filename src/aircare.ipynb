{
 "cells": [
  {
   "cell_type": "markdown",
   "source": [
    "* device_id: l'identificatore univoco\n",
    "\n",
    "\n",
    "* iaq (Indoor Air Quality): misura o un indice che valuta la qualità dell'aria interna. Calcolato considerando diversi parametri come la concentrazione di particelle in sospensione, la presenza di composti chimici nocivi o altre metriche legate alla qualità dell'aria.\n",
    "* * trovare il valore appropriato e chiedere se è inversamente proporzionale o meno\n",
    "\n",
    "\n",
    "\n",
    "* electrosmog_lf: riferimento alla misura o alla quantità di elettrosmog a bassa frequenza nell'ambiente. L'elettrosmog si riferisce alle radiazioni elettromagnetiche prodotte da dispositivi elettronici o reti wireless. La misura potrebbe indicare la quantità di radiazioni elettromagnetiche presenti nell'ambiente.\n",
    "\n",
    "\n",
    "* wifi_level: il livello di segnale o la potenza del segnale WiFi nell'ambiente. In dBm (decibel-milliwatt) o in un'altra scala di misura. Questa informazione può essere utile per valutare la copertura o la qualità del segnale WiFi nelle diverse aree dell'ufficio o dell'edificio.\n",
    "\n",
    "\n",
    "* wifi_n: numero di reti WiFi rilevate o disponibili nell'ambiente. Indica la quantità di reti wireless presenti nelle vicinanze del dispositivo di rilevamento.\n",
    "\n",
    "\n",
    "* temperature: temperatura ambientale nell'area monitorata.\n",
    "\n",
    "\n",
    "* humidity: l'umidità relativa dell'aria nell'ambiente. L'umidità relativa si riferisce alla quantità di vapore acqueo presente nell'aria rispetto alla massima quantità che l'aria potrebbe contenere a una determinata temperatura.\n",
    "\n",
    "\n",
    "* air_pressure: pressione atmosferica nell'ambiente. La pressione atmosferica è la forza esercitata dall'atmosfera sulla superficie terrestre e viene misurata solitamente in unità come Pascal (Pa) o millibar (mbar).\n",
    "\n",
    "\n",
    "* ambient_light: livello di luce ambientale nell'ambiente. Potrebbe essere espresso in unità di illuminazione come lux o in una scala relativa.\n",
    "\n",
    "\n",
    "* tvoc (Total Volatile Organic Compounds): indicazione della qualità dell'aria in relazione alla presenza di composti organici volatili. I composti organici volatili sono sostanze chimiche che possono essere rilasciate nell'aria da materiali o attività presenti nell'ambiente. Alcuni esempi di composti organici volatili includono formaldeide, benzene, toluene e altri idrocarburi. Un livello elevato di TVOC potrebbe indicare una possibile presenza di inquinanti nell'aria, che potrebbero influire sulla qualità dell'ambiente interno.\n",
    "\n",
    "\n",
    "\n",
    "Qualità dell' aria\n",
    "VOC\tppb\n",
    "CO2\tppm\n",
    "CO2 e\tppm\n",
    "PM 10\tµg/m3\n",
    "PM 2.5\tµg/m3\n",
    "IAQ\tN.A.\n",
    "\n",
    "Comfort Ambientale\n",
    "Temp\t°C\n",
    "Pressione\tmbar\n",
    "Lux\tlux\n",
    "Umidità\tRH%\n",
    "Suono\tdB\n",
    "\n",
    "Elettrosmog\n",
    "Elett. HF\tV/m\n",
    "Elett. LF\tnT\n",
    "Wifi Liv.\tdBm\n",
    "Wifi N.\tN.A.\n",
    "\n",
    "\n",
    "Normalizzazione delle variabili:\n",
    "\n",
    "Normalizza la temperatura (T) nell'intervallo da 0 a 1: T_norm = (T - T_min) / (T_max - T_min)\n",
    "Normalizza l'umidità (H) nell'intervallo da 0 a 1: H_norm = (H - H_min) / (H_max - H_min)\n",
    "Calcolo del punteggio dell'IAQ:\n",
    "\n",
    "Assegna un peso alla temperatura (w_T) e all'umidità (w_H).\n",
    "Calcola il punteggio dell'IAQ (IAQ_score) come la media ponderata dei valori normalizzati: IAQ_score = w_T * T_norm + w_H * H_norm\n",
    "\n",
    "--------------------------------------------------------------------------\n",
    "capire se c'è correlazione dei dati interni e dati esterni con stessi periodi etc...correlazione diretta o indiretta\n",
    "\n",
    "predittiva--> cosa succede nei prossimi mesi...\n",
    "    what if analysis se temp sale 1 grado cosa accade aglei altri parametri, correlazione tra i vari parametri\n",
    "    anomaly detection, dati 2 3 anni di dati capire se ci sono eventi che vanno fuori il comportamento attes--->costruire modello comportamentale \"standard\" e trovari i picchi...\n"
   ],
   "metadata": {
    "collapsed": false
   }
  },
  {
   "cell_type": "code",
   "execution_count": 1,
   "outputs": [
    {
     "name": "stdout",
     "output_type": "stream",
     "text": [
      "CAP133_1\n"
     ]
    },
    {
     "name": "stderr",
     "output_type": "stream",
     "text": [
      "C:\\Users\\lucab\\Documents\\Python\\Assignement_RBS\\src\\parsing_table.py:56: SettingWithCopyWarning: \n",
      "A value is trying to be set on a copy of a slice from a DataFrame\n",
      "\n",
      "See the caveats in the documentation: https://pandas.pydata.org/pandas-docs/stable/user_guide/indexing.html#returning-a-view-versus-a-copy\n",
      "  res.loc[res.notna()] = pd.to_numeric(res.loc[res.notna()], errors='coerce').round(3)\n",
      "C:\\Users\\lucab\\Documents\\Python\\Assignement_RBS\\src\\parsing_table.py:50: SettingWithCopyWarning: \n",
      "A value is trying to be set on a copy of a slice from a DataFrame\n",
      "\n",
      "See the caveats in the documentation: https://pandas.pydata.org/pandas-docs/stable/user_guide/indexing.html#returning-a-view-versus-a-copy\n",
      "  res.loc[res.notna()] = res.loc[res.notna()].apply(ParsingTable.date_converter)\n",
      "C:\\Users\\lucab\\Documents\\Python\\Assignement_RBS\\src\\parsing_table.py:92: DtypeWarning: Columns (13,14,18) have mixed types. Specify dtype option on import or set low_memory=False.\n",
      "  df = pd.read_csv(str(path),\n",
      "C:\\Users\\lucab\\Documents\\Python\\Assignement_RBS\\src\\parsing_table.py:56: SettingWithCopyWarning: \n",
      "A value is trying to be set on a copy of a slice from a DataFrame\n",
      "\n",
      "See the caveats in the documentation: https://pandas.pydata.org/pandas-docs/stable/user_guide/indexing.html#returning-a-view-versus-a-copy\n",
      "  res.loc[res.notna()] = pd.to_numeric(res.loc[res.notna()], errors='coerce').round(3)\n"
     ]
    },
    {
     "name": "stdout",
     "output_type": "stream",
     "text": [
      "CAP133_2\n"
     ]
    },
    {
     "name": "stderr",
     "output_type": "stream",
     "text": [
      "C:\\Users\\lucab\\Documents\\Python\\Assignement_RBS\\src\\parsing_table.py:50: SettingWithCopyWarning: \n",
      "A value is trying to be set on a copy of a slice from a DataFrame\n",
      "\n",
      "See the caveats in the documentation: https://pandas.pydata.org/pandas-docs/stable/user_guide/indexing.html#returning-a-view-versus-a-copy\n",
      "  res.loc[res.notna()] = res.loc[res.notna()].apply(ParsingTable.date_converter)\n",
      "C:\\Users\\lucab\\Documents\\Python\\Assignement_RBS\\src\\parsing_table.py:56: SettingWithCopyWarning: \n",
      "A value is trying to be set on a copy of a slice from a DataFrame\n",
      "\n",
      "See the caveats in the documentation: https://pandas.pydata.org/pandas-docs/stable/user_guide/indexing.html#returning-a-view-versus-a-copy\n",
      "  res.loc[res.notna()] = pd.to_numeric(res.loc[res.notna()], errors='coerce').round(3)\n"
     ]
    },
    {
     "name": "stdout",
     "output_type": "stream",
     "text": [
      "CAP133_3\n"
     ]
    },
    {
     "name": "stderr",
     "output_type": "stream",
     "text": [
      "C:\\Users\\lucab\\Documents\\Python\\Assignement_RBS\\src\\parsing_table.py:50: SettingWithCopyWarning: \n",
      "A value is trying to be set on a copy of a slice from a DataFrame\n",
      "\n",
      "See the caveats in the documentation: https://pandas.pydata.org/pandas-docs/stable/user_guide/indexing.html#returning-a-view-versus-a-copy\n",
      "  res.loc[res.notna()] = res.loc[res.notna()].apply(ParsingTable.date_converter)\n"
     ]
    },
    {
     "name": "stdout",
     "output_type": "stream",
     "text": [
      "CAP153_1\n"
     ]
    },
    {
     "name": "stderr",
     "output_type": "stream",
     "text": [
      "C:\\Users\\lucab\\Documents\\Python\\Assignement_RBS\\src\\parsing_table.py:92: DtypeWarning: Columns (11,12,13,14,15,16,17,18,19,21) have mixed types. Specify dtype option on import or set low_memory=False.\n",
      "  df = pd.read_csv(str(path),\n",
      "C:\\Users\\lucab\\Documents\\Python\\Assignement_RBS\\src\\parsing_table.py:56: SettingWithCopyWarning: \n",
      "A value is trying to be set on a copy of a slice from a DataFrame\n",
      "\n",
      "See the caveats in the documentation: https://pandas.pydata.org/pandas-docs/stable/user_guide/indexing.html#returning-a-view-versus-a-copy\n",
      "  res.loc[res.notna()] = pd.to_numeric(res.loc[res.notna()], errors='coerce').round(3)\n",
      "C:\\Users\\lucab\\Documents\\Python\\Assignement_RBS\\src\\parsing_table.py:56: SettingWithCopyWarning: \n",
      "A value is trying to be set on a copy of a slice from a DataFrame\n",
      "\n",
      "See the caveats in the documentation: https://pandas.pydata.org/pandas-docs/stable/user_guide/indexing.html#returning-a-view-versus-a-copy\n",
      "  res.loc[res.notna()] = pd.to_numeric(res.loc[res.notna()], errors='coerce').round(3)\n",
      "C:\\Users\\lucab\\Documents\\Python\\Assignement_RBS\\src\\parsing_table.py:56: SettingWithCopyWarning: \n",
      "A value is trying to be set on a copy of a slice from a DataFrame\n",
      "\n",
      "See the caveats in the documentation: https://pandas.pydata.org/pandas-docs/stable/user_guide/indexing.html#returning-a-view-versus-a-copy\n",
      "  res.loc[res.notna()] = pd.to_numeric(res.loc[res.notna()], errors='coerce').round(3)\n",
      "C:\\Users\\lucab\\Documents\\Python\\Assignement_RBS\\src\\parsing_table.py:50: SettingWithCopyWarning: \n",
      "A value is trying to be set on a copy of a slice from a DataFrame\n",
      "\n",
      "See the caveats in the documentation: https://pandas.pydata.org/pandas-docs/stable/user_guide/indexing.html#returning-a-view-versus-a-copy\n",
      "  res.loc[res.notna()] = res.loc[res.notna()].apply(ParsingTable.date_converter)\n"
     ]
    },
    {
     "name": "stdout",
     "output_type": "stream",
     "text": [
      "CAP153_2\n"
     ]
    },
    {
     "name": "stderr",
     "output_type": "stream",
     "text": [
      "C:\\Users\\lucab\\Documents\\Python\\Assignement_RBS\\src\\parsing_table.py:50: SettingWithCopyWarning: \n",
      "A value is trying to be set on a copy of a slice from a DataFrame\n",
      "\n",
      "See the caveats in the documentation: https://pandas.pydata.org/pandas-docs/stable/user_guide/indexing.html#returning-a-view-versus-a-copy\n",
      "  res.loc[res.notna()] = res.loc[res.notna()].apply(ParsingTable.date_converter)\n"
     ]
    },
    {
     "name": "stdout",
     "output_type": "stream",
     "text": [
      "CAP153_3\n"
     ]
    },
    {
     "name": "stderr",
     "output_type": "stream",
     "text": [
      "C:\\Users\\lucab\\Documents\\Python\\Assignement_RBS\\src\\parsing_table.py:92: DtypeWarning: Columns (13,14,15,18,19) have mixed types. Specify dtype option on import or set low_memory=False.\n",
      "  df = pd.read_csv(str(path),\n",
      "C:\\Users\\lucab\\Documents\\Python\\Assignement_RBS\\src\\parsing_table.py:56: SettingWithCopyWarning: \n",
      "A value is trying to be set on a copy of a slice from a DataFrame\n",
      "\n",
      "See the caveats in the documentation: https://pandas.pydata.org/pandas-docs/stable/user_guide/indexing.html#returning-a-view-versus-a-copy\n",
      "  res.loc[res.notna()] = pd.to_numeric(res.loc[res.notna()], errors='coerce').round(3)\n",
      "C:\\Users\\lucab\\Documents\\Python\\Assignement_RBS\\src\\parsing_table.py:56: SettingWithCopyWarning: \n",
      "A value is trying to be set on a copy of a slice from a DataFrame\n",
      "\n",
      "See the caveats in the documentation: https://pandas.pydata.org/pandas-docs/stable/user_guide/indexing.html#returning-a-view-versus-a-copy\n",
      "  res.loc[res.notna()] = pd.to_numeric(res.loc[res.notna()], errors='coerce').round(3)\n",
      "C:\\Users\\lucab\\Documents\\Python\\Assignement_RBS\\src\\parsing_table.py:56: SettingWithCopyWarning: \n",
      "A value is trying to be set on a copy of a slice from a DataFrame\n",
      "\n",
      "See the caveats in the documentation: https://pandas.pydata.org/pandas-docs/stable/user_guide/indexing.html#returning-a-view-versus-a-copy\n",
      "  res.loc[res.notna()] = pd.to_numeric(res.loc[res.notna()], errors='coerce').round(3)\n",
      "C:\\Users\\lucab\\Documents\\Python\\Assignement_RBS\\src\\parsing_table.py:56: SettingWithCopyWarning: \n",
      "A value is trying to be set on a copy of a slice from a DataFrame\n",
      "\n",
      "See the caveats in the documentation: https://pandas.pydata.org/pandas-docs/stable/user_guide/indexing.html#returning-a-view-versus-a-copy\n",
      "  res.loc[res.notna()] = pd.to_numeric(res.loc[res.notna()], errors='coerce').round(3)\n",
      "C:\\Users\\lucab\\Documents\\Python\\Assignement_RBS\\src\\parsing_table.py:56: SettingWithCopyWarning: \n",
      "A value is trying to be set on a copy of a slice from a DataFrame\n",
      "\n",
      "See the caveats in the documentation: https://pandas.pydata.org/pandas-docs/stable/user_guide/indexing.html#returning-a-view-versus-a-copy\n",
      "  res.loc[res.notna()] = pd.to_numeric(res.loc[res.notna()], errors='coerce').round(3)\n",
      "C:\\Users\\lucab\\Documents\\Python\\Assignement_RBS\\src\\parsing_table.py:56: SettingWithCopyWarning: \n",
      "A value is trying to be set on a copy of a slice from a DataFrame\n",
      "\n",
      "See the caveats in the documentation: https://pandas.pydata.org/pandas-docs/stable/user_guide/indexing.html#returning-a-view-versus-a-copy\n",
      "  res.loc[res.notna()] = pd.to_numeric(res.loc[res.notna()], errors='coerce').round(3)\n",
      "C:\\Users\\lucab\\Documents\\Python\\Assignement_RBS\\src\\parsing_table.py:56: SettingWithCopyWarning: \n",
      "A value is trying to be set on a copy of a slice from a DataFrame\n",
      "\n",
      "See the caveats in the documentation: https://pandas.pydata.org/pandas-docs/stable/user_guide/indexing.html#returning-a-view-versus-a-copy\n",
      "  res.loc[res.notna()] = pd.to_numeric(res.loc[res.notna()], errors='coerce').round(3)\n",
      "C:\\Users\\lucab\\Documents\\Python\\Assignement_RBS\\src\\parsing_table.py:56: SettingWithCopyWarning: \n",
      "A value is trying to be set on a copy of a slice from a DataFrame\n",
      "\n",
      "See the caveats in the documentation: https://pandas.pydata.org/pandas-docs/stable/user_guide/indexing.html#returning-a-view-versus-a-copy\n",
      "  res.loc[res.notna()] = pd.to_numeric(res.loc[res.notna()], errors='coerce').round(3)\n",
      "C:\\Users\\lucab\\Documents\\Python\\Assignement_RBS\\src\\parsing_table.py:56: SettingWithCopyWarning: \n",
      "A value is trying to be set on a copy of a slice from a DataFrame\n",
      "\n",
      "See the caveats in the documentation: https://pandas.pydata.org/pandas-docs/stable/user_guide/indexing.html#returning-a-view-versus-a-copy\n",
      "  res.loc[res.notna()] = pd.to_numeric(res.loc[res.notna()], errors='coerce').round(3)\n",
      "C:\\Users\\lucab\\Documents\\Python\\Assignement_RBS\\src\\parsing_table.py:56: SettingWithCopyWarning: \n",
      "A value is trying to be set on a copy of a slice from a DataFrame\n",
      "\n",
      "See the caveats in the documentation: https://pandas.pydata.org/pandas-docs/stable/user_guide/indexing.html#returning-a-view-versus-a-copy\n",
      "  res.loc[res.notna()] = pd.to_numeric(res.loc[res.notna()], errors='coerce').round(3)\n",
      "C:\\Users\\lucab\\Documents\\Python\\Assignement_RBS\\src\\parsing_table.py:56: SettingWithCopyWarning: \n",
      "A value is trying to be set on a copy of a slice from a DataFrame\n",
      "\n",
      "See the caveats in the documentation: https://pandas.pydata.org/pandas-docs/stable/user_guide/indexing.html#returning-a-view-versus-a-copy\n",
      "  res.loc[res.notna()] = pd.to_numeric(res.loc[res.notna()], errors='coerce').round(3)\n",
      "C:\\Users\\lucab\\Documents\\Python\\Assignement_RBS\\src\\parsing_table.py:56: SettingWithCopyWarning: \n",
      "A value is trying to be set on a copy of a slice from a DataFrame\n",
      "\n",
      "See the caveats in the documentation: https://pandas.pydata.org/pandas-docs/stable/user_guide/indexing.html#returning-a-view-versus-a-copy\n",
      "  res.loc[res.notna()] = pd.to_numeric(res.loc[res.notna()], errors='coerce').round(3)\n",
      "C:\\Users\\lucab\\Documents\\Python\\Assignement_RBS\\src\\parsing_table.py:56: SettingWithCopyWarning: \n",
      "A value is trying to be set on a copy of a slice from a DataFrame\n",
      "\n",
      "See the caveats in the documentation: https://pandas.pydata.org/pandas-docs/stable/user_guide/indexing.html#returning-a-view-versus-a-copy\n",
      "  res.loc[res.notna()] = pd.to_numeric(res.loc[res.notna()], errors='coerce').round(3)\n",
      "C:\\Users\\lucab\\Documents\\Python\\Assignement_RBS\\src\\parsing_table.py:56: SettingWithCopyWarning: \n",
      "A value is trying to be set on a copy of a slice from a DataFrame\n",
      "\n",
      "See the caveats in the documentation: https://pandas.pydata.org/pandas-docs/stable/user_guide/indexing.html#returning-a-view-versus-a-copy\n",
      "  res.loc[res.notna()] = pd.to_numeric(res.loc[res.notna()], errors='coerce').round(3)\n",
      "C:\\Users\\lucab\\Documents\\Python\\Assignement_RBS\\src\\parsing_table.py:50: SettingWithCopyWarning: \n",
      "A value is trying to be set on a copy of a slice from a DataFrame\n",
      "\n",
      "See the caveats in the documentation: https://pandas.pydata.org/pandas-docs/stable/user_guide/indexing.html#returning-a-view-versus-a-copy\n",
      "  res.loc[res.notna()] = res.loc[res.notna()].apply(ParsingTable.date_converter)\n"
     ]
    }
   ],
   "source": [
    "from aqi_calculation import AqiCalculation\n",
    "from parsing_table import ParsingTable\n",
    "from datetime import date\n",
    "\n",
    "import pandas as pd\n",
    "import numpy as np\n",
    "import os\n",
    "\n",
    "#cap133 fuori\n",
    "#cap153 centro\n",
    "################# OLD\n",
    "# path = './resources/'\n",
    "# save_path = './resources/clean_file/'\n",
    "# if not os.path.exists(save_path):\n",
    "#     os.mkdir(save_path)\n",
    "# dir_list = os.listdir(path)\n",
    "# pool = {}\n",
    "# for file in dir_list:\n",
    "#     if file.endswith('.csv'):\n",
    "#         temp:pd.DataFrame\n",
    "#         naming = file.split('.')[0].split('_')[1].replace('0', '') + '_' + file.split('.')[0].split('_')[0]\n",
    "#         print(naming)\n",
    "#         temp = pd.read_csv(path + file, engine='python')\n",
    "#         # first dataset cleaning\n",
    "#         temp = temp[temp['electrosmog'].astype(str).str.find('-') == -1]\n",
    "#         pool[naming] = temp\n",
    "#         temp.to_csv(save_path+naming+'.csv',index=False)\n",
    "#\n",
    "# date_format ='%Y-%m-%d %H:%M:%S'\n",
    "################\n",
    "path = '../resources/aqi_breakpoints.xlsx'\n",
    "aqi = AqiCalculation(dict_df=pd.read_excel(path, sheet_name=['electrosmog_lf', 'wifi_level',\n",
    "                                                                 'temperature', 'humidity', 'air_pressure',\n",
    "                                                                 'ambient_light', 'tvoc',\n",
    "                                                                 'co2', 'co2e', 'pm10', 'pm25', 'sound',\n",
    "                                                                 'electrosmog_hf']))\n",
    "\n",
    "input_path = '../resources/clean_file/'\n",
    "dir_list = os.listdir(input_path)\n",
    "pool = {}\n",
    "pt = ParsingTable()\n",
    "for file in dir_list:\n",
    "    if file.endswith('.csv'):\n",
    "        temp: pd.DataFrame\n",
    "        naming = file.split('.')[0]\n",
    "        print(naming)\n",
    "        temp = pt.parse(input_path=input_path + file)\n",
    "        pool[naming] = temp\n",
    "\n"
   ],
   "metadata": {
    "collapsed": false,
    "ExecuteTime": {
     "end_time": "2023-08-20T13:29:23.604147300Z",
     "start_time": "2023-08-20T13:29:14.897863700Z"
    }
   }
  },
  {
   "cell_type": "code",
   "execution_count": 7,
   "outputs": [
    {
     "data": {
      "text/plain": "        device_id   iaq  electrosmog_lf  wifi_level  wifi_n  temperature   \n0             429  25.0           187.0       -35.0    11.0         21.7  \\\n1             429  25.0           184.0       -43.0    16.0         22.1   \n2             429  25.0           186.0       -33.0    15.0         22.5   \n3             429  25.0           198.0       -34.0    12.0         22.8   \n4             429  25.0           203.0       -34.0    12.0         22.8   \n...           ...   ...             ...         ...     ...          ...   \n245662        429  93.5           200.0       -65.0    11.0         23.5   \n245663        429  94.1           190.0       -64.0    18.0         23.5   \n245664        429  85.9           183.0       -65.0    14.0         23.5   \n245665        429  83.2           183.0       -63.0    15.0         23.5   \n245666        429  78.5           182.0       -63.0    15.0         23.4   \n\n        humidity  air_pressure  ambient_light    tvoc  ...  sound   \n0           43.9        1028.1          263.3     0.0  ...   50.8  \\\n1           42.7        1028.0          264.3     0.0  ...   55.0   \n2           41.7        1027.9          266.3     0.0  ...   55.3   \n3           41.0        1028.0          270.7     0.0  ...   54.5   \n4           40.4        1027.9          273.6     0.0  ...   51.4   \n...          ...           ...            ...     ...  ...    ...   \n245662      40.7        1019.6           37.3  2000.0  ...   59.9   \n245663      40.6        1019.6           37.9  1912.0  ...   60.5   \n245664      40.5        1019.6           38.3  1855.0  ...   58.8   \n245665      40.4        1019.5           38.5  1763.0  ...   62.5   \n245666      40.3        1019.4           38.7  1648.0  ...   61.2   \n\n        electrosmog_hf  battery  main_power  air  comfort electrosmog   \n0                  1.1     good          on   88      100         100  \\\n1                  0.9     good          on   88      100         100   \n2                  1.0     good          on   88      100         100   \n3                  0.9     good          on   88      100         100   \n4                  1.0     good          on   88      100         100   \n...                ...      ...         ...  ...      ...         ...   \n245662             0.4     good          on   75      100         100   \n245663             0.4     good          on   75       95         100   \n245664             0.4     good          on   75      100         100   \n245665             0.4     good          on   75       95         100   \n245666             0.4     good          on   75       95         100   \n\n           rom_unixtime(ts)  category_aqi  max_aqi  \n0       2020-01-15 11:12:52         sound   117.80  \n1       2020-01-15 11:17:49         sound   132.50  \n2       2020-01-15 11:22:47         sound   133.55  \n3       2020-01-15 11:27:46         sound   130.75  \n4       2020-01-15 11:32:44         sound   119.90  \n...                     ...           ...      ...  \n245662  2023-04-28 10:39:14          co2e   160.92  \n245663  2023-04-28 10:44:12          co2e   160.15  \n245664  2023-04-28 10:49:09          co2e   159.69  \n245665  2023-04-28 10:54:08          co2e   159.02  \n245666  2023-04-28 10:59:06          co2e   158.17  \n\n[245667 rows x 24 columns]",
      "text/html": "<div>\n<style scoped>\n    .dataframe tbody tr th:only-of-type {\n        vertical-align: middle;\n    }\n\n    .dataframe tbody tr th {\n        vertical-align: top;\n    }\n\n    .dataframe thead th {\n        text-align: right;\n    }\n</style>\n<table border=\"1\" class=\"dataframe\">\n  <thead>\n    <tr style=\"text-align: right;\">\n      <th></th>\n      <th>device_id</th>\n      <th>iaq</th>\n      <th>electrosmog_lf</th>\n      <th>wifi_level</th>\n      <th>wifi_n</th>\n      <th>temperature</th>\n      <th>humidity</th>\n      <th>air_pressure</th>\n      <th>ambient_light</th>\n      <th>tvoc</th>\n      <th>...</th>\n      <th>sound</th>\n      <th>electrosmog_hf</th>\n      <th>battery</th>\n      <th>main_power</th>\n      <th>air</th>\n      <th>comfort</th>\n      <th>electrosmog</th>\n      <th>rom_unixtime(ts)</th>\n      <th>category_aqi</th>\n      <th>max_aqi</th>\n    </tr>\n  </thead>\n  <tbody>\n    <tr>\n      <th>0</th>\n      <td>429</td>\n      <td>25.0</td>\n      <td>187.0</td>\n      <td>-35.0</td>\n      <td>11.0</td>\n      <td>21.7</td>\n      <td>43.9</td>\n      <td>1028.1</td>\n      <td>263.3</td>\n      <td>0.0</td>\n      <td>...</td>\n      <td>50.8</td>\n      <td>1.1</td>\n      <td>good</td>\n      <td>on</td>\n      <td>88</td>\n      <td>100</td>\n      <td>100</td>\n      <td>2020-01-15 11:12:52</td>\n      <td>sound</td>\n      <td>117.80</td>\n    </tr>\n    <tr>\n      <th>1</th>\n      <td>429</td>\n      <td>25.0</td>\n      <td>184.0</td>\n      <td>-43.0</td>\n      <td>16.0</td>\n      <td>22.1</td>\n      <td>42.7</td>\n      <td>1028.0</td>\n      <td>264.3</td>\n      <td>0.0</td>\n      <td>...</td>\n      <td>55.0</td>\n      <td>0.9</td>\n      <td>good</td>\n      <td>on</td>\n      <td>88</td>\n      <td>100</td>\n      <td>100</td>\n      <td>2020-01-15 11:17:49</td>\n      <td>sound</td>\n      <td>132.50</td>\n    </tr>\n    <tr>\n      <th>2</th>\n      <td>429</td>\n      <td>25.0</td>\n      <td>186.0</td>\n      <td>-33.0</td>\n      <td>15.0</td>\n      <td>22.5</td>\n      <td>41.7</td>\n      <td>1027.9</td>\n      <td>266.3</td>\n      <td>0.0</td>\n      <td>...</td>\n      <td>55.3</td>\n      <td>1.0</td>\n      <td>good</td>\n      <td>on</td>\n      <td>88</td>\n      <td>100</td>\n      <td>100</td>\n      <td>2020-01-15 11:22:47</td>\n      <td>sound</td>\n      <td>133.55</td>\n    </tr>\n    <tr>\n      <th>3</th>\n      <td>429</td>\n      <td>25.0</td>\n      <td>198.0</td>\n      <td>-34.0</td>\n      <td>12.0</td>\n      <td>22.8</td>\n      <td>41.0</td>\n      <td>1028.0</td>\n      <td>270.7</td>\n      <td>0.0</td>\n      <td>...</td>\n      <td>54.5</td>\n      <td>0.9</td>\n      <td>good</td>\n      <td>on</td>\n      <td>88</td>\n      <td>100</td>\n      <td>100</td>\n      <td>2020-01-15 11:27:46</td>\n      <td>sound</td>\n      <td>130.75</td>\n    </tr>\n    <tr>\n      <th>4</th>\n      <td>429</td>\n      <td>25.0</td>\n      <td>203.0</td>\n      <td>-34.0</td>\n      <td>12.0</td>\n      <td>22.8</td>\n      <td>40.4</td>\n      <td>1027.9</td>\n      <td>273.6</td>\n      <td>0.0</td>\n      <td>...</td>\n      <td>51.4</td>\n      <td>1.0</td>\n      <td>good</td>\n      <td>on</td>\n      <td>88</td>\n      <td>100</td>\n      <td>100</td>\n      <td>2020-01-15 11:32:44</td>\n      <td>sound</td>\n      <td>119.90</td>\n    </tr>\n    <tr>\n      <th>...</th>\n      <td>...</td>\n      <td>...</td>\n      <td>...</td>\n      <td>...</td>\n      <td>...</td>\n      <td>...</td>\n      <td>...</td>\n      <td>...</td>\n      <td>...</td>\n      <td>...</td>\n      <td>...</td>\n      <td>...</td>\n      <td>...</td>\n      <td>...</td>\n      <td>...</td>\n      <td>...</td>\n      <td>...</td>\n      <td>...</td>\n      <td>...</td>\n      <td>...</td>\n      <td>...</td>\n    </tr>\n    <tr>\n      <th>245662</th>\n      <td>429</td>\n      <td>93.5</td>\n      <td>200.0</td>\n      <td>-65.0</td>\n      <td>11.0</td>\n      <td>23.5</td>\n      <td>40.7</td>\n      <td>1019.6</td>\n      <td>37.3</td>\n      <td>2000.0</td>\n      <td>...</td>\n      <td>59.9</td>\n      <td>0.4</td>\n      <td>good</td>\n      <td>on</td>\n      <td>75</td>\n      <td>100</td>\n      <td>100</td>\n      <td>2023-04-28 10:39:14</td>\n      <td>co2e</td>\n      <td>160.92</td>\n    </tr>\n    <tr>\n      <th>245663</th>\n      <td>429</td>\n      <td>94.1</td>\n      <td>190.0</td>\n      <td>-64.0</td>\n      <td>18.0</td>\n      <td>23.5</td>\n      <td>40.6</td>\n      <td>1019.6</td>\n      <td>37.9</td>\n      <td>1912.0</td>\n      <td>...</td>\n      <td>60.5</td>\n      <td>0.4</td>\n      <td>good</td>\n      <td>on</td>\n      <td>75</td>\n      <td>95</td>\n      <td>100</td>\n      <td>2023-04-28 10:44:12</td>\n      <td>co2e</td>\n      <td>160.15</td>\n    </tr>\n    <tr>\n      <th>245664</th>\n      <td>429</td>\n      <td>85.9</td>\n      <td>183.0</td>\n      <td>-65.0</td>\n      <td>14.0</td>\n      <td>23.5</td>\n      <td>40.5</td>\n      <td>1019.6</td>\n      <td>38.3</td>\n      <td>1855.0</td>\n      <td>...</td>\n      <td>58.8</td>\n      <td>0.4</td>\n      <td>good</td>\n      <td>on</td>\n      <td>75</td>\n      <td>100</td>\n      <td>100</td>\n      <td>2023-04-28 10:49:09</td>\n      <td>co2e</td>\n      <td>159.69</td>\n    </tr>\n    <tr>\n      <th>245665</th>\n      <td>429</td>\n      <td>83.2</td>\n      <td>183.0</td>\n      <td>-63.0</td>\n      <td>15.0</td>\n      <td>23.5</td>\n      <td>40.4</td>\n      <td>1019.5</td>\n      <td>38.5</td>\n      <td>1763.0</td>\n      <td>...</td>\n      <td>62.5</td>\n      <td>0.4</td>\n      <td>good</td>\n      <td>on</td>\n      <td>75</td>\n      <td>95</td>\n      <td>100</td>\n      <td>2023-04-28 10:54:08</td>\n      <td>co2e</td>\n      <td>159.02</td>\n    </tr>\n    <tr>\n      <th>245666</th>\n      <td>429</td>\n      <td>78.5</td>\n      <td>182.0</td>\n      <td>-63.0</td>\n      <td>15.0</td>\n      <td>23.4</td>\n      <td>40.3</td>\n      <td>1019.4</td>\n      <td>38.7</td>\n      <td>1648.0</td>\n      <td>...</td>\n      <td>61.2</td>\n      <td>0.4</td>\n      <td>good</td>\n      <td>on</td>\n      <td>75</td>\n      <td>95</td>\n      <td>100</td>\n      <td>2023-04-28 10:59:06</td>\n      <td>co2e</td>\n      <td>158.17</td>\n    </tr>\n  </tbody>\n</table>\n<p>245667 rows × 24 columns</p>\n</div>"
     },
     "execution_count": 7,
     "metadata": {},
     "output_type": "execute_result"
    }
   ],
   "source": [
    "test = aqi.calculate_aqi_on_df( pool['CAP153_2'])\n",
    "test"
   ],
   "metadata": {
    "collapsed": false,
    "ExecuteTime": {
     "end_time": "2023-08-20T13:41:32.905959200Z",
     "start_time": "2023-08-20T13:39:45.796092500Z"
    }
   }
  },
  {
   "cell_type": "code",
   "execution_count": 24,
   "outputs": [
    {
     "name": "stdout",
     "output_type": "stream",
     "text": [
      "          iaq     rom_unixtime(ts)\n",
      "0        25.0  2020-01-15 11:32:41\n",
      "6        25.3  2020-01-15 11:58:56\n",
      "11       28.4  2020-01-15 12:23:49\n",
      "15       27.7  2020-01-15 12:43:43\n",
      "18       32.4  2020-01-15 12:58:37\n",
      "...       ...                  ...\n",
      "156081  279.1  2021-11-30 21:21:41\n",
      "156137  271.0  2021-12-01 01:40:01\n",
      "156138  310.3  2021-12-01 01:44:58\n",
      "158834  261.5  2021-12-10 08:54:50\n",
      "170454  269.6                  NaN\n",
      "\n",
      "[2334 rows x 2 columns]\n"
     ]
    }
   ],
   "source": [
    "only_date = pool['CAP153_3'][['iaq', 'rom_unixtime(ts)']]\n",
    "print(only_date.drop_duplicates(['iaq']))"
   ],
   "metadata": {
    "collapsed": false,
    "ExecuteTime": {
     "end_time": "2023-08-19T16:12:12.473517400Z",
     "start_time": "2023-08-19T16:12:12.460821700Z"
    }
   }
  },
  {
   "cell_type": "code",
   "execution_count": null,
   "outputs": [],
   "source": [
    "CAP133_1 = pool['CAP133_1']\n",
    "test_dates = CAP133_1['from_unixtime(ts)']"
   ],
   "metadata": {
    "collapsed": false
   }
  },
  {
   "cell_type": "code",
   "execution_count": null,
   "outputs": [],
   "source": [
    "test_dates"
   ],
   "metadata": {
    "collapsed": false
   }
  },
  {
   "cell_type": "code",
   "execution_count": null,
   "outputs": [],
   "source": [
    "#trovare iaq in abase alla fascia temporale\n",
    "caap = 'CAP153_3'\n",
    "device_number = \\\n",
    "    pool[caap].assign(iaq_type=pool[caap]['iaq'], iaq_n=pool[caap].groupby('iaq')['iaq'].transform('count'))[\n",
    "        ['iaq_type', 'iaq_n']].drop_duplicates()\n",
    "device_number"
   ],
   "metadata": {
    "collapsed": false
   }
  },
  {
   "cell_type": "markdown",
   "source": [],
   "metadata": {
    "collapsed": false
   }
  },
  {
   "cell_type": "code",
   "execution_count": null,
   "outputs": [],
   "source": [
    "pool_33_3.loc[pool_33_3['main_power'] != 100, 'main_power']"
   ],
   "metadata": {
    "collapsed": false
   }
  },
  {
   "cell_type": "code",
   "execution_count": null,
   "outputs": [],
   "source": [
    "device_number: pd.DataFrame = pd.DataFrame()\n",
    "device_number = device_number.assign(device_id=pool_33_3['device_id'],\n",
    "                                     device_n=pool_33_3.groupby('device_id')['device_id'].transform(\n",
    "                                         'count')).drop_duplicates()\n",
    "# pool_33_3['dev_n'] = pool_33_3.groupby('device_id')['device_id'].transform('count')\n",
    "device_number"
   ],
   "metadata": {
    "collapsed": false
   }
  },
  {
   "cell_type": "markdown",
   "source": [],
   "metadata": {
    "collapsed": false
   }
  },
  {
   "cell_type": "code",
   "execution_count": null,
   "outputs": [],
   "source": [
    "# oaq --> iaq (con stesse variabili conosciute) ==> troviamo efficienza filtraggio interno"
   ],
   "metadata": {
    "collapsed": false
   }
  }
 ],
 "metadata": {
  "kernelspec": {
   "display_name": "Python 3",
   "language": "python",
   "name": "python3"
  },
  "language_info": {
   "codemirror_mode": {
    "name": "ipython",
    "version": 2
   },
   "file_extension": ".py",
   "mimetype": "text/x-python",
   "name": "python",
   "nbconvert_exporter": "python",
   "pygments_lexer": "ipython2",
   "version": "2.7.6"
  }
 },
 "nbformat": 4,
 "nbformat_minor": 0
}
